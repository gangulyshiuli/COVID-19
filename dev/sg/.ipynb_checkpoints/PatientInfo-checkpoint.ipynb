{
 "cells": [
  {
   "cell_type": "code",
   "execution_count": 96,
   "metadata": {},
   "outputs": [],
   "source": [
    "import pandas as pd\n",
    "import numpy as np\n",
    "\n",
    "import matplotlib.pyplot as plt\n",
    "import seaborn as sns"
   ]
  },
  {
   "cell_type": "code",
   "execution_count": 97,
   "metadata": {},
   "outputs": [
    {
     "data": {
      "text/html": [
       "<div>\n",
       "<style scoped>\n",
       "    .dataframe tbody tr th:only-of-type {\n",
       "        vertical-align: middle;\n",
       "    }\n",
       "\n",
       "    .dataframe tbody tr th {\n",
       "        vertical-align: top;\n",
       "    }\n",
       "\n",
       "    .dataframe thead th {\n",
       "        text-align: right;\n",
       "    }\n",
       "</style>\n",
       "<table border=\"1\" class=\"dataframe\">\n",
       "  <thead>\n",
       "    <tr style=\"text-align: right;\">\n",
       "      <th></th>\n",
       "      <th>patient_id</th>\n",
       "      <th>global_num</th>\n",
       "      <th>sex</th>\n",
       "      <th>birth_year</th>\n",
       "      <th>age</th>\n",
       "      <th>country</th>\n",
       "      <th>province</th>\n",
       "      <th>city</th>\n",
       "      <th>disease</th>\n",
       "      <th>infection_case</th>\n",
       "      <th>infection_order</th>\n",
       "      <th>infected_by</th>\n",
       "      <th>contact_number</th>\n",
       "      <th>symptom_onset_date</th>\n",
       "      <th>confirmed_date</th>\n",
       "      <th>released_date</th>\n",
       "      <th>deceased_date</th>\n",
       "      <th>state</th>\n",
       "    </tr>\n",
       "  </thead>\n",
       "  <tbody>\n",
       "    <tr>\n",
       "      <td>0</td>\n",
       "      <td>1000000001</td>\n",
       "      <td>2.0</td>\n",
       "      <td>male</td>\n",
       "      <td>1964.0</td>\n",
       "      <td>50s</td>\n",
       "      <td>Korea</td>\n",
       "      <td>Seoul</td>\n",
       "      <td>Gangseo-gu</td>\n",
       "      <td>NaN</td>\n",
       "      <td>overseas inflow</td>\n",
       "      <td>1.0</td>\n",
       "      <td>NaN</td>\n",
       "      <td>75.0</td>\n",
       "      <td>2020-01-22</td>\n",
       "      <td>2020-01-23</td>\n",
       "      <td>2020-02-05</td>\n",
       "      <td>NaN</td>\n",
       "      <td>released</td>\n",
       "    </tr>\n",
       "    <tr>\n",
       "      <td>1</td>\n",
       "      <td>1000000002</td>\n",
       "      <td>5.0</td>\n",
       "      <td>male</td>\n",
       "      <td>1987.0</td>\n",
       "      <td>30s</td>\n",
       "      <td>Korea</td>\n",
       "      <td>Seoul</td>\n",
       "      <td>Jungnang-gu</td>\n",
       "      <td>NaN</td>\n",
       "      <td>overseas inflow</td>\n",
       "      <td>1.0</td>\n",
       "      <td>NaN</td>\n",
       "      <td>31.0</td>\n",
       "      <td>NaN</td>\n",
       "      <td>2020-01-30</td>\n",
       "      <td>2020-03-02</td>\n",
       "      <td>NaN</td>\n",
       "      <td>released</td>\n",
       "    </tr>\n",
       "    <tr>\n",
       "      <td>2</td>\n",
       "      <td>1000000003</td>\n",
       "      <td>6.0</td>\n",
       "      <td>male</td>\n",
       "      <td>1964.0</td>\n",
       "      <td>50s</td>\n",
       "      <td>Korea</td>\n",
       "      <td>Seoul</td>\n",
       "      <td>Jongno-gu</td>\n",
       "      <td>NaN</td>\n",
       "      <td>contact with patient</td>\n",
       "      <td>2.0</td>\n",
       "      <td>2.002000e+09</td>\n",
       "      <td>17.0</td>\n",
       "      <td>NaN</td>\n",
       "      <td>2020-01-30</td>\n",
       "      <td>2020-02-19</td>\n",
       "      <td>NaN</td>\n",
       "      <td>released</td>\n",
       "    </tr>\n",
       "    <tr>\n",
       "      <td>3</td>\n",
       "      <td>1000000004</td>\n",
       "      <td>7.0</td>\n",
       "      <td>male</td>\n",
       "      <td>1991.0</td>\n",
       "      <td>20s</td>\n",
       "      <td>Korea</td>\n",
       "      <td>Seoul</td>\n",
       "      <td>Mapo-gu</td>\n",
       "      <td>NaN</td>\n",
       "      <td>overseas inflow</td>\n",
       "      <td>1.0</td>\n",
       "      <td>NaN</td>\n",
       "      <td>9.0</td>\n",
       "      <td>2020-01-26</td>\n",
       "      <td>2020-01-30</td>\n",
       "      <td>2020-02-15</td>\n",
       "      <td>NaN</td>\n",
       "      <td>released</td>\n",
       "    </tr>\n",
       "    <tr>\n",
       "      <td>4</td>\n",
       "      <td>1000000005</td>\n",
       "      <td>9.0</td>\n",
       "      <td>female</td>\n",
       "      <td>1992.0</td>\n",
       "      <td>20s</td>\n",
       "      <td>Korea</td>\n",
       "      <td>Seoul</td>\n",
       "      <td>Seongbuk-gu</td>\n",
       "      <td>NaN</td>\n",
       "      <td>contact with patient</td>\n",
       "      <td>2.0</td>\n",
       "      <td>1.000000e+09</td>\n",
       "      <td>2.0</td>\n",
       "      <td>NaN</td>\n",
       "      <td>2020-01-31</td>\n",
       "      <td>2020-02-24</td>\n",
       "      <td>NaN</td>\n",
       "      <td>released</td>\n",
       "    </tr>\n",
       "  </tbody>\n",
       "</table>\n",
       "</div>"
      ],
      "text/plain": [
       "   patient_id  global_num     sex  birth_year  age country province  \\\n",
       "0  1000000001         2.0    male      1964.0  50s   Korea    Seoul   \n",
       "1  1000000002         5.0    male      1987.0  30s   Korea    Seoul   \n",
       "2  1000000003         6.0    male      1964.0  50s   Korea    Seoul   \n",
       "3  1000000004         7.0    male      1991.0  20s   Korea    Seoul   \n",
       "4  1000000005         9.0  female      1992.0  20s   Korea    Seoul   \n",
       "\n",
       "          city disease        infection_case  infection_order   infected_by  \\\n",
       "0   Gangseo-gu     NaN       overseas inflow              1.0           NaN   \n",
       "1  Jungnang-gu     NaN       overseas inflow              1.0           NaN   \n",
       "2    Jongno-gu     NaN  contact with patient              2.0  2.002000e+09   \n",
       "3      Mapo-gu     NaN       overseas inflow              1.0           NaN   \n",
       "4  Seongbuk-gu     NaN  contact with patient              2.0  1.000000e+09   \n",
       "\n",
       "   contact_number symptom_onset_date confirmed_date released_date  \\\n",
       "0            75.0         2020-01-22     2020-01-23    2020-02-05   \n",
       "1            31.0                NaN     2020-01-30    2020-03-02   \n",
       "2            17.0                NaN     2020-01-30    2020-02-19   \n",
       "3             9.0         2020-01-26     2020-01-30    2020-02-15   \n",
       "4             2.0                NaN     2020-01-31    2020-02-24   \n",
       "\n",
       "  deceased_date     state  \n",
       "0           NaN  released  \n",
       "1           NaN  released  \n",
       "2           NaN  released  \n",
       "3           NaN  released  \n",
       "4           NaN  released  "
      ]
     },
     "execution_count": 97,
     "metadata": {},
     "output_type": "execute_result"
    }
   ],
   "source": [
    "# Read in Patient Info\n",
    "PatientInfo_data = pd.read_csv('../Data/PatientInfo.csv')\n",
    "PatientInfo_data.head()"
   ]
  },
  {
   "cell_type": "code",
   "execution_count": 98,
   "metadata": {},
   "outputs": [],
   "source": [
    "PatientRoute =  pd.read_csv('../Data/PatientRoute.csv')"
   ]
  },
  {
   "cell_type": "code",
   "execution_count": 99,
   "metadata": {},
   "outputs": [
    {
     "data": {
      "text/plain": [
       "8717.0"
      ]
     },
     "execution_count": 99,
     "metadata": {},
     "output_type": "execute_result"
    }
   ],
   "source": [
    "PatientInfo_data[\"global_num\"].max()"
   ]
  },
  {
   "cell_type": "code",
   "execution_count": 100,
   "metadata": {},
   "outputs": [
    {
     "data": {
      "text/plain": [
       "(2243, 18)"
      ]
     },
     "execution_count": 100,
     "metadata": {},
     "output_type": "execute_result"
    }
   ],
   "source": [
    "PatientInfo_data.shape"
   ]
  },
  {
   "cell_type": "code",
   "execution_count": 101,
   "metadata": {},
   "outputs": [
    {
     "data": {
      "text/html": [
       "<div>\n",
       "<style scoped>\n",
       "    .dataframe tbody tr th:only-of-type {\n",
       "        vertical-align: middle;\n",
       "    }\n",
       "\n",
       "    .dataframe tbody tr th {\n",
       "        vertical-align: top;\n",
       "    }\n",
       "\n",
       "    .dataframe thead th {\n",
       "        text-align: right;\n",
       "    }\n",
       "</style>\n",
       "<table border=\"1\" class=\"dataframe\">\n",
       "  <thead>\n",
       "    <tr style=\"text-align: right;\">\n",
       "      <th></th>\n",
       "      <th>case_id</th>\n",
       "      <th>province</th>\n",
       "      <th>city</th>\n",
       "      <th>group</th>\n",
       "      <th>infection_case</th>\n",
       "      <th>confirmed</th>\n",
       "      <th>latitude</th>\n",
       "      <th>longitude</th>\n",
       "    </tr>\n",
       "  </thead>\n",
       "  <tbody>\n",
       "    <tr>\n",
       "      <td>0</td>\n",
       "      <td>1000001</td>\n",
       "      <td>Seoul</td>\n",
       "      <td>Guro-gu</td>\n",
       "      <td>True</td>\n",
       "      <td>Guro-gu Call Center</td>\n",
       "      <td>79</td>\n",
       "      <td>37.508163</td>\n",
       "      <td>126.884387</td>\n",
       "    </tr>\n",
       "    <tr>\n",
       "      <td>1</td>\n",
       "      <td>1000002</td>\n",
       "      <td>Seoul</td>\n",
       "      <td>Dongdaemun-gu</td>\n",
       "      <td>True</td>\n",
       "      <td>Dongan Church</td>\n",
       "      <td>24</td>\n",
       "      <td>37.592888</td>\n",
       "      <td>127.056766</td>\n",
       "    </tr>\n",
       "    <tr>\n",
       "      <td>2</td>\n",
       "      <td>1000003</td>\n",
       "      <td>Seoul</td>\n",
       "      <td>Eunpyeong-gu</td>\n",
       "      <td>True</td>\n",
       "      <td>Eunpyeong St. Mary's Hospital</td>\n",
       "      <td>14</td>\n",
       "      <td>37.63369</td>\n",
       "      <td>126.9165</td>\n",
       "    </tr>\n",
       "    <tr>\n",
       "      <td>3</td>\n",
       "      <td>1000004</td>\n",
       "      <td>Seoul</td>\n",
       "      <td>Seongdong-gu</td>\n",
       "      <td>True</td>\n",
       "      <td>Seongdong-gu APT</td>\n",
       "      <td>13</td>\n",
       "      <td>37.55713</td>\n",
       "      <td>127.0403</td>\n",
       "    </tr>\n",
       "    <tr>\n",
       "      <td>4</td>\n",
       "      <td>1000005</td>\n",
       "      <td>Seoul</td>\n",
       "      <td>Jongno-gu</td>\n",
       "      <td>True</td>\n",
       "      <td>Jongno Community Center</td>\n",
       "      <td>10</td>\n",
       "      <td>37.57681</td>\n",
       "      <td>127.006</td>\n",
       "    </tr>\n",
       "  </tbody>\n",
       "</table>\n",
       "</div>"
      ],
      "text/plain": [
       "   case_id province           city  group                 infection_case  \\\n",
       "0  1000001    Seoul        Guro-gu   True            Guro-gu Call Center   \n",
       "1  1000002    Seoul  Dongdaemun-gu   True                  Dongan Church   \n",
       "2  1000003    Seoul   Eunpyeong-gu   True  Eunpyeong St. Mary's Hospital   \n",
       "3  1000004    Seoul   Seongdong-gu   True               Seongdong-gu APT   \n",
       "4  1000005    Seoul      Jongno-gu   True        Jongno Community Center   \n",
       "\n",
       "   confirmed   latitude   longitude  \n",
       "0         79  37.508163  126.884387  \n",
       "1         24  37.592888  127.056766  \n",
       "2         14   37.63369    126.9165  \n",
       "3         13   37.55713    127.0403  \n",
       "4         10   37.57681     127.006  "
      ]
     },
     "execution_count": 101,
     "metadata": {},
     "output_type": "execute_result"
    }
   ],
   "source": [
    "Case_data =pd.read_csv('../Data/Case.csv')\n",
    "Case_data.head()\n"
   ]
  },
  {
   "cell_type": "code",
   "execution_count": 102,
   "metadata": {},
   "outputs": [
    {
     "name": "stdout",
     "output_type": "stream",
     "text": [
      "51\n",
      "30\n",
      "Condition True 51\n",
      "Condition False 30\n"
     ]
    },
    {
     "data": {
      "text/html": [
       "<div>\n",
       "<style scoped>\n",
       "    .dataframe tbody tr th:only-of-type {\n",
       "        vertical-align: middle;\n",
       "    }\n",
       "\n",
       "    .dataframe tbody tr th {\n",
       "        vertical-align: top;\n",
       "    }\n",
       "\n",
       "    .dataframe thead th {\n",
       "        text-align: right;\n",
       "    }\n",
       "</style>\n",
       "<table border=\"1\" class=\"dataframe\">\n",
       "  <thead>\n",
       "    <tr style=\"text-align: right;\">\n",
       "      <th></th>\n",
       "      <th>case_id</th>\n",
       "      <th>province</th>\n",
       "      <th>city</th>\n",
       "      <th>group</th>\n",
       "      <th>infection_case</th>\n",
       "      <th>confirmed</th>\n",
       "      <th>latitude</th>\n",
       "      <th>longitude</th>\n",
       "    </tr>\n",
       "  </thead>\n",
       "  <tbody>\n",
       "    <tr>\n",
       "      <td>0</td>\n",
       "      <td>1000001</td>\n",
       "      <td>Seoul</td>\n",
       "      <td>Guro-gu</td>\n",
       "      <td>True</td>\n",
       "      <td>Guro-gu Call Center</td>\n",
       "      <td>79</td>\n",
       "      <td>37.508163</td>\n",
       "      <td>126.884387</td>\n",
       "    </tr>\n",
       "    <tr>\n",
       "      <td>1</td>\n",
       "      <td>1000002</td>\n",
       "      <td>Seoul</td>\n",
       "      <td>Dongdaemun-gu</td>\n",
       "      <td>True</td>\n",
       "      <td>Dongan Church</td>\n",
       "      <td>24</td>\n",
       "      <td>37.592888</td>\n",
       "      <td>127.056766</td>\n",
       "    </tr>\n",
       "    <tr>\n",
       "      <td>2</td>\n",
       "      <td>1000003</td>\n",
       "      <td>Seoul</td>\n",
       "      <td>Eunpyeong-gu</td>\n",
       "      <td>True</td>\n",
       "      <td>Eunpyeong St. Mary's Hospital</td>\n",
       "      <td>14</td>\n",
       "      <td>37.63369</td>\n",
       "      <td>126.9165</td>\n",
       "    </tr>\n",
       "    <tr>\n",
       "      <td>3</td>\n",
       "      <td>1000004</td>\n",
       "      <td>Seoul</td>\n",
       "      <td>Seongdong-gu</td>\n",
       "      <td>True</td>\n",
       "      <td>Seongdong-gu APT</td>\n",
       "      <td>13</td>\n",
       "      <td>37.55713</td>\n",
       "      <td>127.0403</td>\n",
       "    </tr>\n",
       "    <tr>\n",
       "      <td>4</td>\n",
       "      <td>1000005</td>\n",
       "      <td>Seoul</td>\n",
       "      <td>Jongno-gu</td>\n",
       "      <td>True</td>\n",
       "      <td>Jongno Community Center</td>\n",
       "      <td>10</td>\n",
       "      <td>37.57681</td>\n",
       "      <td>127.006</td>\n",
       "    </tr>\n",
       "  </tbody>\n",
       "</table>\n",
       "</div>"
      ],
      "text/plain": [
       "   case_id province           city  group                 infection_case  \\\n",
       "0  1000001    Seoul        Guro-gu   True            Guro-gu Call Center   \n",
       "1  1000002    Seoul  Dongdaemun-gu   True                  Dongan Church   \n",
       "2  1000003    Seoul   Eunpyeong-gu   True  Eunpyeong St. Mary's Hospital   \n",
       "3  1000004    Seoul   Seongdong-gu   True               Seongdong-gu APT   \n",
       "4  1000005    Seoul      Jongno-gu   True        Jongno Community Center   \n",
       "\n",
       "   confirmed   latitude   longitude  \n",
       "0         79  37.508163  126.884387  \n",
       "1         24  37.592888  127.056766  \n",
       "2         14   37.63369    126.9165  \n",
       "3         13   37.55713    127.0403  \n",
       "4         10   37.57681     127.006  "
      ]
     },
     "execution_count": 102,
     "metadata": {},
     "output_type": "execute_result"
    }
   ],
   "source": [
    "TimeGender_data = pd.read_csv('../Data/Case.csv')\n",
    "condition_True = (TimeGender_data[\"group\"]==True)\n",
    "TimeGender_data[condition_True]\n",
    "count_True = len(TimeGender_data[condition_True])\n",
    "print(count_True)\n",
    "\n",
    "\n",
    "condition_False = (TimeGender_data[\"group\"]==False)\n",
    "TimeGender_data[condition_False]\n",
    "count_False = len((TimeGender_data[condition_False]))\n",
    "print(count_False)\n",
    "print(f\"Condition True\", count_True)\n",
    "print(f\"Condition False\", count_False)\n",
    "TimeGender_data.head()"
   ]
  },
  {
   "cell_type": "code",
   "execution_count": 103,
   "metadata": {},
   "outputs": [
    {
     "name": "stdout",
     "output_type": "stream",
     "text": [
      "Total Number of Patients  2243\n"
     ]
    }
   ],
   "source": [
    "total_number = len(PatientInfo_data)\n",
    "print(f\"Total Number of Patients \", total_number)"
   ]
  },
  {
   "cell_type": "code",
   "execution_count": 104,
   "metadata": {},
   "outputs": [
    {
     "data": {
      "text/plain": [
       "birth_year\n",
       "1916.0    1\n",
       "1925.0    1\n",
       "1926.0    2\n",
       "1927.0    2\n",
       "1928.0    2\n",
       "         ..\n",
       "2015.0    3\n",
       "2017.0    3\n",
       "2018.0    5\n",
       "2019.0    2\n",
       "2020.0    2\n",
       "Name: patient_id, Length: 96, dtype: int64"
      ]
     },
     "execution_count": 104,
     "metadata": {},
     "output_type": "execute_result"
    }
   ],
   "source": [
    "PatientInfo_data.groupby('birth_year')['patient_id'].count()"
   ]
  },
  {
   "cell_type": "code",
   "execution_count": 105,
   "metadata": {},
   "outputs": [
    {
     "data": {
      "text/html": [
       "<div>\n",
       "<style scoped>\n",
       "    .dataframe tbody tr th:only-of-type {\n",
       "        vertical-align: middle;\n",
       "    }\n",
       "\n",
       "    .dataframe tbody tr th {\n",
       "        vertical-align: top;\n",
       "    }\n",
       "\n",
       "    .dataframe thead th {\n",
       "        text-align: right;\n",
       "    }\n",
       "</style>\n",
       "<table border=\"1\" class=\"dataframe\">\n",
       "  <thead>\n",
       "    <tr style=\"text-align: right;\">\n",
       "      <th></th>\n",
       "      <th>patient_id</th>\n",
       "      <th>global_num</th>\n",
       "      <th>sex</th>\n",
       "      <th>birth_year</th>\n",
       "      <th>country</th>\n",
       "      <th>province</th>\n",
       "      <th>city</th>\n",
       "      <th>disease</th>\n",
       "      <th>infection_case</th>\n",
       "      <th>infection_order</th>\n",
       "      <th>infected_by</th>\n",
       "      <th>contact_number</th>\n",
       "      <th>symptom_onset_date</th>\n",
       "      <th>confirmed_date</th>\n",
       "      <th>released_date</th>\n",
       "      <th>deceased_date</th>\n",
       "      <th>state</th>\n",
       "    </tr>\n",
       "    <tr>\n",
       "      <th>age</th>\n",
       "      <th></th>\n",
       "      <th></th>\n",
       "      <th></th>\n",
       "      <th></th>\n",
       "      <th></th>\n",
       "      <th></th>\n",
       "      <th></th>\n",
       "      <th></th>\n",
       "      <th></th>\n",
       "      <th></th>\n",
       "      <th></th>\n",
       "      <th></th>\n",
       "      <th></th>\n",
       "      <th></th>\n",
       "      <th></th>\n",
       "      <th></th>\n",
       "      <th></th>\n",
       "    </tr>\n",
       "  </thead>\n",
       "  <tbody>\n",
       "    <tr>\n",
       "      <td>0s</td>\n",
       "      <td>29</td>\n",
       "      <td>13</td>\n",
       "      <td>29</td>\n",
       "      <td>26</td>\n",
       "      <td>29</td>\n",
       "      <td>29</td>\n",
       "      <td>29</td>\n",
       "      <td>0</td>\n",
       "      <td>22</td>\n",
       "      <td>0</td>\n",
       "      <td>14</td>\n",
       "      <td>9</td>\n",
       "      <td>5</td>\n",
       "      <td>29</td>\n",
       "      <td>3</td>\n",
       "      <td>0</td>\n",
       "      <td>29</td>\n",
       "    </tr>\n",
       "    <tr>\n",
       "      <td>100s</td>\n",
       "      <td>1</td>\n",
       "      <td>1</td>\n",
       "      <td>1</td>\n",
       "      <td>1</td>\n",
       "      <td>1</td>\n",
       "      <td>1</td>\n",
       "      <td>1</td>\n",
       "      <td>0</td>\n",
       "      <td>0</td>\n",
       "      <td>0</td>\n",
       "      <td>0</td>\n",
       "      <td>0</td>\n",
       "      <td>0</td>\n",
       "      <td>1</td>\n",
       "      <td>0</td>\n",
       "      <td>0</td>\n",
       "      <td>1</td>\n",
       "    </tr>\n",
       "    <tr>\n",
       "      <td>10s</td>\n",
       "      <td>76</td>\n",
       "      <td>40</td>\n",
       "      <td>76</td>\n",
       "      <td>64</td>\n",
       "      <td>76</td>\n",
       "      <td>76</td>\n",
       "      <td>76</td>\n",
       "      <td>0</td>\n",
       "      <td>44</td>\n",
       "      <td>0</td>\n",
       "      <td>23</td>\n",
       "      <td>18</td>\n",
       "      <td>8</td>\n",
       "      <td>76</td>\n",
       "      <td>12</td>\n",
       "      <td>0</td>\n",
       "      <td>76</td>\n",
       "    </tr>\n",
       "    <tr>\n",
       "      <td>20s</td>\n",
       "      <td>470</td>\n",
       "      <td>316</td>\n",
       "      <td>468</td>\n",
       "      <td>391</td>\n",
       "      <td>470</td>\n",
       "      <td>470</td>\n",
       "      <td>464</td>\n",
       "      <td>0</td>\n",
       "      <td>220</td>\n",
       "      <td>6</td>\n",
       "      <td>65</td>\n",
       "      <td>90</td>\n",
       "      <td>31</td>\n",
       "      <td>470</td>\n",
       "      <td>64</td>\n",
       "      <td>0</td>\n",
       "      <td>470</td>\n",
       "    </tr>\n",
       "    <tr>\n",
       "      <td>30s</td>\n",
       "      <td>254</td>\n",
       "      <td>159</td>\n",
       "      <td>254</td>\n",
       "      <td>212</td>\n",
       "      <td>254</td>\n",
       "      <td>254</td>\n",
       "      <td>242</td>\n",
       "      <td>1</td>\n",
       "      <td>175</td>\n",
       "      <td>6</td>\n",
       "      <td>57</td>\n",
       "      <td>60</td>\n",
       "      <td>36</td>\n",
       "      <td>254</td>\n",
       "      <td>44</td>\n",
       "      <td>1</td>\n",
       "      <td>252</td>\n",
       "    </tr>\n",
       "    <tr>\n",
       "      <td>40s</td>\n",
       "      <td>309</td>\n",
       "      <td>176</td>\n",
       "      <td>309</td>\n",
       "      <td>263</td>\n",
       "      <td>309</td>\n",
       "      <td>309</td>\n",
       "      <td>301</td>\n",
       "      <td>0</td>\n",
       "      <td>211</td>\n",
       "      <td>8</td>\n",
       "      <td>88</td>\n",
       "      <td>87</td>\n",
       "      <td>47</td>\n",
       "      <td>306</td>\n",
       "      <td>37</td>\n",
       "      <td>0</td>\n",
       "      <td>306</td>\n",
       "    </tr>\n",
       "    <tr>\n",
       "      <td>50s</td>\n",
       "      <td>394</td>\n",
       "      <td>248</td>\n",
       "      <td>394</td>\n",
       "      <td>334</td>\n",
       "      <td>394</td>\n",
       "      <td>394</td>\n",
       "      <td>383</td>\n",
       "      <td>6</td>\n",
       "      <td>204</td>\n",
       "      <td>9</td>\n",
       "      <td>68</td>\n",
       "      <td>80</td>\n",
       "      <td>28</td>\n",
       "      <td>389</td>\n",
       "      <td>48</td>\n",
       "      <td>6</td>\n",
       "      <td>391</td>\n",
       "    </tr>\n",
       "    <tr>\n",
       "      <td>60s</td>\n",
       "      <td>232</td>\n",
       "      <td>128</td>\n",
       "      <td>232</td>\n",
       "      <td>198</td>\n",
       "      <td>232</td>\n",
       "      <td>232</td>\n",
       "      <td>222</td>\n",
       "      <td>5</td>\n",
       "      <td>115</td>\n",
       "      <td>5</td>\n",
       "      <td>46</td>\n",
       "      <td>35</td>\n",
       "      <td>19</td>\n",
       "      <td>231</td>\n",
       "      <td>10</td>\n",
       "      <td>7</td>\n",
       "      <td>231</td>\n",
       "    </tr>\n",
       "    <tr>\n",
       "      <td>70s</td>\n",
       "      <td>118</td>\n",
       "      <td>72</td>\n",
       "      <td>118</td>\n",
       "      <td>103</td>\n",
       "      <td>118</td>\n",
       "      <td>118</td>\n",
       "      <td>109</td>\n",
       "      <td>3</td>\n",
       "      <td>59</td>\n",
       "      <td>6</td>\n",
       "      <td>17</td>\n",
       "      <td>14</td>\n",
       "      <td>4</td>\n",
       "      <td>117</td>\n",
       "      <td>11</td>\n",
       "      <td>8</td>\n",
       "      <td>118</td>\n",
       "    </tr>\n",
       "    <tr>\n",
       "      <td>80s</td>\n",
       "      <td>85</td>\n",
       "      <td>57</td>\n",
       "      <td>85</td>\n",
       "      <td>71</td>\n",
       "      <td>85</td>\n",
       "      <td>85</td>\n",
       "      <td>78</td>\n",
       "      <td>4</td>\n",
       "      <td>21</td>\n",
       "      <td>2</td>\n",
       "      <td>9</td>\n",
       "      <td>9</td>\n",
       "      <td>4</td>\n",
       "      <td>85</td>\n",
       "      <td>2</td>\n",
       "      <td>7</td>\n",
       "      <td>85</td>\n",
       "    </tr>\n",
       "    <tr>\n",
       "      <td>90s</td>\n",
       "      <td>17</td>\n",
       "      <td>14</td>\n",
       "      <td>17</td>\n",
       "      <td>16</td>\n",
       "      <td>17</td>\n",
       "      <td>17</td>\n",
       "      <td>16</td>\n",
       "      <td>0</td>\n",
       "      <td>3</td>\n",
       "      <td>0</td>\n",
       "      <td>0</td>\n",
       "      <td>0</td>\n",
       "      <td>2</td>\n",
       "      <td>17</td>\n",
       "      <td>0</td>\n",
       "      <td>1</td>\n",
       "      <td>17</td>\n",
       "    </tr>\n",
       "  </tbody>\n",
       "</table>\n",
       "</div>"
      ],
      "text/plain": [
       "      patient_id  global_num  sex  birth_year  country  province  city  \\\n",
       "age                                                                      \n",
       "0s            29          13   29          26       29        29    29   \n",
       "100s           1           1    1           1        1         1     1   \n",
       "10s           76          40   76          64       76        76    76   \n",
       "20s          470         316  468         391      470       470   464   \n",
       "30s          254         159  254         212      254       254   242   \n",
       "40s          309         176  309         263      309       309   301   \n",
       "50s          394         248  394         334      394       394   383   \n",
       "60s          232         128  232         198      232       232   222   \n",
       "70s          118          72  118         103      118       118   109   \n",
       "80s           85          57   85          71       85        85    78   \n",
       "90s           17          14   17          16       17        17    16   \n",
       "\n",
       "      disease  infection_case  infection_order  infected_by  contact_number  \\\n",
       "age                                                                           \n",
       "0s          0              22                0           14               9   \n",
       "100s        0               0                0            0               0   \n",
       "10s         0              44                0           23              18   \n",
       "20s         0             220                6           65              90   \n",
       "30s         1             175                6           57              60   \n",
       "40s         0             211                8           88              87   \n",
       "50s         6             204                9           68              80   \n",
       "60s         5             115                5           46              35   \n",
       "70s         3              59                6           17              14   \n",
       "80s         4              21                2            9               9   \n",
       "90s         0               3                0            0               0   \n",
       "\n",
       "      symptom_onset_date  confirmed_date  released_date  deceased_date  state  \n",
       "age                                                                            \n",
       "0s                     5              29              3              0     29  \n",
       "100s                   0               1              0              0      1  \n",
       "10s                    8              76             12              0     76  \n",
       "20s                   31             470             64              0    470  \n",
       "30s                   36             254             44              1    252  \n",
       "40s                   47             306             37              0    306  \n",
       "50s                   28             389             48              6    391  \n",
       "60s                   19             231             10              7    231  \n",
       "70s                    4             117             11              8    118  \n",
       "80s                    4              85              2              7     85  \n",
       "90s                    2              17              0              1     17  "
      ]
     },
     "execution_count": 105,
     "metadata": {},
     "output_type": "execute_result"
    }
   ],
   "source": [
    "PatientInfo_data.groupby([\"age\"]).count()"
   ]
  },
  {
   "cell_type": "markdown",
   "metadata": {},
   "source": [
    "## Calculate Exact Age from Given Birth Year"
   ]
  },
  {
   "cell_type": "code",
   "execution_count": 106,
   "metadata": {},
   "outputs": [
    {
     "name": "stdout",
     "output_type": "stream",
     "text": [
      "2020\n",
      "The Year Now is  2020\n"
     ]
    }
   ],
   "source": [
    "print(pd.datetime.now().year)\n",
    "Year_Now = (pd.datetime.now().year)\n",
    "print(f\"The Year Now is \", Year_Now)"
   ]
  },
  {
   "cell_type": "code",
   "execution_count": 107,
   "metadata": {},
   "outputs": [],
   "source": [
    "Year_Now = 2020"
   ]
  },
  {
   "cell_type": "code",
   "execution_count": 108,
   "metadata": {},
   "outputs": [],
   "source": [
    "PatientInfo_data[\"Exact Age\"]=int(Year_Now)-PatientInfo_data['birth_year']"
   ]
  },
  {
   "cell_type": "code",
   "execution_count": 109,
   "metadata": {},
   "outputs": [
    {
     "data": {
      "text/plain": [
       "45.04136389044159"
      ]
     },
     "execution_count": 109,
     "metadata": {},
     "output_type": "execute_result"
    }
   ],
   "source": [
    "PatientInfo_data[\"Exact Age\"].mean()"
   ]
  },
  {
   "cell_type": "markdown",
   "metadata": {},
   "source": [
    "## Age (Age Bin)"
   ]
  },
  {
   "cell_type": "code",
   "execution_count": 110,
   "metadata": {},
   "outputs": [
    {
     "data": {
      "text/plain": [
       "0       50s\n",
       "1       30s\n",
       "2       50s\n",
       "3       20s\n",
       "4       20s\n",
       "       ... \n",
       "2238    30s\n",
       "2239    20s\n",
       "2240    20s\n",
       "2241    40s\n",
       "2242    40s\n",
       "Name: age, Length: 2243, dtype: object"
      ]
     },
     "execution_count": 110,
     "metadata": {},
     "output_type": "execute_result"
    }
   ],
   "source": [
    "PatientInfo_data[\"age\"]"
   ]
  },
  {
   "cell_type": "code",
   "execution_count": 111,
   "metadata": {},
   "outputs": [],
   "source": [
    "Age = []\n",
    "PatientInfo_data[\"age\"].fillna(\"+0s\", inplace = True)\n",
    "\n",
    "ages = PatientInfo_data[\"age\"]  \n",
    "BeforeSymbol = PatientInfo_data[\"age\"].str.split('s').str[0]\n",
    "BeforeSymbol\n",
    "for age in BeforeSymbol:\n",
    "        Age.append(int(age))\n",
    "        \n",
    "Age\n",
    "\n",
    "PatientInfo_data[\"Age\"] = Age"
   ]
  },
  {
   "cell_type": "code",
   "execution_count": 112,
   "metadata": {},
   "outputs": [
    {
     "data": {
      "text/plain": [
       "0"
      ]
     },
     "execution_count": 112,
     "metadata": {},
     "output_type": "execute_result"
    }
   ],
   "source": [
    "PatientInfo_data[\"Age\"].min()"
   ]
  },
  {
   "cell_type": "code",
   "execution_count": 113,
   "metadata": {},
   "outputs": [
    {
     "data": {
      "text/plain": [
       "35.86714222024075"
      ]
     },
     "execution_count": 113,
     "metadata": {},
     "output_type": "execute_result"
    }
   ],
   "source": [
    "PatientInfo_data[\"Age\"].mean()"
   ]
  },
  {
   "cell_type": "code",
   "execution_count": 114,
   "metadata": {},
   "outputs": [
    {
     "data": {
      "text/plain": [
       "45.04136389044159"
      ]
     },
     "execution_count": 114,
     "metadata": {},
     "output_type": "execute_result"
    }
   ],
   "source": [
    "PatientInfo_data[\"Exact Age\"].mean()"
   ]
  },
  {
   "cell_type": "code",
   "execution_count": 115,
   "metadata": {},
   "outputs": [
    {
     "data": {
      "text/html": [
       "<div>\n",
       "<style scoped>\n",
       "    .dataframe tbody tr th:only-of-type {\n",
       "        vertical-align: middle;\n",
       "    }\n",
       "\n",
       "    .dataframe tbody tr th {\n",
       "        vertical-align: top;\n",
       "    }\n",
       "\n",
       "    .dataframe thead th {\n",
       "        text-align: right;\n",
       "    }\n",
       "</style>\n",
       "<table border=\"1\" class=\"dataframe\">\n",
       "  <thead>\n",
       "    <tr style=\"text-align: right;\">\n",
       "      <th></th>\n",
       "      <th>patient_id</th>\n",
       "      <th>global_num</th>\n",
       "      <th>sex</th>\n",
       "      <th>birth_year</th>\n",
       "      <th>age</th>\n",
       "      <th>country</th>\n",
       "      <th>province</th>\n",
       "      <th>city</th>\n",
       "      <th>disease</th>\n",
       "      <th>infection_case</th>\n",
       "      <th>infection_order</th>\n",
       "      <th>infected_by</th>\n",
       "      <th>contact_number</th>\n",
       "      <th>symptom_onset_date</th>\n",
       "      <th>confirmed_date</th>\n",
       "      <th>released_date</th>\n",
       "      <th>deceased_date</th>\n",
       "      <th>state</th>\n",
       "      <th>Exact Age</th>\n",
       "      <th>Age</th>\n",
       "    </tr>\n",
       "  </thead>\n",
       "  <tbody>\n",
       "    <tr>\n",
       "      <td>0</td>\n",
       "      <td>1000000001</td>\n",
       "      <td>2.0</td>\n",
       "      <td>male</td>\n",
       "      <td>1964.0</td>\n",
       "      <td>50s</td>\n",
       "      <td>Korea</td>\n",
       "      <td>Seoul</td>\n",
       "      <td>Gangseo-gu</td>\n",
       "      <td>NaN</td>\n",
       "      <td>overseas inflow</td>\n",
       "      <td>1.0</td>\n",
       "      <td>NaN</td>\n",
       "      <td>75.0</td>\n",
       "      <td>2020-01-22</td>\n",
       "      <td>2020-01-23</td>\n",
       "      <td>2020-02-05</td>\n",
       "      <td>NaN</td>\n",
       "      <td>released</td>\n",
       "      <td>56.0</td>\n",
       "      <td>50</td>\n",
       "    </tr>\n",
       "    <tr>\n",
       "      <td>1</td>\n",
       "      <td>1000000002</td>\n",
       "      <td>5.0</td>\n",
       "      <td>male</td>\n",
       "      <td>1987.0</td>\n",
       "      <td>30s</td>\n",
       "      <td>Korea</td>\n",
       "      <td>Seoul</td>\n",
       "      <td>Jungnang-gu</td>\n",
       "      <td>NaN</td>\n",
       "      <td>overseas inflow</td>\n",
       "      <td>1.0</td>\n",
       "      <td>NaN</td>\n",
       "      <td>31.0</td>\n",
       "      <td>NaN</td>\n",
       "      <td>2020-01-30</td>\n",
       "      <td>2020-03-02</td>\n",
       "      <td>NaN</td>\n",
       "      <td>released</td>\n",
       "      <td>33.0</td>\n",
       "      <td>30</td>\n",
       "    </tr>\n",
       "    <tr>\n",
       "      <td>2</td>\n",
       "      <td>1000000003</td>\n",
       "      <td>6.0</td>\n",
       "      <td>male</td>\n",
       "      <td>1964.0</td>\n",
       "      <td>50s</td>\n",
       "      <td>Korea</td>\n",
       "      <td>Seoul</td>\n",
       "      <td>Jongno-gu</td>\n",
       "      <td>NaN</td>\n",
       "      <td>contact with patient</td>\n",
       "      <td>2.0</td>\n",
       "      <td>2.002000e+09</td>\n",
       "      <td>17.0</td>\n",
       "      <td>NaN</td>\n",
       "      <td>2020-01-30</td>\n",
       "      <td>2020-02-19</td>\n",
       "      <td>NaN</td>\n",
       "      <td>released</td>\n",
       "      <td>56.0</td>\n",
       "      <td>50</td>\n",
       "    </tr>\n",
       "    <tr>\n",
       "      <td>3</td>\n",
       "      <td>1000000004</td>\n",
       "      <td>7.0</td>\n",
       "      <td>male</td>\n",
       "      <td>1991.0</td>\n",
       "      <td>20s</td>\n",
       "      <td>Korea</td>\n",
       "      <td>Seoul</td>\n",
       "      <td>Mapo-gu</td>\n",
       "      <td>NaN</td>\n",
       "      <td>overseas inflow</td>\n",
       "      <td>1.0</td>\n",
       "      <td>NaN</td>\n",
       "      <td>9.0</td>\n",
       "      <td>2020-01-26</td>\n",
       "      <td>2020-01-30</td>\n",
       "      <td>2020-02-15</td>\n",
       "      <td>NaN</td>\n",
       "      <td>released</td>\n",
       "      <td>29.0</td>\n",
       "      <td>20</td>\n",
       "    </tr>\n",
       "    <tr>\n",
       "      <td>4</td>\n",
       "      <td>1000000005</td>\n",
       "      <td>9.0</td>\n",
       "      <td>female</td>\n",
       "      <td>1992.0</td>\n",
       "      <td>20s</td>\n",
       "      <td>Korea</td>\n",
       "      <td>Seoul</td>\n",
       "      <td>Seongbuk-gu</td>\n",
       "      <td>NaN</td>\n",
       "      <td>contact with patient</td>\n",
       "      <td>2.0</td>\n",
       "      <td>1.000000e+09</td>\n",
       "      <td>2.0</td>\n",
       "      <td>NaN</td>\n",
       "      <td>2020-01-31</td>\n",
       "      <td>2020-02-24</td>\n",
       "      <td>NaN</td>\n",
       "      <td>released</td>\n",
       "      <td>28.0</td>\n",
       "      <td>20</td>\n",
       "    </tr>\n",
       "  </tbody>\n",
       "</table>\n",
       "</div>"
      ],
      "text/plain": [
       "   patient_id  global_num     sex  birth_year  age country province  \\\n",
       "0  1000000001         2.0    male      1964.0  50s   Korea    Seoul   \n",
       "1  1000000002         5.0    male      1987.0  30s   Korea    Seoul   \n",
       "2  1000000003         6.0    male      1964.0  50s   Korea    Seoul   \n",
       "3  1000000004         7.0    male      1991.0  20s   Korea    Seoul   \n",
       "4  1000000005         9.0  female      1992.0  20s   Korea    Seoul   \n",
       "\n",
       "          city disease        infection_case  infection_order   infected_by  \\\n",
       "0   Gangseo-gu     NaN       overseas inflow              1.0           NaN   \n",
       "1  Jungnang-gu     NaN       overseas inflow              1.0           NaN   \n",
       "2    Jongno-gu     NaN  contact with patient              2.0  2.002000e+09   \n",
       "3      Mapo-gu     NaN       overseas inflow              1.0           NaN   \n",
       "4  Seongbuk-gu     NaN  contact with patient              2.0  1.000000e+09   \n",
       "\n",
       "   contact_number symptom_onset_date confirmed_date released_date  \\\n",
       "0            75.0         2020-01-22     2020-01-23    2020-02-05   \n",
       "1            31.0                NaN     2020-01-30    2020-03-02   \n",
       "2            17.0                NaN     2020-01-30    2020-02-19   \n",
       "3             9.0         2020-01-26     2020-01-30    2020-02-15   \n",
       "4             2.0                NaN     2020-01-31    2020-02-24   \n",
       "\n",
       "  deceased_date     state  Exact Age  Age  \n",
       "0           NaN  released       56.0   50  \n",
       "1           NaN  released       33.0   30  \n",
       "2           NaN  released       56.0   50  \n",
       "3           NaN  released       29.0   20  \n",
       "4           NaN  released       28.0   20  "
      ]
     },
     "execution_count": 115,
     "metadata": {},
     "output_type": "execute_result"
    }
   ],
   "source": [
    "# Two Numeric Columns: Exact Age and Age (Age Bin)\n",
    "PatientInfo_data.head()"
   ]
  },
  {
   "cell_type": "markdown",
   "metadata": {},
   "source": [
    "## Average Age"
   ]
  },
  {
   "cell_type": "code",
   "execution_count": 120,
   "metadata": {},
   "outputs": [
    {
     "data": {
      "text/plain": [
       "42.471821756225424"
      ]
     },
     "execution_count": 120,
     "metadata": {},
     "output_type": "execute_result"
    }
   ],
   "source": [
    "condition_male = PatientInfo_data[\"sex\"]==\"male\"\n",
    "avg_M_age = PatientInfo_data[condition_male][\"Exact Age\"].mean()\n",
    "avg_M_age"
   ]
  },
  {
   "cell_type": "code",
   "execution_count": 121,
   "metadata": {},
   "outputs": [
    {
     "data": {
      "text/plain": [
       "46.95224171539961"
      ]
     },
     "execution_count": 121,
     "metadata": {},
     "output_type": "execute_result"
    }
   ],
   "source": [
    "condition_female = PatientInfo_data[\"sex\"]==\"female\"\n",
    "avg_F_age = PatientInfo_data[condition_female][\"Exact Age\"].mean()\n",
    "avg_F_age"
   ]
  },
  {
   "cell_type": "markdown",
   "metadata": {},
   "source": [
    "## Date"
   ]
  },
  {
   "cell_type": "markdown",
   "metadata": {},
   "source": [
    "##    Days: Released Date MINUS Confirmed Date"
   ]
  },
  {
   "cell_type": "code",
   "execution_count": 122,
   "metadata": {},
   "outputs": [],
   "source": [
    "# Changing format to Date IN\n",
    "PatientInfo_data[\"Date IN\"]= pd.to_datetime(PatientInfo_data[\"confirmed_date\"]) "
   ]
  },
  {
   "cell_type": "code",
   "execution_count": 123,
   "metadata": {},
   "outputs": [],
   "source": [
    "# Changing format to Date OUT RELEASED\n",
    "PatientInfo_data[\"Date OUT\"]= pd.to_datetime(PatientInfo_data[\"released_date\"]) "
   ]
  },
  {
   "cell_type": "code",
   "execution_count": 124,
   "metadata": {},
   "outputs": [],
   "source": [
    "# Changing format Date Deceased\n",
    "PatientInfo_data[\"Date Deceased\"]= pd.to_datetime(PatientInfo_data[\"deceased_date\"]) "
   ]
  },
  {
   "cell_type": "code",
   "execution_count": 125,
   "metadata": {},
   "outputs": [],
   "source": [
    "# Changing format Date Symptoms\n",
    "PatientInfo_data[\"Symptoms Onset Date\"]= pd.to_datetime(PatientInfo_data[\"symptom_onset_date\"]) "
   ]
  },
  {
   "cell_type": "code",
   "execution_count": 126,
   "metadata": {},
   "outputs": [
    {
     "name": "stdout",
     "output_type": "stream",
     "text": [
      "Patient Alive: Calculate Days: 13 days 22:52:01.030042\n",
      "Average Number of Days 13 days 22:52:01.030042\n",
      "2211\n"
     ]
    }
   ],
   "source": [
    "condition_alive = (PatientInfo_data[\"state\"] !=\"deceased\")\n",
    "condition_deceased = (PatientInfo_data[\"state\"] ==\"deceased\")\n",
    "\n",
    "for patient in PatientInfo_data:\n",
    "    if patient in PatientInfo_data[condition_alive]:\n",
    "        Calculate_Days = PatientInfo_data[condition_alive][\"Date OUT\"] - PatientInfo_data[condition_alive][\"Date IN\"]\n",
    "        days_alive = Calculate_Days.mean()\n",
    "    else:\n",
    "        Calculate_Days = PatientInfo_data[condition_deceased][\"Date Deceased\"] - PatientInfo_data[condition_deceased][\"Date IN\"]\n",
    "        days_deceased = Calculate_Days.mean()\n",
    "        \n",
    "print(f\"Patient Alive: Calculate Days:\", days_alive)\n",
    "#print(f\"Patient Deceased: Calculate Days:\", days_deceased)\n",
    "    \n",
    "    \n",
    "avg_days = Calculate_Days.mean()\n",
    "print(f\"Average Number of Days\", avg_days)\n",
    "print(len(Calculate_Days))"
   ]
  },
  {
   "cell_type": "code",
   "execution_count": 127,
   "metadata": {},
   "outputs": [],
   "source": [
    "#PatientInfo_data[\"Days\"]=Calculate_Days\n",
    "#PatientInfo_data[\"Days\"].mean()\n",
    "#avg_Days = PatientInfo_data[\"Days\"].mean()\n",
    "#print(f\"Average Number of Days a Patient is in the Hospital\", avg_Days)\n",
    "#avg_Days"
   ]
  },
  {
   "cell_type": "code",
   "execution_count": 128,
   "metadata": {},
   "outputs": [
    {
     "data": {
      "text/plain": [
       "patient_id                      int64\n",
       "global_num                    float64\n",
       "sex                            object\n",
       "birth_year                    float64\n",
       "age                            object\n",
       "country                        object\n",
       "province                       object\n",
       "city                           object\n",
       "disease                        object\n",
       "infection_case                 object\n",
       "infection_order               float64\n",
       "infected_by                   float64\n",
       "contact_number                float64\n",
       "symptom_onset_date             object\n",
       "confirmed_date                 object\n",
       "released_date                  object\n",
       "deceased_date                  object\n",
       "state                          object\n",
       "Exact Age                     float64\n",
       "Age                             int64\n",
       "Date IN                datetime64[ns]\n",
       "Date OUT               datetime64[ns]\n",
       "Date Deceased          datetime64[ns]\n",
       "Symptoms Onset Date    datetime64[ns]\n",
       "dtype: object"
      ]
     },
     "execution_count": 128,
     "metadata": {},
     "output_type": "execute_result"
    }
   ],
   "source": [
    "PatientInfo_data.dtypes"
   ]
  },
  {
   "cell_type": "code",
   "execution_count": null,
   "metadata": {},
   "outputs": [],
   "source": []
  },
  {
   "cell_type": "markdown",
   "metadata": {},
   "source": [
    "## DataFrame for Dates, State, Age, Exact Age"
   ]
  },
  {
   "cell_type": "code",
   "execution_count": 129,
   "metadata": {},
   "outputs": [
    {
     "data": {
      "text/html": [
       "<div>\n",
       "<style scoped>\n",
       "    .dataframe tbody tr th:only-of-type {\n",
       "        vertical-align: middle;\n",
       "    }\n",
       "\n",
       "    .dataframe tbody tr th {\n",
       "        vertical-align: top;\n",
       "    }\n",
       "\n",
       "    .dataframe thead th {\n",
       "        text-align: right;\n",
       "    }\n",
       "</style>\n",
       "<table border=\"1\" class=\"dataframe\">\n",
       "  <thead>\n",
       "    <tr style=\"text-align: right;\">\n",
       "      <th></th>\n",
       "      <th>ID</th>\n",
       "      <th>Exact Age</th>\n",
       "      <th>Age</th>\n",
       "      <th>Confirmed</th>\n",
       "      <th>Released</th>\n",
       "      <th>Deceased</th>\n",
       "      <th>Symptoms Onset</th>\n",
       "    </tr>\n",
       "  </thead>\n",
       "  <tbody>\n",
       "    <tr>\n",
       "      <td>0</td>\n",
       "      <td>1000000001</td>\n",
       "      <td>56.0</td>\n",
       "      <td>50</td>\n",
       "      <td>2020-01-23</td>\n",
       "      <td>2020-02-05</td>\n",
       "      <td>NaT</td>\n",
       "      <td>2020-01-22</td>\n",
       "    </tr>\n",
       "    <tr>\n",
       "      <td>1</td>\n",
       "      <td>1000000002</td>\n",
       "      <td>33.0</td>\n",
       "      <td>30</td>\n",
       "      <td>2020-01-30</td>\n",
       "      <td>2020-03-02</td>\n",
       "      <td>NaT</td>\n",
       "      <td>NaT</td>\n",
       "    </tr>\n",
       "    <tr>\n",
       "      <td>2</td>\n",
       "      <td>1000000003</td>\n",
       "      <td>56.0</td>\n",
       "      <td>50</td>\n",
       "      <td>2020-01-30</td>\n",
       "      <td>2020-02-19</td>\n",
       "      <td>NaT</td>\n",
       "      <td>NaT</td>\n",
       "    </tr>\n",
       "    <tr>\n",
       "      <td>3</td>\n",
       "      <td>1000000004</td>\n",
       "      <td>29.0</td>\n",
       "      <td>20</td>\n",
       "      <td>2020-01-30</td>\n",
       "      <td>2020-02-15</td>\n",
       "      <td>NaT</td>\n",
       "      <td>2020-01-26</td>\n",
       "    </tr>\n",
       "    <tr>\n",
       "      <td>4</td>\n",
       "      <td>1000000005</td>\n",
       "      <td>28.0</td>\n",
       "      <td>20</td>\n",
       "      <td>2020-01-31</td>\n",
       "      <td>2020-02-24</td>\n",
       "      <td>NaT</td>\n",
       "      <td>NaT</td>\n",
       "    </tr>\n",
       "    <tr>\n",
       "      <td>...</td>\n",
       "      <td>...</td>\n",
       "      <td>...</td>\n",
       "      <td>...</td>\n",
       "      <td>...</td>\n",
       "      <td>...</td>\n",
       "      <td>...</td>\n",
       "      <td>...</td>\n",
       "    </tr>\n",
       "    <tr>\n",
       "      <td>2238</td>\n",
       "      <td>6100000085</td>\n",
       "      <td>30.0</td>\n",
       "      <td>30</td>\n",
       "      <td>2020-03-16</td>\n",
       "      <td>NaT</td>\n",
       "      <td>NaT</td>\n",
       "      <td>NaT</td>\n",
       "    </tr>\n",
       "    <tr>\n",
       "      <td>2239</td>\n",
       "      <td>7000000001</td>\n",
       "      <td>22.0</td>\n",
       "      <td>20</td>\n",
       "      <td>2020-02-20</td>\n",
       "      <td>NaT</td>\n",
       "      <td>NaT</td>\n",
       "      <td>NaT</td>\n",
       "    </tr>\n",
       "    <tr>\n",
       "      <td>2240</td>\n",
       "      <td>7000000002</td>\n",
       "      <td>22.0</td>\n",
       "      <td>20</td>\n",
       "      <td>2020-02-22</td>\n",
       "      <td>2020-03-07</td>\n",
       "      <td>NaT</td>\n",
       "      <td>NaT</td>\n",
       "    </tr>\n",
       "    <tr>\n",
       "      <td>2241</td>\n",
       "      <td>7000000003</td>\n",
       "      <td>48.0</td>\n",
       "      <td>40</td>\n",
       "      <td>2020-03-02</td>\n",
       "      <td>2020-03-15</td>\n",
       "      <td>NaT</td>\n",
       "      <td>NaT</td>\n",
       "    </tr>\n",
       "    <tr>\n",
       "      <td>2242</td>\n",
       "      <td>7000000004</td>\n",
       "      <td>46.0</td>\n",
       "      <td>40</td>\n",
       "      <td>2020-03-04</td>\n",
       "      <td>NaT</td>\n",
       "      <td>NaT</td>\n",
       "      <td>NaT</td>\n",
       "    </tr>\n",
       "  </tbody>\n",
       "</table>\n",
       "<p>2243 rows × 7 columns</p>\n",
       "</div>"
      ],
      "text/plain": [
       "              ID  Exact Age  Age  Confirmed   Released Deceased Symptoms Onset\n",
       "0     1000000001       56.0   50 2020-01-23 2020-02-05      NaT     2020-01-22\n",
       "1     1000000002       33.0   30 2020-01-30 2020-03-02      NaT            NaT\n",
       "2     1000000003       56.0   50 2020-01-30 2020-02-19      NaT            NaT\n",
       "3     1000000004       29.0   20 2020-01-30 2020-02-15      NaT     2020-01-26\n",
       "4     1000000005       28.0   20 2020-01-31 2020-02-24      NaT            NaT\n",
       "...          ...        ...  ...        ...        ...      ...            ...\n",
       "2238  6100000085       30.0   30 2020-03-16        NaT      NaT            NaT\n",
       "2239  7000000001       22.0   20 2020-02-20        NaT      NaT            NaT\n",
       "2240  7000000002       22.0   20 2020-02-22 2020-03-07      NaT            NaT\n",
       "2241  7000000003       48.0   40 2020-03-02 2020-03-15      NaT            NaT\n",
       "2242  7000000004       46.0   40 2020-03-04        NaT      NaT            NaT\n",
       "\n",
       "[2243 rows x 7 columns]"
      ]
     },
     "execution_count": 129,
     "metadata": {},
     "output_type": "execute_result"
    }
   ],
   "source": [
    "Dates = pd.DataFrame({ \"ID\": PatientInfo_data[\"patient_id\"], \\\n",
    "                        \"Exact Age\": PatientInfo_data[\"Exact Age\"], \\\n",
    "                        \"Age\": PatientInfo_data[\"Age\"], \\\n",
    "                        \"Confirmed\": PatientInfo_data[\"Date IN\"], \\\n",
    "                        \"Released\": PatientInfo_data[\"Date OUT\"], \\\n",
    "                        \"Deceased\": PatientInfo_data[\"Date Deceased\"], \\\n",
    "                        \"Symptoms Onset\": PatientInfo_data[\"Symptoms Onset Date\"]})\n",
    "Dates"
   ]
  },
  {
   "cell_type": "markdown",
   "metadata": {},
   "source": [
    "## Gender and State Deceased"
   ]
  },
  {
   "cell_type": "code",
   "execution_count": 130,
   "metadata": {},
   "outputs": [
    {
     "data": {
      "text/html": [
       "<div>\n",
       "<style scoped>\n",
       "    .dataframe tbody tr th:only-of-type {\n",
       "        vertical-align: middle;\n",
       "    }\n",
       "\n",
       "    .dataframe tbody tr th {\n",
       "        vertical-align: top;\n",
       "    }\n",
       "\n",
       "    .dataframe thead th {\n",
       "        text-align: right;\n",
       "    }\n",
       "</style>\n",
       "<table border=\"1\" class=\"dataframe\">\n",
       "  <thead>\n",
       "    <tr style=\"text-align: right;\">\n",
       "      <th></th>\n",
       "      <th>Male</th>\n",
       "      <th>Female</th>\n",
       "    </tr>\n",
       "  </thead>\n",
       "  <tbody>\n",
       "    <tr>\n",
       "      <td>Admitted</td>\n",
       "      <td>937</td>\n",
       "      <td>1210</td>\n",
       "    </tr>\n",
       "    <tr>\n",
       "      <td>Deceased</td>\n",
       "      <td>22</td>\n",
       "      <td>9</td>\n",
       "    </tr>\n",
       "  </tbody>\n",
       "</table>\n",
       "</div>"
      ],
      "text/plain": [
       "          Male  Female\n",
       "Admitted   937    1210\n",
       "Deceased    22       9"
      ]
     },
     "execution_count": 130,
     "metadata": {},
     "output_type": "execute_result"
    }
   ],
   "source": [
    "# MALE and DECEASED\n",
    "condition_deceased = (PatientInfo_data[\"state\"]==\"deceased\")\n",
    "condition_male = (PatientInfo_data[\"sex\"]==\"male\")\n",
    "condition_M_deceased = condition_deceased & condition_male\n",
    "\n",
    "# Males ADMITTED\n",
    "Male_in = len(PatientInfo_data[condition_male])\n",
    "\n",
    "# Males Deceased\n",
    "Male_deceased = len(PatientInfo_data[condition_M_deceased])\n",
    "\n",
    "# FEMALE\n",
    "condition_female = (PatientInfo_data[\"sex\"]==\"female\")\n",
    "condition_F_deceased = condition_deceased & condition_female\n",
    "\n",
    "Female_in = len(PatientInfo_data[condition_female])\n",
    "Female_deceased = len(PatientInfo_data[condition_F_deceased])\n",
    "\n",
    "\n",
    "gender = pd.DataFrame({\"Male\":{\"Admitted\": Male_in, \"Deceased\": Male_deceased}, \"Female\":{\"Admitted\": Female_in, \"Deceased\": Female_deceased}})\n",
    "  \n",
    "gender[\"Male\"][\"Admitted\"]\n",
    "gender[\"Female\"][\"Deceased\"]\n",
    "gender"
   ]
  },
  {
   "cell_type": "code",
   "execution_count": 131,
   "metadata": {},
   "outputs": [
    {
     "data": {
      "text/plain": [
       "array(['released', 'isolated', 'deceased', nan], dtype=object)"
      ]
     },
     "execution_count": 131,
     "metadata": {},
     "output_type": "execute_result"
    }
   ],
   "source": [
    "PatientInfo_data[\"state\"].unique()"
   ]
  },
  {
   "cell_type": "markdown",
   "metadata": {},
   "source": [
    "## Male: Released"
   ]
  },
  {
   "cell_type": "code",
   "execution_count": 132,
   "metadata": {},
   "outputs": [],
   "source": [
    "condition_male = (PatientInfo_data[\"sex\"]==\"male\")\n",
    "condition_released = (PatientInfo_data[\"state\"]==\"released\")\n",
    "condition_male_r = condition_male & condition_released\n",
    "Male_released = len(PatientInfo_data[condition_male_r])"
   ]
  },
  {
   "cell_type": "code",
   "execution_count": 133,
   "metadata": {},
   "outputs": [
    {
     "data": {
      "text/plain": [
       "37.37190082644628"
      ]
     },
     "execution_count": 133,
     "metadata": {},
     "output_type": "execute_result"
    }
   ],
   "source": [
    "avg_M_released = PatientInfo_data[condition_male_r]['Exact Age'].mean()\n",
    "avg_M_released"
   ]
  },
  {
   "cell_type": "markdown",
   "metadata": {},
   "source": [
    "## To Calculate Days in the Hospital"
   ]
  },
  {
   "cell_type": "code",
   "execution_count": 134,
   "metadata": {},
   "outputs": [
    {
     "data": {
      "text/plain": [
       "Timedelta('13 days 19:03:31.764705')"
      ]
     },
     "execution_count": 134,
     "metadata": {},
     "output_type": "execute_result"
    }
   ],
   "source": [
    "condition_male_r = condition_male & condition_released\n",
    "for date in PatientInfo_data[condition_male_r]:\n",
    "    Calculate_Days = PatientInfo_data[condition_male_r][\"Date OUT\"] - PatientInfo_data[condition_male_r][\"Date IN\"]\n",
    "\n",
    "Calculate_Days.mean()"
   ]
  },
  {
   "cell_type": "code",
   "execution_count": 135,
   "metadata": {},
   "outputs": [
    {
     "data": {
      "text/plain": [
       "Timedelta('13 days 19:03:31.764705')"
      ]
     },
     "execution_count": 135,
     "metadata": {},
     "output_type": "execute_result"
    }
   ],
   "source": [
    "avg_M_days = Calculate_Days.mean()\n",
    "avg_M_days"
   ]
  },
  {
   "cell_type": "markdown",
   "metadata": {},
   "source": [
    "## Female: Released"
   ]
  },
  {
   "cell_type": "code",
   "execution_count": 136,
   "metadata": {},
   "outputs": [],
   "source": [
    "condition_female = (PatientInfo_data[\"sex\"]==\"female\")\n",
    "condition_released = (PatientInfo_data[\"state\"]==\"released\")\n",
    "condition_female_r = condition_female & condition_released\n",
    "Female_released = len(PatientInfo_data[condition_female_r])"
   ]
  },
  {
   "cell_type": "code",
   "execution_count": 137,
   "metadata": {},
   "outputs": [
    {
     "data": {
      "text/plain": [
       "40.29192546583851"
      ]
     },
     "execution_count": 137,
     "metadata": {},
     "output_type": "execute_result"
    }
   ],
   "source": [
    "avg_F_released = PatientInfo_data[condition_female_r]['Exact Age'].mean()\n",
    "avg_F_released"
   ]
  },
  {
   "cell_type": "markdown",
   "metadata": {},
   "source": [
    "## To Calculate Days in the Hospital"
   ]
  },
  {
   "cell_type": "code",
   "execution_count": 138,
   "metadata": {},
   "outputs": [
    {
     "data": {
      "text/plain": [
       "Timedelta('13 days 23:14:38.740157')"
      ]
     },
     "execution_count": 138,
     "metadata": {},
     "output_type": "execute_result"
    }
   ],
   "source": [
    "condition_female_r = condition_female & condition_released\n",
    "for date in PatientInfo_data[condition_female_r]:\n",
    "    Calculate_Days = PatientInfo_data[condition_female_r][\"Date OUT\"] - PatientInfo_data[condition_female_r][\"Date IN\"]\n",
    "\n",
    "Calculate_Days.mean()"
   ]
  },
  {
   "cell_type": "code",
   "execution_count": 139,
   "metadata": {},
   "outputs": [
    {
     "data": {
      "text/plain": [
       "Timedelta('13 days 23:14:38.740157')"
      ]
     },
     "execution_count": 139,
     "metadata": {},
     "output_type": "execute_result"
    }
   ],
   "source": [
    "avg_F_days = Calculate_Days.mean()\n",
    "avg_F_days"
   ]
  },
  {
   "cell_type": "markdown",
   "metadata": {},
   "source": [
    "## Male: Isolated"
   ]
  },
  {
   "cell_type": "code",
   "execution_count": 140,
   "metadata": {},
   "outputs": [],
   "source": [
    "condition_male = (PatientInfo_data[\"sex\"]==\"male\")\n",
    "condition_isolated = (PatientInfo_data[\"state\"]==\"isolated\")\n",
    "condition_male_i = condition_male & condition_isolated\n",
    "Male_isolated = len(PatientInfo_data[condition_male_i])"
   ]
  },
  {
   "cell_type": "code",
   "execution_count": 141,
   "metadata": {},
   "outputs": [
    {
     "data": {
      "text/plain": [
       "42.76856649395509"
      ]
     },
     "execution_count": 141,
     "metadata": {},
     "output_type": "execute_result"
    }
   ],
   "source": [
    "avg_M_isolated = PatientInfo_data[condition_male_i]['Exact Age'].mean()\n",
    "avg_M_isolated"
   ]
  },
  {
   "cell_type": "markdown",
   "metadata": {},
   "source": [
    "## To Calculate Days in the Hospital"
   ]
  },
  {
   "cell_type": "code",
   "execution_count": 142,
   "metadata": {},
   "outputs": [
    {
     "data": {
      "text/plain": [
       "Timedelta('28 days 00:00:00')"
      ]
     },
     "execution_count": 142,
     "metadata": {},
     "output_type": "execute_result"
    }
   ],
   "source": [
    "condition_male_i = condition_male & condition_isolated\n",
    "for date in PatientInfo_data[condition_male_i]:\n",
    "    Calculate_Days = PatientInfo_data[condition_male_i][\"Date OUT\"] - PatientInfo_data[condition_male_i][\"Date IN\"]\n",
    "\n",
    "Calculate_Days.mean()"
   ]
  },
  {
   "cell_type": "code",
   "execution_count": 143,
   "metadata": {},
   "outputs": [
    {
     "data": {
      "text/plain": [
       "Timedelta('28 days 00:00:00')"
      ]
     },
     "execution_count": 143,
     "metadata": {},
     "output_type": "execute_result"
    }
   ],
   "source": [
    "avg_M_days_i = Calculate_Days.mean()\n",
    "avg_M_days_i"
   ]
  },
  {
   "cell_type": "markdown",
   "metadata": {},
   "source": [
    "## Female Isolated"
   ]
  },
  {
   "cell_type": "code",
   "execution_count": 144,
   "metadata": {},
   "outputs": [],
   "source": [
    "condition_female = (PatientInfo_data[\"sex\"]==\"female\")\n",
    "condition_isolated = (PatientInfo_data[\"state\"]==\"isolated\")\n",
    "condition_female_i = condition_female & condition_isolated\n",
    "Female_isolated = len(PatientInfo_data[condition_female_i])"
   ]
  },
  {
   "cell_type": "code",
   "execution_count": 145,
   "metadata": {},
   "outputs": [
    {
     "data": {
      "text/plain": [
       "48.01990049751244"
      ]
     },
     "execution_count": 145,
     "metadata": {},
     "output_type": "execute_result"
    }
   ],
   "source": [
    "avg_F_isolated = PatientInfo_data[condition_female_i]['Exact Age'].mean()\n",
    "avg_F_isolated"
   ]
  },
  {
   "cell_type": "markdown",
   "metadata": {},
   "source": [
    "## To Calculate Days in the Hospital"
   ]
  },
  {
   "cell_type": "code",
   "execution_count": 146,
   "metadata": {},
   "outputs": [
    {
     "data": {
      "text/plain": [
       "Timedelta('15 days 12:00:00')"
      ]
     },
     "execution_count": 146,
     "metadata": {},
     "output_type": "execute_result"
    }
   ],
   "source": [
    "condition_female_i = condition_female & condition_isolated\n",
    "for date in PatientInfo_data[condition_female_i]:\n",
    "    Calculate_Days = PatientInfo_data[condition_female_i][\"Date OUT\"] - PatientInfo_data[condition_female_i][\"Date IN\"]\n",
    "\n",
    "Calculate_Days.mean()"
   ]
  },
  {
   "cell_type": "code",
   "execution_count": 147,
   "metadata": {},
   "outputs": [
    {
     "data": {
      "text/plain": [
       "Timedelta('15 days 12:00:00')"
      ]
     },
     "execution_count": 147,
     "metadata": {},
     "output_type": "execute_result"
    }
   ],
   "source": [
    "avg_M_days_i = Calculate_Days.mean()\n",
    "avg_M_days_i"
   ]
  },
  {
   "cell_type": "markdown",
   "metadata": {},
   "source": [
    "## Male Deceased"
   ]
  },
  {
   "cell_type": "code",
   "execution_count": 148,
   "metadata": {},
   "outputs": [],
   "source": [
    "# MALE and DECEASED\n",
    "condition_deceased = (PatientInfo_data[\"state\"]==\"deceased\")\n",
    "condition_male = (PatientInfo_data[\"sex\"]==\"male\")\n",
    "condition_M_deceased = condition_deceased & condition_male\n",
    "\n",
    "# Males ADMITTED\n",
    "Male_in = len(PatientInfo_data[condition_male])\n",
    "\n",
    "# Males Deceased\n",
    "Male_deceased = len(PatientInfo_data[condition_M_deceased])"
   ]
  },
  {
   "cell_type": "code",
   "execution_count": 149,
   "metadata": {},
   "outputs": [
    {
     "data": {
      "text/plain": [
       "Timedelta('3 days 09:08:34.285714')"
      ]
     },
     "execution_count": 149,
     "metadata": {},
     "output_type": "execute_result"
    }
   ],
   "source": [
    "condition_male_d = condition_male & condition_deceased\n",
    "for date in PatientInfo_data[condition_male_d]:\n",
    "    Calculate_Days = PatientInfo_data[condition_male_d][\"Date Deceased\"] - PatientInfo_data[condition_male_d][\"Date IN\"]\n",
    "\n",
    "Calculate_Days.mean()"
   ]
  },
  {
   "cell_type": "code",
   "execution_count": 150,
   "metadata": {},
   "outputs": [
    {
     "data": {
      "text/plain": [
       "68.0"
      ]
     },
     "execution_count": 150,
     "metadata": {},
     "output_type": "execute_result"
    }
   ],
   "source": [
    "avg_M_deceased = PatientInfo_data[condition_M_deceased]['Exact Age'].mean()\n",
    "avg_M_deceased"
   ]
  },
  {
   "cell_type": "code",
   "execution_count": 151,
   "metadata": {},
   "outputs": [
    {
     "data": {
      "text/plain": [
       "Timedelta('3 days 09:08:34.285714')"
      ]
     },
     "execution_count": 151,
     "metadata": {},
     "output_type": "execute_result"
    }
   ],
   "source": [
    "avg_M_days = Calculate_Days.mean()\n",
    "avg_M_days"
   ]
  },
  {
   "cell_type": "markdown",
   "metadata": {},
   "source": [
    "## Female Deceased"
   ]
  },
  {
   "cell_type": "code",
   "execution_count": 152,
   "metadata": {},
   "outputs": [],
   "source": [
    "# FEMALE\n",
    "condition_female = (PatientInfo_data[\"sex\"]==\"female\")\n",
    "condition_F_deceased = condition_deceased & condition_female\n",
    "\n",
    "Female_in = len(PatientInfo_data[condition_female])\n",
    "Female_deceased = len(PatientInfo_data[condition_F_deceased])"
   ]
  },
  {
   "cell_type": "code",
   "execution_count": 153,
   "metadata": {},
   "outputs": [
    {
     "data": {
      "text/plain": [
       "70.625"
      ]
     },
     "execution_count": 153,
     "metadata": {},
     "output_type": "execute_result"
    }
   ],
   "source": [
    "avg_F_deceased = PatientInfo_data[condition_F_deceased]['Exact Age'].mean()\n",
    "avg_F_deceased"
   ]
  },
  {
   "cell_type": "code",
   "execution_count": 154,
   "metadata": {},
   "outputs": [
    {
     "data": {
      "text/plain": [
       "Timedelta('3 days 00:00:00')"
      ]
     },
     "execution_count": 154,
     "metadata": {},
     "output_type": "execute_result"
    }
   ],
   "source": [
    "condition_F_deceased = condition_deceased & condition_female\n",
    "for date in PatientInfo_data[condition_F_deceased]:\n",
    "    Calculate_Days = PatientInfo_data[condition_F_deceased][\"Date Deceased\"] - PatientInfo_data[condition_F_deceased][\"Date IN\"]\n",
    "\n",
    "Calculate_Days.mean()"
   ]
  },
  {
   "cell_type": "code",
   "execution_count": 155,
   "metadata": {},
   "outputs": [
    {
     "data": {
      "text/plain": [
       "Timedelta('3 days 00:00:00')"
      ]
     },
     "execution_count": 155,
     "metadata": {},
     "output_type": "execute_result"
    }
   ],
   "source": [
    "avg_F_days = Calculate_Days.mean()\n",
    "avg_F_days"
   ]
  },
  {
   "cell_type": "markdown",
   "metadata": {},
   "source": [
    "## State = nan"
   ]
  },
  {
   "cell_type": "code",
   "execution_count": 156,
   "metadata": {},
   "outputs": [],
   "source": [
    "Male_nan = Male_in - (Male_released + Male_isolated + Male_deceased)\n",
    "Female_nan =  Female_in - (Female_released + Female_isolated + Female_deceased)"
   ]
  },
  {
   "cell_type": "markdown",
   "metadata": {},
   "source": [
    "## Restructure gender DataFrame"
   ]
  },
  {
   "cell_type": "code",
   "execution_count": 157,
   "metadata": {},
   "outputs": [],
   "source": [
    "Gender = pd.DataFrame({\"Male\":{\"Admitted\": Male_in, \"Released\": Male_released, \"Isolated\": Male_isolated, \"Deceased\": Male_deceased, \"State nan\": Male_nan}, \\\n",
    "                       \"Female\":{\"Admitted\": Female_in, \"Released\": Female_released, \"Isolated\": Female_isolated, \"Deceased\": Female_deceased, \"State nan\": Female_nan}})"
   ]
  },
  {
   "cell_type": "code",
   "execution_count": 158,
   "metadata": {},
   "outputs": [
    {
     "data": {
      "text/html": [
       "<div>\n",
       "<style scoped>\n",
       "    .dataframe tbody tr th:only-of-type {\n",
       "        vertical-align: middle;\n",
       "    }\n",
       "\n",
       "    .dataframe tbody tr th {\n",
       "        vertical-align: top;\n",
       "    }\n",
       "\n",
       "    .dataframe thead th {\n",
       "        text-align: right;\n",
       "    }\n",
       "</style>\n",
       "<table border=\"1\" class=\"dataframe\">\n",
       "  <thead>\n",
       "    <tr style=\"text-align: right;\">\n",
       "      <th></th>\n",
       "      <th>Male</th>\n",
       "      <th>Female</th>\n",
       "    </tr>\n",
       "  </thead>\n",
       "  <tbody>\n",
       "    <tr>\n",
       "      <td>Admitted</td>\n",
       "      <td>937</td>\n",
       "      <td>1210</td>\n",
       "    </tr>\n",
       "    <tr>\n",
       "      <td>Released</td>\n",
       "      <td>136</td>\n",
       "      <td>176</td>\n",
       "    </tr>\n",
       "    <tr>\n",
       "      <td>Isolated</td>\n",
       "      <td>736</td>\n",
       "      <td>972</td>\n",
       "    </tr>\n",
       "    <tr>\n",
       "      <td>Deceased</td>\n",
       "      <td>22</td>\n",
       "      <td>9</td>\n",
       "    </tr>\n",
       "    <tr>\n",
       "      <td>State nan</td>\n",
       "      <td>43</td>\n",
       "      <td>53</td>\n",
       "    </tr>\n",
       "  </tbody>\n",
       "</table>\n",
       "</div>"
      ],
      "text/plain": [
       "           Male  Female\n",
       "Admitted    937    1210\n",
       "Released    136     176\n",
       "Isolated    736     972\n",
       "Deceased     22       9\n",
       "State nan    43      53"
      ]
     },
     "execution_count": 158,
     "metadata": {},
     "output_type": "execute_result"
    }
   ],
   "source": [
    "Gender"
   ]
  },
  {
   "cell_type": "code",
   "execution_count": 159,
   "metadata": {},
   "outputs": [],
   "source": [
    "G = Gender.T"
   ]
  },
  {
   "cell_type": "code",
   "execution_count": 160,
   "metadata": {},
   "outputs": [
    {
     "data": {
      "text/html": [
       "<div>\n",
       "<style scoped>\n",
       "    .dataframe tbody tr th:only-of-type {\n",
       "        vertical-align: middle;\n",
       "    }\n",
       "\n",
       "    .dataframe tbody tr th {\n",
       "        vertical-align: top;\n",
       "    }\n",
       "\n",
       "    .dataframe thead th {\n",
       "        text-align: right;\n",
       "    }\n",
       "</style>\n",
       "<table border=\"1\" class=\"dataframe\">\n",
       "  <thead>\n",
       "    <tr style=\"text-align: right;\">\n",
       "      <th></th>\n",
       "      <th>Admitted</th>\n",
       "      <th>Released</th>\n",
       "      <th>Isolated</th>\n",
       "      <th>Deceased</th>\n",
       "      <th>State nan</th>\n",
       "    </tr>\n",
       "  </thead>\n",
       "  <tbody>\n",
       "    <tr>\n",
       "      <td>Male</td>\n",
       "      <td>937</td>\n",
       "      <td>136</td>\n",
       "      <td>736</td>\n",
       "      <td>22</td>\n",
       "      <td>43</td>\n",
       "    </tr>\n",
       "    <tr>\n",
       "      <td>Female</td>\n",
       "      <td>1210</td>\n",
       "      <td>176</td>\n",
       "      <td>972</td>\n",
       "      <td>9</td>\n",
       "      <td>53</td>\n",
       "    </tr>\n",
       "  </tbody>\n",
       "</table>\n",
       "</div>"
      ],
      "text/plain": [
       "        Admitted  Released  Isolated  Deceased  State nan\n",
       "Male         937       136       736        22         43\n",
       "Female      1210       176       972         9         53"
      ]
     },
     "execution_count": 160,
     "metadata": {},
     "output_type": "execute_result"
    }
   ],
   "source": [
    "G"
   ]
  },
  {
   "cell_type": "code",
   "execution_count": 162,
   "metadata": {},
   "outputs": [],
   "source": [
    "M_age_A=avg_M_age\n",
    "M_age_R=avg_M_released\n",
    "M_age_I=avg_M_isolated\n",
    "M_age_D=avg_M_deceased\n",
    "\n",
    "F_age_A=avg_F_age\n",
    "F_age_R=avg_F_released\n",
    "F_age_I=avg_F_isolated\n",
    "F_age_D=avg_F_deceased"
   ]
  },
  {
   "cell_type": "code",
   "execution_count": 163,
   "metadata": {},
   "outputs": [],
   "source": [
    "Gender_Age = pd.DataFrame({\"Male\":{\"A\": M_age_A, \"R\": M_age_R, \"I\": M_age_I, \"D\": M_age_D} ,\\\n",
    "                          \"Female\":{\"A\": F_age_A, \"R\": F_age_R, \"I\": F_age_I, \"D\": F_age_D} \n",
    "                          })"
   ]
  },
  {
   "cell_type": "code",
   "execution_count": 164,
   "metadata": {},
   "outputs": [],
   "source": [
    "G= Gender_Age"
   ]
  },
  {
   "cell_type": "code",
   "execution_count": 165,
   "metadata": {},
   "outputs": [
    {
     "data": {
      "text/html": [
       "<div>\n",
       "<style scoped>\n",
       "    .dataframe tbody tr th:only-of-type {\n",
       "        vertical-align: middle;\n",
       "    }\n",
       "\n",
       "    .dataframe tbody tr th {\n",
       "        vertical-align: top;\n",
       "    }\n",
       "\n",
       "    .dataframe thead th {\n",
       "        text-align: right;\n",
       "    }\n",
       "</style>\n",
       "<table border=\"1\" class=\"dataframe\">\n",
       "  <thead>\n",
       "    <tr style=\"text-align: right;\">\n",
       "      <th></th>\n",
       "      <th>Male</th>\n",
       "      <th>Female</th>\n",
       "    </tr>\n",
       "  </thead>\n",
       "  <tbody>\n",
       "    <tr>\n",
       "      <td>A</td>\n",
       "      <td>42.471822</td>\n",
       "      <td>46.952242</td>\n",
       "    </tr>\n",
       "    <tr>\n",
       "      <td>R</td>\n",
       "      <td>37.371901</td>\n",
       "      <td>40.291925</td>\n",
       "    </tr>\n",
       "    <tr>\n",
       "      <td>I</td>\n",
       "      <td>42.768566</td>\n",
       "      <td>48.019900</td>\n",
       "    </tr>\n",
       "    <tr>\n",
       "      <td>D</td>\n",
       "      <td>68.000000</td>\n",
       "      <td>70.625000</td>\n",
       "    </tr>\n",
       "  </tbody>\n",
       "</table>\n",
       "</div>"
      ],
      "text/plain": [
       "        Male     Female\n",
       "A  42.471822  46.952242\n",
       "R  37.371901  40.291925\n",
       "I  42.768566  48.019900\n",
       "D  68.000000  70.625000"
      ]
     },
     "execution_count": 165,
     "metadata": {},
     "output_type": "execute_result"
    }
   ],
   "source": [
    "G"
   ]
  },
  {
   "cell_type": "code",
   "execution_count": 166,
   "metadata": {},
   "outputs": [
    {
     "data": {
      "text/plain": [
       "A    42.471822\n",
       "R    37.371901\n",
       "I    42.768566\n",
       "D    68.000000\n",
       "Name: Male, dtype: float64"
      ]
     },
     "execution_count": 166,
     "metadata": {},
     "output_type": "execute_result"
    }
   ],
   "source": [
    "G[\"Male\"]"
   ]
  },
  {
   "cell_type": "code",
   "execution_count": 167,
   "metadata": {},
   "outputs": [],
   "source": [
    "GT = G.T"
   ]
  },
  {
   "cell_type": "code",
   "execution_count": 170,
   "metadata": {},
   "outputs": [
    {
     "data": {
      "text/plain": [
       "42.471821756225424"
      ]
     },
     "execution_count": 170,
     "metadata": {},
     "output_type": "execute_result"
    }
   ],
   "source": [
    "GT[\"A\"][\"Male\"]"
   ]
  },
  {
   "cell_type": "markdown",
   "metadata": {},
   "source": [
    "## Reason for Infection"
   ]
  },
  {
   "cell_type": "code",
   "execution_count": 329,
   "metadata": {},
   "outputs": [
    {
     "data": {
      "image/png": "[encoded data removed]",
      "text/plain": [
       "<Figure size 1080x360 with 1 Axes>"
      ]
     },
     "metadata": {},
     "output_type": "display_data"
    }
   ],
   "source": [
    "plt.figure(figsize=(15,5))\n",
    "plt.title('Infection reason')\n",
    "PatientInfo_data[\"infection_case\"].value_counts().plot.barh();"
   ]
  },
  {
   "cell_type": "code",
   "execution_count": 330,
   "metadata": {},
   "outputs": [
    {
     "data": {
      "text/html": [
       "<div>\n",
       "<style scoped>\n",
       "    .dataframe tbody tr th:only-of-type {\n",
       "        vertical-align: middle;\n",
       "    }\n",
       "\n",
       "    .dataframe tbody tr th {\n",
       "        vertical-align: top;\n",
       "    }\n",
       "\n",
       "    .dataframe thead th {\n",
       "        text-align: right;\n",
       "    }\n",
       "</style>\n",
       "<table border=\"1\" class=\"dataframe\">\n",
       "  <thead>\n",
       "    <tr style=\"text-align: right;\">\n",
       "      <th></th>\n",
       "      <th>patient_id</th>\n",
       "      <th>global_num</th>\n",
       "      <th>sex</th>\n",
       "      <th>birth_year</th>\n",
       "      <th>age</th>\n",
       "      <th>country</th>\n",
       "      <th>province</th>\n",
       "      <th>city</th>\n",
       "      <th>disease</th>\n",
       "      <th>infection_case</th>\n",
       "      <th>...</th>\n",
       "      <th>confirmed_date</th>\n",
       "      <th>released_date</th>\n",
       "      <th>deceased_date</th>\n",
       "      <th>state</th>\n",
       "      <th>Exact Age</th>\n",
       "      <th>Age</th>\n",
       "      <th>Date IN</th>\n",
       "      <th>Date OUT</th>\n",
       "      <th>Date Deceased</th>\n",
       "      <th>Symptoms Onset Date</th>\n",
       "    </tr>\n",
       "  </thead>\n",
       "  <tbody>\n",
       "    <tr>\n",
       "      <td>0</td>\n",
       "      <td>1000000001</td>\n",
       "      <td>2.0</td>\n",
       "      <td>male</td>\n",
       "      <td>1964.0</td>\n",
       "      <td>50s</td>\n",
       "      <td>Korea</td>\n",
       "      <td>Seoul</td>\n",
       "      <td>Gangseo-gu</td>\n",
       "      <td>NaN</td>\n",
       "      <td>overseas inflow</td>\n",
       "      <td>...</td>\n",
       "      <td>2020-01-23</td>\n",
       "      <td>2020-02-05</td>\n",
       "      <td>NaN</td>\n",
       "      <td>released</td>\n",
       "      <td>56.0</td>\n",
       "      <td>50</td>\n",
       "      <td>2020-01-23</td>\n",
       "      <td>2020-02-05</td>\n",
       "      <td>NaT</td>\n",
       "      <td>2020-01-22</td>\n",
       "    </tr>\n",
       "    <tr>\n",
       "      <td>1</td>\n",
       "      <td>1000000002</td>\n",
       "      <td>5.0</td>\n",
       "      <td>male</td>\n",
       "      <td>1987.0</td>\n",
       "      <td>30s</td>\n",
       "      <td>Korea</td>\n",
       "      <td>Seoul</td>\n",
       "      <td>Jungnang-gu</td>\n",
       "      <td>NaN</td>\n",
       "      <td>overseas inflow</td>\n",
       "      <td>...</td>\n",
       "      <td>2020-01-30</td>\n",
       "      <td>2020-03-02</td>\n",
       "      <td>NaN</td>\n",
       "      <td>released</td>\n",
       "      <td>33.0</td>\n",
       "      <td>30</td>\n",
       "      <td>2020-01-30</td>\n",
       "      <td>2020-03-02</td>\n",
       "      <td>NaT</td>\n",
       "      <td>NaT</td>\n",
       "    </tr>\n",
       "    <tr>\n",
       "      <td>2</td>\n",
       "      <td>1000000003</td>\n",
       "      <td>6.0</td>\n",
       "      <td>male</td>\n",
       "      <td>1964.0</td>\n",
       "      <td>50s</td>\n",
       "      <td>Korea</td>\n",
       "      <td>Seoul</td>\n",
       "      <td>Jongno-gu</td>\n",
       "      <td>NaN</td>\n",
       "      <td>contact with patient</td>\n",
       "      <td>...</td>\n",
       "      <td>2020-01-30</td>\n",
       "      <td>2020-02-19</td>\n",
       "      <td>NaN</td>\n",
       "      <td>released</td>\n",
       "      <td>56.0</td>\n",
       "      <td>50</td>\n",
       "      <td>2020-01-30</td>\n",
       "      <td>2020-02-19</td>\n",
       "      <td>NaT</td>\n",
       "      <td>NaT</td>\n",
       "    </tr>\n",
       "    <tr>\n",
       "      <td>3</td>\n",
       "      <td>1000000004</td>\n",
       "      <td>7.0</td>\n",
       "      <td>male</td>\n",
       "      <td>1991.0</td>\n",
       "      <td>20s</td>\n",
       "      <td>Korea</td>\n",
       "      <td>Seoul</td>\n",
       "      <td>Mapo-gu</td>\n",
       "      <td>NaN</td>\n",
       "      <td>overseas inflow</td>\n",
       "      <td>...</td>\n",
       "      <td>2020-01-30</td>\n",
       "      <td>2020-02-15</td>\n",
       "      <td>NaN</td>\n",
       "      <td>released</td>\n",
       "      <td>29.0</td>\n",
       "      <td>20</td>\n",
       "      <td>2020-01-30</td>\n",
       "      <td>2020-02-15</td>\n",
       "      <td>NaT</td>\n",
       "      <td>2020-01-26</td>\n",
       "    </tr>\n",
       "    <tr>\n",
       "      <td>4</td>\n",
       "      <td>1000000005</td>\n",
       "      <td>9.0</td>\n",
       "      <td>female</td>\n",
       "      <td>1992.0</td>\n",
       "      <td>20s</td>\n",
       "      <td>Korea</td>\n",
       "      <td>Seoul</td>\n",
       "      <td>Seongbuk-gu</td>\n",
       "      <td>NaN</td>\n",
       "      <td>contact with patient</td>\n",
       "      <td>...</td>\n",
       "      <td>2020-01-31</td>\n",
       "      <td>2020-02-24</td>\n",
       "      <td>NaN</td>\n",
       "      <td>released</td>\n",
       "      <td>28.0</td>\n",
       "      <td>20</td>\n",
       "      <td>2020-01-31</td>\n",
       "      <td>2020-02-24</td>\n",
       "      <td>NaT</td>\n",
       "      <td>NaT</td>\n",
       "    </tr>\n",
       "  </tbody>\n",
       "</table>\n",
       "<p>5 rows × 24 columns</p>\n",
       "</div>"
      ],
      "text/plain": [
       "   patient_id  global_num     sex  birth_year  age country province  \\\n",
       "0  1000000001         2.0    male      1964.0  50s   Korea    Seoul   \n",
       "1  1000000002         5.0    male      1987.0  30s   Korea    Seoul   \n",
       "2  1000000003         6.0    male      1964.0  50s   Korea    Seoul   \n",
       "3  1000000004         7.0    male      1991.0  20s   Korea    Seoul   \n",
       "4  1000000005         9.0  female      1992.0  20s   Korea    Seoul   \n",
       "\n",
       "          city disease        infection_case  ...  confirmed_date  \\\n",
       "0   Gangseo-gu     NaN       overseas inflow  ...      2020-01-23   \n",
       "1  Jungnang-gu     NaN       overseas inflow  ...      2020-01-30   \n",
       "2    Jongno-gu     NaN  contact with patient  ...      2020-01-30   \n",
       "3      Mapo-gu     NaN       overseas inflow  ...      2020-01-30   \n",
       "4  Seongbuk-gu     NaN  contact with patient  ...      2020-01-31   \n",
       "\n",
       "   released_date  deceased_date     state Exact Age Age    Date IN   Date OUT  \\\n",
       "0     2020-02-05            NaN  released      56.0  50 2020-01-23 2020-02-05   \n",
       "1     2020-03-02            NaN  released      33.0  30 2020-01-30 2020-03-02   \n",
       "2     2020-02-19            NaN  released      56.0  50 2020-01-30 2020-02-19   \n",
       "3     2020-02-15            NaN  released      29.0  20 2020-01-30 2020-02-15   \n",
       "4     2020-02-24            NaN  released      28.0  20 2020-01-31 2020-02-24   \n",
       "\n",
       "   Date Deceased  Symptoms Onset Date  \n",
       "0            NaT           2020-01-22  \n",
       "1            NaT                  NaT  \n",
       "2            NaT                  NaT  \n",
       "3            NaT           2020-01-26  \n",
       "4            NaT                  NaT  \n",
       "\n",
       "[5 rows x 24 columns]"
      ]
     },
     "execution_count": 330,
     "metadata": {},
     "output_type": "execute_result"
    }
   ],
   "source": [
    "PatientInfo_data.head()"
   ]
  },
  {
   "cell_type": "markdown",
   "metadata": {},
   "source": [
    "## Age"
   ]
  },
  {
   "cell_type": "code",
   "execution_count": 331,
   "metadata": {},
   "outputs": [
    {
     "data": {
      "text/plain": [
       "ID\n",
       "1000000001    56.0\n",
       "1000000002    33.0\n",
       "1000000003    56.0\n",
       "1000000004    29.0\n",
       "1000000005    28.0\n",
       "              ... \n",
       "6118000021    72.0\n",
       "7000000001    22.0\n",
       "7000000002    22.0\n",
       "7000000003    48.0\n",
       "7000000004    46.0\n",
       "Name: Exact Age, Length: 2243, dtype: float64"
      ]
     },
     "execution_count": 331,
     "metadata": {},
     "output_type": "execute_result"
    },
    {
     "data": {
      "image/png": "[encoded data removed]",
      "text/plain": [
       "<Figure size 432x288 with 1 Axes>"
      ]
     },
     "metadata": {},
     "output_type": "display_data"
    }
   ],
   "source": [
    "admitted_daily = Dates.groupby(\"ID\")[\"Exact Age\"].mean()\n",
    "#print(f\"Daily Average Age of Any Admitted Cases in South Korea\", admitted_daily)\n",
    "admitted_mean = admitted_daily\n",
    "#print(f\"Average Age of All Cases in South Korea\", admitted_mean)\n",
    "admitted_daily.plot.area(grid=True, color='cyan')\n",
    "plt.title('Daily Average Age of All Admitted Cases in South Korea')\n",
    "admitted_daily\n",
    "\n"
   ]
  },
  {
   "cell_type": "markdown",
   "metadata": {},
   "source": [
    "## Daily Average Age of the Deceased"
   ]
  },
  {
   "cell_type": "code",
   "execution_count": 336,
   "metadata": {},
   "outputs": [],
   "source": [
    "Dates\n",
    "deceased_daily = Dates.groupby(Dates[\"Deceased\"])[\"Age\"].mean()"
   ]
  },
  {
   "cell_type": "code",
   "execution_count": 337,
   "metadata": {},
   "outputs": [
    {
     "name": "stdout",
     "output_type": "stream",
     "text": [
      "Daily Average Age of Deceased Cases in South Korea Deceased\n",
      "2020-02-19    63.000000\n",
      "2020-02-21    55.000000\n",
      "2020-02-23    58.750000\n",
      "2020-02-24    67.000000\n",
      "2020-02-25    47.000000\n",
      "2020-02-26    74.000000\n",
      "2020-02-27    75.000000\n",
      "2020-03-01    70.666667\n",
      "2020-03-02    74.000000\n",
      "2020-03-03    87.000000\n",
      "2020-03-04    78.500000\n",
      "2020-03-05    71.666667\n",
      "2020-03-06    81.000000\n",
      "2020-03-07    90.000000\n",
      "2020-03-09    75.333333\n",
      "Name: Exact Age, dtype: float64\n",
      "Average Age of Deceased Cases in South Korea 71.19444444444444\n"
     ]
    }
   ],
   "source": [
    "deceased_daily = Dates.groupby(Dates[\"Deceased\"])[\"Exact Age\"].mean()\n",
    "print(f\"Daily Average Age of Deceased Cases in South Korea\", deceased_daily)\n",
    "deceased_mean = deceased_daily.mean()\n",
    "print(f\"Average Age of Deceased Cases in South Korea\", deceased_mean)\n"
   ]
  },
  {
   "cell_type": "markdown",
   "metadata": {},
   "source": [
    "## The Average Age of the Deceased \n"
   ]
  },
  {
   "cell_type": "code",
   "execution_count": 338,
   "metadata": {},
   "outputs": [
    {
     "data": {
      "text/plain": [
       "71.19444444444444"
      ]
     },
     "execution_count": 338,
     "metadata": {},
     "output_type": "execute_result"
    }
   ],
   "source": [
    "deceased_mean\n",
    "avg_age_deceased"
   ]
  },
  {
   "cell_type": "code",
   "execution_count": 339,
   "metadata": {},
   "outputs": [
    {
     "data": {
      "text/plain": [
       "Text(0.5, 1.0, 'Daily Average Age of Deceased Cases in South Korea')"
      ]
     },
     "execution_count": 339,
     "metadata": {},
     "output_type": "execute_result"
    },
    {
     "data": {
      "image/png": "[encoded data removed]",
      "text/plain": [
       "<Figure size 432x288 with 1 Axes>"
      ]
     },
     "metadata": {},
     "output_type": "display_data"
    }
   ],
   "source": [
    "deceased_daily.plot.area(grid=True, color='r')\n",
    "plt.title('Daily Average Age of Deceased Cases in South Korea')"
   ]
  },
  {
   "cell_type": "code",
   "execution_count": null,
   "metadata": {},
   "outputs": [],
   "source": []
  },
  {
   "cell_type": "code",
   "execution_count": 350,
   "metadata": {},
   "outputs": [
    {
     "data": {
      "image/png": "[encoded data removed]",
      "text/plain": [
       "<Figure size 432x288 with 1 Axes>"
      ]
     },
     "metadata": {},
     "output_type": "display_data"
    }
   ],
   "source": [
    "fig, ax = plt.subplots()\n",
    "ax.plot(deceased_daily)\n",
    "#ax.deceased_daily.plot.area(grid=True, color='r')\n",
    "#ax.plot.title('Daily Average Age of Deceased Cases in South Korea')\n",
    "#ax.hist(x, 50)\n",
    "# these are matplotlib.patch.Patch properties\n",
    "props = dict(boxstyle='round', facecolor='wheat', alpha=0.5)\n",
    "\n",
    "textstr = \"Daily Average Age of Deceased in South Korea\"\n",
    "# place a text box in upper left in axes coords\n",
    "ax.text(0.05, 0.95, textstr,transform=ax.transAxes, fontsize=14,\n",
    "        verticalalignment='top', bbox=props)\n",
    "\n",
    "plt.show()"
   ]
  },
  {
   "cell_type": "markdown",
   "metadata": {},
   "source": [
    "## Daily Average Age of the Confirmed"
   ]
  },
  {
   "cell_type": "code",
   "execution_count": 341,
   "metadata": {},
   "outputs": [
    {
     "name": "stdout",
     "output_type": "stream",
     "text": [
      "Daily Average Age of Confirmed Cases in South Korea Confirmed\n",
      "2020-01-20    35.000000\n",
      "2020-01-23    56.000000\n",
      "2020-01-26    54.000000\n",
      "2020-01-27    56.000000\n",
      "2020-01-30    39.333333\n",
      "2020-01-31    42.250000\n",
      "2020-02-01    49.000000\n",
      "2020-02-02    37.000000\n",
      "2020-02-04          NaN\n",
      "2020-02-05    44.250000\n",
      "2020-02-06    52.000000\n",
      "2020-02-07    28.000000\n",
      "2020-02-09    54.666667\n",
      "2020-02-10    31.000000\n",
      "2020-02-16    75.000000\n",
      "2020-02-18    38.142857\n",
      "2020-02-19    51.038462\n",
      "2020-02-20    45.882353\n",
      "2020-02-21    42.952381\n",
      "2020-02-22    43.909091\n",
      "2020-02-23    42.929825\n",
      "2020-02-24    42.102041\n",
      "2020-02-25    48.175000\n",
      "2020-02-26    43.642105\n",
      "2020-02-27    43.956522\n",
      "2020-02-28    47.435185\n",
      "2020-02-29    41.182927\n",
      "2020-03-01    43.732759\n",
      "2020-03-02    44.857143\n",
      "2020-03-03    39.873684\n",
      "2020-03-04    39.267442\n",
      "2020-03-05    45.206522\n",
      "2020-03-06    50.941176\n",
      "2020-03-07    52.640000\n",
      "2020-03-08    44.333333\n",
      "2020-03-09    45.920635\n",
      "2020-03-10    46.586207\n",
      "2020-03-11    45.750000\n",
      "2020-03-12    44.045455\n",
      "2020-03-13    45.562500\n",
      "2020-03-14    54.035714\n",
      "2020-03-15    50.657143\n",
      "2020-03-16    42.588235\n",
      "2020-03-17    44.033333\n",
      "2020-03-18    42.343750\n",
      "2020-03-19    47.294118\n",
      "2020-03-20          NaN\n",
      "Name: Exact Age, dtype: float64\n",
      "Average Age of Confirmed Cases in South Korea 45.655953261118285\n"
     ]
    }
   ],
   "source": [
    "confirmed_daily = Dates.groupby(Dates[\"Confirmed\"])[\"Exact Age\"].mean()\n",
    "confirmed_mean = confirmed_daily.mean()\n",
    "print(f\"Daily Average Age of Confirmed Cases in South Korea\", confirmed_daily)\n",
    "print(f\"Average Age of Confirmed Cases in South Korea\", confirmed_mean)"
   ]
  },
  {
   "cell_type": "code",
   "execution_count": 342,
   "metadata": {},
   "outputs": [
    {
     "data": {
      "text/plain": [
       "Text(0.5, 1.0, 'Daily Average Age of Confirmed Cases in South Korea')"
      ]
     },
     "execution_count": 342,
     "metadata": {},
     "output_type": "execute_result"
    },
    {
     "data": {
      "image/png": "[encoded data removed]",
      "text/plain": [
       "<Figure size 432x288 with 1 Axes>"
      ]
     },
     "metadata": {},
     "output_type": "display_data"
    }
   ],
   "source": [
    "confirmed_daily.plot.area(grid=True, color='b')\n",
    "plt.title('Daily Average Age of Confirmed Cases in South Korea')"
   ]
  },
  {
   "cell_type": "code",
   "execution_count": 343,
   "metadata": {},
   "outputs": [
    {
     "name": "stdout",
     "output_type": "stream",
     "text": [
      "Daily Average Age of Released Cases in South Korea Released\n",
      "2020-02-05    56.000000\n",
      "2020-02-06    35.000000\n",
      "2020-02-09    56.000000\n",
      "2020-02-10    25.000000\n",
      "2020-02-12    51.333333\n",
      "2020-02-15    37.500000\n",
      "2020-02-17    31.000000\n",
      "2020-02-18    44.500000\n",
      "2020-02-19    55.000000\n",
      "2020-02-20          NaN\n",
      "2020-02-21    37.000000\n",
      "2020-02-24    35.250000\n",
      "2020-02-26    61.000000\n",
      "2020-02-27    39.000000\n",
      "2020-02-28    52.000000\n",
      "2020-02-29    59.000000\n",
      "2020-03-01    76.000000\n",
      "2020-03-02    54.500000\n",
      "2020-03-03    37.500000\n",
      "2020-03-04    37.200000\n",
      "2020-03-05    45.200000\n",
      "2020-03-06    41.333333\n",
      "2020-03-07    31.000000\n",
      "2020-03-08    81.500000\n",
      "2020-03-09          NaN\n",
      "2020-03-10    42.666667\n",
      "2020-03-11    38.466667\n",
      "2020-03-12    42.000000\n",
      "2020-03-13    43.380952\n",
      "2020-03-14    43.000000\n",
      "2020-03-15    33.000000\n",
      "2020-03-16    31.066667\n",
      "2020-03-17    34.230769\n",
      "2020-03-18    29.000000\n",
      "2020-03-19    45.666667\n",
      "2020-03-20    35.166667\n",
      "Name: Exact Age, dtype: float64\n",
      "Average Age of Released Cases in South Korea 44.013580047403586\n"
     ]
    }
   ],
   "source": [
    "released_daily = Dates.groupby(Dates[\"Released\"])[\"Exact Age\"].mean()\n",
    "released_mean = released_daily.mean()\n",
    "print(f\"Daily Average Age of Released Cases in South Korea\", released_daily)\n",
    "print(f\"Average Age of Released Cases in South Korea\", released_mean)"
   ]
  },
  {
   "cell_type": "code",
   "execution_count": 344,
   "metadata": {},
   "outputs": [
    {
     "data": {
      "text/plain": [
       "Text(0.5, 1.0, 'Daily Average Age of Released Cases in South Korea')"
      ]
     },
     "execution_count": 344,
     "metadata": {},
     "output_type": "execute_result"
    },
    {
     "data": {
      "image/png": "[encoded data removed]",
      "text/plain": [
       "<Figure size 432x288 with 1 Axes>"
      ]
     },
     "metadata": {},
     "output_type": "display_data"
    }
   ],
   "source": [
    "released_daily.plot.area(grid=True, color='g')\n",
    "plt.title('Daily Average Age of Released Cases in South Korea')"
   ]
  },
  {
   "cell_type": "code",
   "execution_count": 351,
   "metadata": {},
   "outputs": [
    {
     "data": {
      "text/html": [
       "<div>\n",
       "<style scoped>\n",
       "    .dataframe tbody tr th:only-of-type {\n",
       "        vertical-align: middle;\n",
       "    }\n",
       "\n",
       "    .dataframe tbody tr th {\n",
       "        vertical-align: top;\n",
       "    }\n",
       "\n",
       "    .dataframe thead th {\n",
       "        text-align: right;\n",
       "    }\n",
       "</style>\n",
       "<table border=\"1\" class=\"dataframe\">\n",
       "  <thead>\n",
       "    <tr style=\"text-align: right;\">\n",
       "      <th></th>\n",
       "      <th>Deceased</th>\n",
       "      <th>Confirmed</th>\n",
       "      <th>Released</th>\n",
       "    </tr>\n",
       "  </thead>\n",
       "  <tbody>\n",
       "    <tr>\n",
       "      <td>2020-01-20</td>\n",
       "      <td>NaN</td>\n",
       "      <td>35.000000</td>\n",
       "      <td>NaN</td>\n",
       "    </tr>\n",
       "    <tr>\n",
       "      <td>2020-01-23</td>\n",
       "      <td>NaN</td>\n",
       "      <td>56.000000</td>\n",
       "      <td>NaN</td>\n",
       "    </tr>\n",
       "    <tr>\n",
       "      <td>2020-01-26</td>\n",
       "      <td>NaN</td>\n",
       "      <td>54.000000</td>\n",
       "      <td>NaN</td>\n",
       "    </tr>\n",
       "    <tr>\n",
       "      <td>2020-01-27</td>\n",
       "      <td>NaN</td>\n",
       "      <td>56.000000</td>\n",
       "      <td>NaN</td>\n",
       "    </tr>\n",
       "    <tr>\n",
       "      <td>2020-01-30</td>\n",
       "      <td>NaN</td>\n",
       "      <td>39.333333</td>\n",
       "      <td>NaN</td>\n",
       "    </tr>\n",
       "    <tr>\n",
       "      <td>2020-01-31</td>\n",
       "      <td>NaN</td>\n",
       "      <td>42.250000</td>\n",
       "      <td>NaN</td>\n",
       "    </tr>\n",
       "    <tr>\n",
       "      <td>2020-02-01</td>\n",
       "      <td>NaN</td>\n",
       "      <td>49.000000</td>\n",
       "      <td>NaN</td>\n",
       "    </tr>\n",
       "    <tr>\n",
       "      <td>2020-02-02</td>\n",
       "      <td>NaN</td>\n",
       "      <td>37.000000</td>\n",
       "      <td>NaN</td>\n",
       "    </tr>\n",
       "    <tr>\n",
       "      <td>2020-02-04</td>\n",
       "      <td>NaN</td>\n",
       "      <td>NaN</td>\n",
       "      <td>NaN</td>\n",
       "    </tr>\n",
       "    <tr>\n",
       "      <td>2020-02-05</td>\n",
       "      <td>NaN</td>\n",
       "      <td>44.250000</td>\n",
       "      <td>56.000000</td>\n",
       "    </tr>\n",
       "    <tr>\n",
       "      <td>2020-02-06</td>\n",
       "      <td>NaN</td>\n",
       "      <td>52.000000</td>\n",
       "      <td>35.000000</td>\n",
       "    </tr>\n",
       "    <tr>\n",
       "      <td>2020-02-07</td>\n",
       "      <td>NaN</td>\n",
       "      <td>28.000000</td>\n",
       "      <td>NaN</td>\n",
       "    </tr>\n",
       "    <tr>\n",
       "      <td>2020-02-09</td>\n",
       "      <td>NaN</td>\n",
       "      <td>54.666667</td>\n",
       "      <td>56.000000</td>\n",
       "    </tr>\n",
       "    <tr>\n",
       "      <td>2020-02-10</td>\n",
       "      <td>NaN</td>\n",
       "      <td>31.000000</td>\n",
       "      <td>25.000000</td>\n",
       "    </tr>\n",
       "    <tr>\n",
       "      <td>2020-02-12</td>\n",
       "      <td>NaN</td>\n",
       "      <td>NaN</td>\n",
       "      <td>51.333333</td>\n",
       "    </tr>\n",
       "    <tr>\n",
       "      <td>2020-02-15</td>\n",
       "      <td>NaN</td>\n",
       "      <td>NaN</td>\n",
       "      <td>37.500000</td>\n",
       "    </tr>\n",
       "    <tr>\n",
       "      <td>2020-02-16</td>\n",
       "      <td>NaN</td>\n",
       "      <td>75.000000</td>\n",
       "      <td>NaN</td>\n",
       "    </tr>\n",
       "    <tr>\n",
       "      <td>2020-02-17</td>\n",
       "      <td>NaN</td>\n",
       "      <td>NaN</td>\n",
       "      <td>31.000000</td>\n",
       "    </tr>\n",
       "    <tr>\n",
       "      <td>2020-02-18</td>\n",
       "      <td>NaN</td>\n",
       "      <td>38.142857</td>\n",
       "      <td>44.500000</td>\n",
       "    </tr>\n",
       "    <tr>\n",
       "      <td>2020-02-19</td>\n",
       "      <td>63.000000</td>\n",
       "      <td>51.038462</td>\n",
       "      <td>55.000000</td>\n",
       "    </tr>\n",
       "    <tr>\n",
       "      <td>2020-02-20</td>\n",
       "      <td>NaN</td>\n",
       "      <td>45.882353</td>\n",
       "      <td>NaN</td>\n",
       "    </tr>\n",
       "    <tr>\n",
       "      <td>2020-02-21</td>\n",
       "      <td>55.000000</td>\n",
       "      <td>42.952381</td>\n",
       "      <td>37.000000</td>\n",
       "    </tr>\n",
       "    <tr>\n",
       "      <td>2020-02-22</td>\n",
       "      <td>NaN</td>\n",
       "      <td>43.909091</td>\n",
       "      <td>NaN</td>\n",
       "    </tr>\n",
       "    <tr>\n",
       "      <td>2020-02-23</td>\n",
       "      <td>58.750000</td>\n",
       "      <td>42.929825</td>\n",
       "      <td>NaN</td>\n",
       "    </tr>\n",
       "    <tr>\n",
       "      <td>2020-02-24</td>\n",
       "      <td>67.000000</td>\n",
       "      <td>42.102041</td>\n",
       "      <td>35.250000</td>\n",
       "    </tr>\n",
       "    <tr>\n",
       "      <td>2020-02-25</td>\n",
       "      <td>47.000000</td>\n",
       "      <td>48.175000</td>\n",
       "      <td>NaN</td>\n",
       "    </tr>\n",
       "    <tr>\n",
       "      <td>2020-02-26</td>\n",
       "      <td>74.000000</td>\n",
       "      <td>43.642105</td>\n",
       "      <td>61.000000</td>\n",
       "    </tr>\n",
       "    <tr>\n",
       "      <td>2020-02-27</td>\n",
       "      <td>75.000000</td>\n",
       "      <td>43.956522</td>\n",
       "      <td>39.000000</td>\n",
       "    </tr>\n",
       "    <tr>\n",
       "      <td>2020-02-28</td>\n",
       "      <td>NaN</td>\n",
       "      <td>47.435185</td>\n",
       "      <td>52.000000</td>\n",
       "    </tr>\n",
       "    <tr>\n",
       "      <td>2020-02-29</td>\n",
       "      <td>NaN</td>\n",
       "      <td>41.182927</td>\n",
       "      <td>59.000000</td>\n",
       "    </tr>\n",
       "    <tr>\n",
       "      <td>2020-03-01</td>\n",
       "      <td>70.666667</td>\n",
       "      <td>43.732759</td>\n",
       "      <td>76.000000</td>\n",
       "    </tr>\n",
       "    <tr>\n",
       "      <td>2020-03-02</td>\n",
       "      <td>74.000000</td>\n",
       "      <td>44.857143</td>\n",
       "      <td>54.500000</td>\n",
       "    </tr>\n",
       "    <tr>\n",
       "      <td>2020-03-03</td>\n",
       "      <td>87.000000</td>\n",
       "      <td>39.873684</td>\n",
       "      <td>37.500000</td>\n",
       "    </tr>\n",
       "    <tr>\n",
       "      <td>2020-03-04</td>\n",
       "      <td>78.500000</td>\n",
       "      <td>39.267442</td>\n",
       "      <td>37.200000</td>\n",
       "    </tr>\n",
       "    <tr>\n",
       "      <td>2020-03-05</td>\n",
       "      <td>71.666667</td>\n",
       "      <td>45.206522</td>\n",
       "      <td>45.200000</td>\n",
       "    </tr>\n",
       "    <tr>\n",
       "      <td>2020-03-06</td>\n",
       "      <td>81.000000</td>\n",
       "      <td>50.941176</td>\n",
       "      <td>41.333333</td>\n",
       "    </tr>\n",
       "    <tr>\n",
       "      <td>2020-03-07</td>\n",
       "      <td>90.000000</td>\n",
       "      <td>52.640000</td>\n",
       "      <td>31.000000</td>\n",
       "    </tr>\n",
       "    <tr>\n",
       "      <td>2020-03-08</td>\n",
       "      <td>NaN</td>\n",
       "      <td>44.333333</td>\n",
       "      <td>81.500000</td>\n",
       "    </tr>\n",
       "    <tr>\n",
       "      <td>2020-03-09</td>\n",
       "      <td>75.333333</td>\n",
       "      <td>45.920635</td>\n",
       "      <td>NaN</td>\n",
       "    </tr>\n",
       "    <tr>\n",
       "      <td>2020-03-10</td>\n",
       "      <td>NaN</td>\n",
       "      <td>46.586207</td>\n",
       "      <td>42.666667</td>\n",
       "    </tr>\n",
       "    <tr>\n",
       "      <td>2020-03-11</td>\n",
       "      <td>NaN</td>\n",
       "      <td>45.750000</td>\n",
       "      <td>38.466667</td>\n",
       "    </tr>\n",
       "    <tr>\n",
       "      <td>2020-03-12</td>\n",
       "      <td>NaN</td>\n",
       "      <td>44.045455</td>\n",
       "      <td>42.000000</td>\n",
       "    </tr>\n",
       "    <tr>\n",
       "      <td>2020-03-13</td>\n",
       "      <td>NaN</td>\n",
       "      <td>45.562500</td>\n",
       "      <td>43.380952</td>\n",
       "    </tr>\n",
       "    <tr>\n",
       "      <td>2020-03-14</td>\n",
       "      <td>NaN</td>\n",
       "      <td>54.035714</td>\n",
       "      <td>43.000000</td>\n",
       "    </tr>\n",
       "    <tr>\n",
       "      <td>2020-03-15</td>\n",
       "      <td>NaN</td>\n",
       "      <td>50.657143</td>\n",
       "      <td>33.000000</td>\n",
       "    </tr>\n",
       "    <tr>\n",
       "      <td>2020-03-16</td>\n",
       "      <td>NaN</td>\n",
       "      <td>42.588235</td>\n",
       "      <td>31.066667</td>\n",
       "    </tr>\n",
       "    <tr>\n",
       "      <td>2020-03-17</td>\n",
       "      <td>NaN</td>\n",
       "      <td>44.033333</td>\n",
       "      <td>34.230769</td>\n",
       "    </tr>\n",
       "    <tr>\n",
       "      <td>2020-03-18</td>\n",
       "      <td>NaN</td>\n",
       "      <td>42.343750</td>\n",
       "      <td>29.000000</td>\n",
       "    </tr>\n",
       "    <tr>\n",
       "      <td>2020-03-19</td>\n",
       "      <td>NaN</td>\n",
       "      <td>47.294118</td>\n",
       "      <td>45.666667</td>\n",
       "    </tr>\n",
       "    <tr>\n",
       "      <td>2020-03-20</td>\n",
       "      <td>NaN</td>\n",
       "      <td>NaN</td>\n",
       "      <td>35.166667</td>\n",
       "    </tr>\n",
       "  </tbody>\n",
       "</table>\n",
       "</div>"
      ],
      "text/plain": [
       "             Deceased  Confirmed   Released\n",
       "2020-01-20        NaN  35.000000        NaN\n",
       "2020-01-23        NaN  56.000000        NaN\n",
       "2020-01-26        NaN  54.000000        NaN\n",
       "2020-01-27        NaN  56.000000        NaN\n",
       "2020-01-30        NaN  39.333333        NaN\n",
       "2020-01-31        NaN  42.250000        NaN\n",
       "2020-02-01        NaN  49.000000        NaN\n",
       "2020-02-02        NaN  37.000000        NaN\n",
       "2020-02-04        NaN        NaN        NaN\n",
       "2020-02-05        NaN  44.250000  56.000000\n",
       "2020-02-06        NaN  52.000000  35.000000\n",
       "2020-02-07        NaN  28.000000        NaN\n",
       "2020-02-09        NaN  54.666667  56.000000\n",
       "2020-02-10        NaN  31.000000  25.000000\n",
       "2020-02-12        NaN        NaN  51.333333\n",
       "2020-02-15        NaN        NaN  37.500000\n",
       "2020-02-16        NaN  75.000000        NaN\n",
       "2020-02-17        NaN        NaN  31.000000\n",
       "2020-02-18        NaN  38.142857  44.500000\n",
       "2020-02-19  63.000000  51.038462  55.000000\n",
       "2020-02-20        NaN  45.882353        NaN\n",
       "2020-02-21  55.000000  42.952381  37.000000\n",
       "2020-02-22        NaN  43.909091        NaN\n",
       "2020-02-23  58.750000  42.929825        NaN\n",
       "2020-02-24  67.000000  42.102041  35.250000\n",
       "2020-02-25  47.000000  48.175000        NaN\n",
       "2020-02-26  74.000000  43.642105  61.000000\n",
       "2020-02-27  75.000000  43.956522  39.000000\n",
       "2020-02-28        NaN  47.435185  52.000000\n",
       "2020-02-29        NaN  41.182927  59.000000\n",
       "2020-03-01  70.666667  43.732759  76.000000\n",
       "2020-03-02  74.000000  44.857143  54.500000\n",
       "2020-03-03  87.000000  39.873684  37.500000\n",
       "2020-03-04  78.500000  39.267442  37.200000\n",
       "2020-03-05  71.666667  45.206522  45.200000\n",
       "2020-03-06  81.000000  50.941176  41.333333\n",
       "2020-03-07  90.000000  52.640000  31.000000\n",
       "2020-03-08        NaN  44.333333  81.500000\n",
       "2020-03-09  75.333333  45.920635        NaN\n",
       "2020-03-10        NaN  46.586207  42.666667\n",
       "2020-03-11        NaN  45.750000  38.466667\n",
       "2020-03-12        NaN  44.045455  42.000000\n",
       "2020-03-13        NaN  45.562500  43.380952\n",
       "2020-03-14        NaN  54.035714  43.000000\n",
       "2020-03-15        NaN  50.657143  33.000000\n",
       "2020-03-16        NaN  42.588235  31.066667\n",
       "2020-03-17        NaN  44.033333  34.230769\n",
       "2020-03-18        NaN  42.343750  29.000000\n",
       "2020-03-19        NaN  47.294118  45.666667\n",
       "2020-03-20        NaN        NaN  35.166667"
      ]
     },
     "execution_count": 351,
     "metadata": {},
     "output_type": "execute_result"
    }
   ],
   "source": [
    "COVID_Days = pd.DataFrame({\"Deceased\": deceased_daily, \"Confirmed\": confirmed_daily, \"Released\": released_daily})\n",
    "COVID_Days"
   ]
  },
  {
   "cell_type": "code",
   "execution_count": 353,
   "metadata": {},
   "outputs": [
    {
     "data": {
      "image/png": "[encoded data removed]",
      "text/plain": [
       "<Figure size 432x288 with 1 Axes>"
      ]
     },
     "metadata": {},
     "output_type": "display_data"
    }
   ],
   "source": [
    "COVID_Days.plot.area(stacked=False);\n",
    "\n"
   ]
  },
  {
   "cell_type": "code",
   "execution_count": 354,
   "metadata": {},
   "outputs": [
    {
     "name": "stdout",
     "output_type": "stream",
     "text": [
      "Average Age of All Admitted Cases in South Korea Deceased     71.194444\n",
      "Confirmed    45.655953\n",
      "Released     44.013580\n",
      "dtype: float64\n",
      "Average Age of All Cases in South Korea 53.62132591765544\n"
     ]
    },
    {
     "data": {
      "text/plain": [
       "Deceased     71.194444\n",
       "Confirmed    45.655953\n",
       "Released     44.013580\n",
       "dtype: float64"
      ]
     },
     "execution_count": 354,
     "metadata": {},
     "output_type": "execute_result"
    },
    {
     "data": {
      "image/png": "[encoded data removed]",
      "text/plain": [
       "<Figure size 432x288 with 1 Axes>"
      ]
     },
     "metadata": {},
     "output_type": "display_data"
    }
   ],
   "source": [
    "admitted = COVID_Days.mean()\n",
    "print(f\"Average Age of All Admitted Cases in South Korea\", admitted)\n",
    "admitted_mean = admitted.mean()\n",
    "print(f\"Average Age of All Cases in South Korea\", admitted_mean)\n",
    "admitted.plot(grid=True, color='orange', marker='o')\n",
    "plt.title('Average Age of All Admitted Cases in South Korea')\n",
    "admitted\n",
    "\n"
   ]
  },
  {
   "cell_type": "markdown",
   "metadata": {},
   "source": [
    "## Accumulated Confirmed Count"
   ]
  },
  {
   "cell_type": "code",
   "execution_count": 355,
   "metadata": {},
   "outputs": [],
   "source": [
    "daily_count = Dates.groupby(Dates[\"Confirmed\"])[\"ID\"].count()\n",
    "accumulated_count = daily_count.cumsum()"
   ]
  },
  {
   "cell_type": "code",
   "execution_count": 356,
   "metadata": {},
   "outputs": [
    {
     "data": {
      "text/plain": [
       "Text(0.5, 1.0, 'Accumulated Confirmed Count')"
      ]
     },
     "execution_count": 356,
     "metadata": {},
     "output_type": "execute_result"
    },
    {
     "data": {
      "image/png": "[encoded data removed]",
      "text/plain": [
       "<Figure size 432x288 with 1 Axes>"
      ]
     },
     "metadata": {},
     "output_type": "display_data"
    }
   ],
   "source": [
    "accumulated_count.plot(grid=True, color='b')\n",
    "plt.title('Accumulated Confirmed Count')"
   ]
  },
  {
   "cell_type": "markdown",
   "metadata": {},
   "source": [
    "## Accumulated Deceased Count"
   ]
  },
  {
   "cell_type": "code",
   "execution_count": 357,
   "metadata": {},
   "outputs": [],
   "source": [
    "deceased_count = Dates.groupby(Dates[\"Deceased\"])[\"ID\"].count()\n",
    "deceased_count = deceased_count.cumsum()"
   ]
  },
  {
   "cell_type": "code",
   "execution_count": 358,
   "metadata": {},
   "outputs": [
    {
     "data": {
      "text/plain": [
       "Text(0.5, 1.0, 'Accumulated Deceased Count')"
      ]
     },
     "execution_count": 358,
     "metadata": {},
     "output_type": "execute_result"
    },
    {
     "data": {
      "image/png": "[encoded data removed]",
      "text/plain": [
       "<Figure size 432x288 with 1 Axes>"
      ]
     },
     "metadata": {},
     "output_type": "display_data"
    }
   ],
   "source": [
    "deceased_count.plot(grid=True, color='r')\n",
    "plt.title('Accumulated Deceased Count')"
   ]
  },
  {
   "cell_type": "markdown",
   "metadata": {},
   "source": [
    "## Accumulated Released Count"
   ]
  },
  {
   "cell_type": "code",
   "execution_count": 359,
   "metadata": {},
   "outputs": [
    {
     "data": {
      "text/plain": [
       "Text(0.5, 1.0, 'Accumulated Released Count')"
      ]
     },
     "execution_count": 359,
     "metadata": {},
     "output_type": "execute_result"
    },
    {
     "data": {
      "image/png": "[encoded data removed]",
      "text/plain": [
       "<Figure size 432x288 with 1 Axes>"
      ]
     },
     "metadata": {},
     "output_type": "display_data"
    }
   ],
   "source": [
    "released_count = Dates.groupby(Dates[\"Released\"])[\"ID\"].count()\n",
    "released_count = released_count.cumsum()\n",
    "released_count.plot(grid=\"True\", color='g')\n",
    "plt.title('Accumulated Released Count')"
   ]
  },
  {
   "cell_type": "code",
   "execution_count": 360,
   "metadata": {},
   "outputs": [
    {
     "data": {
      "text/plain": [
       "<matplotlib.axes._subplots.AxesSubplot at 0x1a22c7bf10>"
      ]
     },
     "execution_count": 360,
     "metadata": {},
     "output_type": "execute_result"
    },
    {
     "data": {
      "image/png": "[encoded data removed]",
      "text/plain": [
       "<Figure size 432x288 with 1 Axes>"
      ]
     },
     "metadata": {},
     "output_type": "display_data"
    }
   ],
   "source": [
    "released_count.plot(color='g')\n",
    "deceased_count.plot(color='r')\n",
    "accumulated_count.plot(grid=True, color=\"b\")"
   ]
  },
  {
   "cell_type": "markdown",
   "metadata": {},
   "source": [
    "## Understanding This Graph!!!!!"
   ]
  },
  {
   "cell_type": "code",
   "execution_count": 361,
   "metadata": {},
   "outputs": [
    {
     "data": {
      "text/plain": [
       "<matplotlib.axes._subplots.AxesSubplot at 0x1a22183690>"
      ]
     },
     "execution_count": 361,
     "metadata": {},
     "output_type": "execute_result"
    },
    {
     "data": {
      "image/png": "[encoded data removed]",
      "text/plain": [
       "<Figure size 720x432 with 1 Axes>"
      ]
     },
     "metadata": {},
     "output_type": "display_data"
    }
   ],
   "source": [
    "plt.figure(figsize=(10,6))\n",
    "sns.set_style(\"whitegrid\")\n",
    "plt.title(\"Accumulated Graphs\")\n",
    "sns.kdeplot(data=released_count, label=\"Released\", shade=True, color='green')\n",
    "sns.kdeplot(data=deceased_count,label=\"Deceased\" ,shade=True, color='red')\n",
    "sns.kdeplot(data=accumulated_count,label=\"Accumulated\" ,shade=True, color='blue')"
   ]
  },
  {
   "cell_type": "markdown",
   "metadata": {},
   "source": [
    "## New File PatientRoute"
   ]
  },
  {
   "cell_type": "code",
   "execution_count": 363,
   "metadata": {},
   "outputs": [
    {
     "data": {
      "text/html": [
       "<div>\n",
       "<style scoped>\n",
       "    .dataframe tbody tr th:only-of-type {\n",
       "        vertical-align: middle;\n",
       "    }\n",
       "\n",
       "    .dataframe tbody tr th {\n",
       "        vertical-align: top;\n",
       "    }\n",
       "\n",
       "    .dataframe thead th {\n",
       "        text-align: right;\n",
       "    }\n",
       "</style>\n",
       "<table border=\"1\" class=\"dataframe\">\n",
       "  <thead>\n",
       "    <tr style=\"text-align: right;\">\n",
       "      <th></th>\n",
       "      <th>patient_id</th>\n",
       "      <th>global_num</th>\n",
       "      <th>date</th>\n",
       "      <th>province</th>\n",
       "      <th>city</th>\n",
       "      <th>latitude</th>\n",
       "      <th>longitude</th>\n",
       "    </tr>\n",
       "  </thead>\n",
       "  <tbody>\n",
       "    <tr>\n",
       "      <td>0</td>\n",
       "      <td>1400000001</td>\n",
       "      <td>1</td>\n",
       "      <td>2020-01-19</td>\n",
       "      <td>Incheon</td>\n",
       "      <td>Jung-gu</td>\n",
       "      <td>37.460459</td>\n",
       "      <td>126.440680</td>\n",
       "    </tr>\n",
       "    <tr>\n",
       "      <td>1</td>\n",
       "      <td>1400000001</td>\n",
       "      <td>1</td>\n",
       "      <td>2020-01-20</td>\n",
       "      <td>Incheon</td>\n",
       "      <td>Seo-gu</td>\n",
       "      <td>37.478832</td>\n",
       "      <td>126.668558</td>\n",
       "    </tr>\n",
       "    <tr>\n",
       "      <td>2</td>\n",
       "      <td>1000000001</td>\n",
       "      <td>2</td>\n",
       "      <td>2020-01-22</td>\n",
       "      <td>Gyeonggi-do</td>\n",
       "      <td>Gimpo-si</td>\n",
       "      <td>37.562143</td>\n",
       "      <td>126.801884</td>\n",
       "    </tr>\n",
       "    <tr>\n",
       "      <td>3</td>\n",
       "      <td>1000000001</td>\n",
       "      <td>2</td>\n",
       "      <td>2020-01-23</td>\n",
       "      <td>Seoul</td>\n",
       "      <td>Jung-gu</td>\n",
       "      <td>37.567454</td>\n",
       "      <td>127.005627</td>\n",
       "    </tr>\n",
       "    <tr>\n",
       "      <td>4</td>\n",
       "      <td>2000000001</td>\n",
       "      <td>3</td>\n",
       "      <td>2020-01-20</td>\n",
       "      <td>Incheon</td>\n",
       "      <td>Jung-gu</td>\n",
       "      <td>37.460459</td>\n",
       "      <td>126.440680</td>\n",
       "    </tr>\n",
       "  </tbody>\n",
       "</table>\n",
       "</div>"
      ],
      "text/plain": [
       "   patient_id  global_num        date     province      city   latitude  \\\n",
       "0  1400000001           1  2020-01-19      Incheon   Jung-gu  37.460459   \n",
       "1  1400000001           1  2020-01-20      Incheon    Seo-gu  37.478832   \n",
       "2  1000000001           2  2020-01-22  Gyeonggi-do  Gimpo-si  37.562143   \n",
       "3  1000000001           2  2020-01-23        Seoul   Jung-gu  37.567454   \n",
       "4  2000000001           3  2020-01-20      Incheon   Jung-gu  37.460459   \n",
       "\n",
       "    longitude  \n",
       "0  126.440680  \n",
       "1  126.668558  \n",
       "2  126.801884  \n",
       "3  127.005627  \n",
       "4  126.440680  "
      ]
     },
     "execution_count": 363,
     "metadata": {},
     "output_type": "execute_result"
    }
   ],
   "source": [
    "PatientRoute.head()"
   ]
  },
  {
   "cell_type": "code",
   "execution_count": 364,
   "metadata": {},
   "outputs": [
    {
     "data": {
      "text/html": [
       "<div>\n",
       "<style scoped>\n",
       "    .dataframe tbody tr th:only-of-type {\n",
       "        vertical-align: middle;\n",
       "    }\n",
       "\n",
       "    .dataframe tbody tr th {\n",
       "        vertical-align: top;\n",
       "    }\n",
       "\n",
       "    .dataframe thead th {\n",
       "        text-align: right;\n",
       "    }\n",
       "</style>\n",
       "<table border=\"1\" class=\"dataframe\">\n",
       "  <thead>\n",
       "    <tr style=\"text-align: right;\">\n",
       "      <th></th>\n",
       "      <th>global_num</th>\n",
       "      <th>date</th>\n",
       "      <th>province</th>\n",
       "      <th>city</th>\n",
       "      <th>latitude</th>\n",
       "      <th>longitude</th>\n",
       "    </tr>\n",
       "    <tr>\n",
       "      <th>patient_id</th>\n",
       "      <th></th>\n",
       "      <th></th>\n",
       "      <th></th>\n",
       "      <th></th>\n",
       "      <th></th>\n",
       "      <th></th>\n",
       "    </tr>\n",
       "  </thead>\n",
       "  <tbody>\n",
       "    <tr>\n",
       "      <td>1000000001</td>\n",
       "      <td>2</td>\n",
       "      <td>2</td>\n",
       "      <td>2</td>\n",
       "      <td>2</td>\n",
       "      <td>2</td>\n",
       "      <td>2</td>\n",
       "    </tr>\n",
       "    <tr>\n",
       "      <td>1000000002</td>\n",
       "      <td>9</td>\n",
       "      <td>9</td>\n",
       "      <td>9</td>\n",
       "      <td>9</td>\n",
       "      <td>9</td>\n",
       "      <td>9</td>\n",
       "    </tr>\n",
       "    <tr>\n",
       "      <td>1000000003</td>\n",
       "      <td>3</td>\n",
       "      <td>3</td>\n",
       "      <td>3</td>\n",
       "      <td>3</td>\n",
       "      <td>3</td>\n",
       "      <td>3</td>\n",
       "    </tr>\n",
       "    <tr>\n",
       "      <td>1000000004</td>\n",
       "      <td>2</td>\n",
       "      <td>2</td>\n",
       "      <td>2</td>\n",
       "      <td>2</td>\n",
       "      <td>2</td>\n",
       "      <td>2</td>\n",
       "    </tr>\n",
       "    <tr>\n",
       "      <td>1000000005</td>\n",
       "      <td>1</td>\n",
       "      <td>1</td>\n",
       "      <td>1</td>\n",
       "      <td>1</td>\n",
       "      <td>1</td>\n",
       "      <td>1</td>\n",
       "    </tr>\n",
       "    <tr>\n",
       "      <td>1000000006</td>\n",
       "      <td>2</td>\n",
       "      <td>2</td>\n",
       "      <td>2</td>\n",
       "      <td>2</td>\n",
       "      <td>2</td>\n",
       "      <td>2</td>\n",
       "    </tr>\n",
       "    <tr>\n",
       "      <td>1000000007</td>\n",
       "      <td>2</td>\n",
       "      <td>2</td>\n",
       "      <td>2</td>\n",
       "      <td>2</td>\n",
       "      <td>2</td>\n",
       "      <td>2</td>\n",
       "    </tr>\n",
       "    <tr>\n",
       "      <td>1000000008</td>\n",
       "      <td>1</td>\n",
       "      <td>1</td>\n",
       "      <td>1</td>\n",
       "      <td>1</td>\n",
       "      <td>1</td>\n",
       "      <td>1</td>\n",
       "    </tr>\n",
       "    <tr>\n",
       "      <td>1000000009</td>\n",
       "      <td>10</td>\n",
       "      <td>10</td>\n",
       "      <td>10</td>\n",
       "      <td>10</td>\n",
       "      <td>10</td>\n",
       "      <td>10</td>\n",
       "    </tr>\n",
       "    <tr>\n",
       "      <td>1000000010</td>\n",
       "      <td>3</td>\n",
       "      <td>3</td>\n",
       "      <td>3</td>\n",
       "      <td>3</td>\n",
       "      <td>3</td>\n",
       "      <td>3</td>\n",
       "    </tr>\n",
       "    <tr>\n",
       "      <td>1000000011</td>\n",
       "      <td>5</td>\n",
       "      <td>5</td>\n",
       "      <td>5</td>\n",
       "      <td>5</td>\n",
       "      <td>5</td>\n",
       "      <td>5</td>\n",
       "    </tr>\n",
       "    <tr>\n",
       "      <td>1000000012</td>\n",
       "      <td>2</td>\n",
       "      <td>2</td>\n",
       "      <td>2</td>\n",
       "      <td>2</td>\n",
       "      <td>2</td>\n",
       "      <td>2</td>\n",
       "    </tr>\n",
       "    <tr>\n",
       "      <td>1000000013</td>\n",
       "      <td>29</td>\n",
       "      <td>29</td>\n",
       "      <td>29</td>\n",
       "      <td>29</td>\n",
       "      <td>29</td>\n",
       "      <td>29</td>\n",
       "    </tr>\n",
       "    <tr>\n",
       "      <td>1000000014</td>\n",
       "      <td>11</td>\n",
       "      <td>11</td>\n",
       "      <td>11</td>\n",
       "      <td>11</td>\n",
       "      <td>11</td>\n",
       "      <td>11</td>\n",
       "    </tr>\n",
       "    <tr>\n",
       "      <td>1200000031</td>\n",
       "      <td>8</td>\n",
       "      <td>8</td>\n",
       "      <td>8</td>\n",
       "      <td>8</td>\n",
       "      <td>8</td>\n",
       "      <td>8</td>\n",
       "    </tr>\n",
       "    <tr>\n",
       "      <td>1300000001</td>\n",
       "      <td>3</td>\n",
       "      <td>3</td>\n",
       "      <td>3</td>\n",
       "      <td>3</td>\n",
       "      <td>3</td>\n",
       "      <td>3</td>\n",
       "    </tr>\n",
       "    <tr>\n",
       "      <td>1300000002</td>\n",
       "      <td>2</td>\n",
       "      <td>2</td>\n",
       "      <td>2</td>\n",
       "      <td>2</td>\n",
       "      <td>2</td>\n",
       "      <td>2</td>\n",
       "    </tr>\n",
       "    <tr>\n",
       "      <td>1400000001</td>\n",
       "      <td>2</td>\n",
       "      <td>2</td>\n",
       "      <td>2</td>\n",
       "      <td>2</td>\n",
       "      <td>2</td>\n",
       "      <td>2</td>\n",
       "    </tr>\n",
       "    <tr>\n",
       "      <td>2000000001</td>\n",
       "      <td>9</td>\n",
       "      <td>9</td>\n",
       "      <td>9</td>\n",
       "      <td>9</td>\n",
       "      <td>9</td>\n",
       "      <td>9</td>\n",
       "    </tr>\n",
       "    <tr>\n",
       "      <td>2000000002</td>\n",
       "      <td>4</td>\n",
       "      <td>4</td>\n",
       "      <td>4</td>\n",
       "      <td>4</td>\n",
       "      <td>4</td>\n",
       "      <td>4</td>\n",
       "    </tr>\n",
       "    <tr>\n",
       "      <td>2000000003</td>\n",
       "      <td>18</td>\n",
       "      <td>18</td>\n",
       "      <td>18</td>\n",
       "      <td>18</td>\n",
       "      <td>18</td>\n",
       "      <td>18</td>\n",
       "    </tr>\n",
       "    <tr>\n",
       "      <td>2000000004</td>\n",
       "      <td>4</td>\n",
       "      <td>4</td>\n",
       "      <td>4</td>\n",
       "      <td>4</td>\n",
       "      <td>4</td>\n",
       "      <td>4</td>\n",
       "    </tr>\n",
       "    <tr>\n",
       "      <td>2000000005</td>\n",
       "      <td>3</td>\n",
       "      <td>3</td>\n",
       "      <td>3</td>\n",
       "      <td>3</td>\n",
       "      <td>3</td>\n",
       "      <td>3</td>\n",
       "    </tr>\n",
       "    <tr>\n",
       "      <td>2000000006</td>\n",
       "      <td>15</td>\n",
       "      <td>15</td>\n",
       "      <td>15</td>\n",
       "      <td>15</td>\n",
       "      <td>15</td>\n",
       "      <td>15</td>\n",
       "    </tr>\n",
       "    <tr>\n",
       "      <td>2000000007</td>\n",
       "      <td>4</td>\n",
       "      <td>4</td>\n",
       "      <td>4</td>\n",
       "      <td>4</td>\n",
       "      <td>4</td>\n",
       "      <td>4</td>\n",
       "    </tr>\n",
       "    <tr>\n",
       "      <td>2000000008</td>\n",
       "      <td>5</td>\n",
       "      <td>5</td>\n",
       "      <td>5</td>\n",
       "      <td>5</td>\n",
       "      <td>5</td>\n",
       "      <td>5</td>\n",
       "    </tr>\n",
       "    <tr>\n",
       "      <td>2000000009</td>\n",
       "      <td>3</td>\n",
       "      <td>3</td>\n",
       "      <td>3</td>\n",
       "      <td>3</td>\n",
       "      <td>3</td>\n",
       "      <td>3</td>\n",
       "    </tr>\n",
       "    <tr>\n",
       "      <td>2000000010</td>\n",
       "      <td>4</td>\n",
       "      <td>4</td>\n",
       "      <td>4</td>\n",
       "      <td>4</td>\n",
       "      <td>4</td>\n",
       "      <td>4</td>\n",
       "    </tr>\n",
       "    <tr>\n",
       "      <td>2000000011</td>\n",
       "      <td>1</td>\n",
       "      <td>1</td>\n",
       "      <td>1</td>\n",
       "      <td>1</td>\n",
       "      <td>1</td>\n",
       "      <td>1</td>\n",
       "    </tr>\n",
       "    <tr>\n",
       "      <td>5000000001</td>\n",
       "      <td>6</td>\n",
       "      <td>6</td>\n",
       "      <td>6</td>\n",
       "      <td>6</td>\n",
       "      <td>6</td>\n",
       "      <td>6</td>\n",
       "    </tr>\n",
       "    <tr>\n",
       "      <td>5100000001</td>\n",
       "      <td>2</td>\n",
       "      <td>2</td>\n",
       "      <td>2</td>\n",
       "      <td>2</td>\n",
       "      <td>2</td>\n",
       "      <td>2</td>\n",
       "    </tr>\n",
       "  </tbody>\n",
       "</table>\n",
       "</div>"
      ],
      "text/plain": [
       "            global_num  date  province  city  latitude  longitude\n",
       "patient_id                                                       \n",
       "1000000001           2     2         2     2         2          2\n",
       "1000000002           9     9         9     9         9          9\n",
       "1000000003           3     3         3     3         3          3\n",
       "1000000004           2     2         2     2         2          2\n",
       "1000000005           1     1         1     1         1          1\n",
       "1000000006           2     2         2     2         2          2\n",
       "1000000007           2     2         2     2         2          2\n",
       "1000000008           1     1         1     1         1          1\n",
       "1000000009          10    10        10    10        10         10\n",
       "1000000010           3     3         3     3         3          3\n",
       "1000000011           5     5         5     5         5          5\n",
       "1000000012           2     2         2     2         2          2\n",
       "1000000013          29    29        29    29        29         29\n",
       "1000000014          11    11        11    11        11         11\n",
       "1200000031           8     8         8     8         8          8\n",
       "1300000001           3     3         3     3         3          3\n",
       "1300000002           2     2         2     2         2          2\n",
       "1400000001           2     2         2     2         2          2\n",
       "2000000001           9     9         9     9         9          9\n",
       "2000000002           4     4         4     4         4          4\n",
       "2000000003          18    18        18    18        18         18\n",
       "2000000004           4     4         4     4         4          4\n",
       "2000000005           3     3         3     3         3          3\n",
       "2000000006          15    15        15    15        15         15\n",
       "2000000007           4     4         4     4         4          4\n",
       "2000000008           5     5         5     5         5          5\n",
       "2000000009           3     3         3     3         3          3\n",
       "2000000010           4     4         4     4         4          4\n",
       "2000000011           1     1         1     1         1          1\n",
       "5000000001           6     6         6     6         6          6\n",
       "5100000001           2     2         2     2         2          2"
      ]
     },
     "execution_count": 364,
     "metadata": {},
     "output_type": "execute_result"
    }
   ],
   "source": [
    "PatientRoute.groupby(\"patient_id\").count()"
   ]
  },
  {
   "cell_type": "code",
   "execution_count": 365,
   "metadata": {},
   "outputs": [
    {
     "name": "stdout",
     "output_type": "stream",
     "text": [
      "Maximum Movement  global_num    29\n",
      "date          29\n",
      "province      29\n",
      "city          29\n",
      "latitude      29\n",
      "longitude     29\n",
      "dtype: int64\n"
     ]
    }
   ],
   "source": [
    "max_movement = PatientRoute.groupby(\"patient_id\").count().max()\n",
    "print(f\"Maximum Movement \", max_movement)\n"
   ]
  },
  {
   "cell_type": "markdown",
   "metadata": {},
   "source": [
    "## Released DataFrame"
   ]
  },
  {
   "cell_type": "code",
   "execution_count": 366,
   "metadata": {},
   "outputs": [
    {
     "data": {
      "text/plain": [
       "0      2020-01-23\n",
       "1      2020-01-30\n",
       "2      2020-01-30\n",
       "3      2020-01-30\n",
       "4      2020-01-31\n",
       "          ...    \n",
       "2233   2020-03-06\n",
       "2235   2020-03-07\n",
       "2236   2020-03-10\n",
       "2240   2020-02-22\n",
       "2241   2020-03-02\n",
       "Name: Date IN, Length: 314, dtype: datetime64[ns]"
      ]
     },
     "execution_count": 366,
     "metadata": {},
     "output_type": "execute_result"
    }
   ],
   "source": [
    "condition_released= (PatientInfo_data[\"state\"]==\"released\")\n",
    "PatientInfo_data[condition_released][\"Date IN\"]"
   ]
  },
  {
   "cell_type": "code",
   "execution_count": 371,
   "metadata": {},
   "outputs": [
    {
     "data": {
      "text/plain": [
       "314"
      ]
     },
     "execution_count": 371,
     "metadata": {},
     "output_type": "execute_result"
    }
   ],
   "source": [
    "for patient in PatientInfo_data[condition_released]:\n",
    "    Calculate_Days = PatientInfo_data[condition_released][\"Date OUT\"] - PatientInfo_data[condition_released][\"Date IN\"]\n",
    "    \n",
    "    Released = pd.DataFrame({\"Patient ID\":PatientInfo_data[condition_released][\"patient_id\"] ,\\\n",
    "                         #\"Symptoms Onset Date\":PatientInfo_data[condition_deceased][\"Symptoms Onset Date\"], \\\n",
    "                         \"Date IN\":PatientInfo_data[condition_released][\"Date IN\"] , \\\n",
    "                         \"Date OUT\":PatientInfo_data[condition_released][\"Date OUT\"] ,\\\n",
    "                         \"Days\": Calculate_Days,\\\n",
    "                         \"Exact Age\":PatientInfo_data[condition_released][\"Exact Age\"], \\\n",
    "                         \"Age\":PatientInfo_data[condition_released][\"Age\"], \\\n",
    "                         \"Sex\":PatientInfo_data[condition_released][\"sex\"] })\n",
    "\n",
    "# Released DataFrame\n",
    "len(Released)"
   ]
  },
  {
   "cell_type": "code",
   "execution_count": 372,
   "metadata": {},
   "outputs": [
    {
     "data": {
      "text/plain": [
       "<matplotlib.axes._subplots.AxesSubplot at 0x1a20421150>"
      ]
     },
     "execution_count": 372,
     "metadata": {},
     "output_type": "execute_result"
    },
    {
     "data": {
      "image/png": "[encoded data removed]",
      "text/plain": [
       "<Figure size 720x432 with 1 Axes>"
      ]
     },
     "metadata": {},
     "output_type": "display_data"
    }
   ],
   "source": [
    "#Age distribution of the Released\n",
    "plt.figure(figsize=(10,6))\n",
    "sns.set_style(\"whitegrid\")\n",
    "plt.title(\"Age distribution of the Released\")\n",
    "sns.kdeplot(data=Released[\"Age\"], shade=True, color='green')"
   ]
  },
  {
   "cell_type": "markdown",
   "metadata": {},
   "source": [
    "## Isolated DataFrame"
   ]
  },
  {
   "cell_type": "code",
   "execution_count": 376,
   "metadata": {},
   "outputs": [
    {
     "data": {
      "text/plain": [
       "14     2020-02-19\n",
       "17     2020-02-20\n",
       "19     2020-02-20\n",
       "21     2020-02-21\n",
       "22     2020-02-21\n",
       "          ...    \n",
       "2232   2020-03-06\n",
       "2234   2020-03-06\n",
       "2237   2020-03-11\n",
       "2239   2020-02-20\n",
       "2242   2020-03-04\n",
       "Name: Date IN, Length: 1801, dtype: datetime64[ns]"
      ]
     },
     "execution_count": 376,
     "metadata": {},
     "output_type": "execute_result"
    }
   ],
   "source": [
    "condition_isolated= (PatientInfo_data[\"state\"]==\"isolated\")\n",
    "PatientInfo_data[condition_isolated][\"Date IN\"]"
   ]
  },
  {
   "cell_type": "code",
   "execution_count": 377,
   "metadata": {},
   "outputs": [
    {
     "data": {
      "text/plain": [
       "1801"
      ]
     },
     "execution_count": 377,
     "metadata": {},
     "output_type": "execute_result"
    }
   ],
   "source": [
    "for patient in PatientInfo_data[condition_isolated]:\n",
    "    #Calculate_Days = PatientInfo_data[condition_deceased][\"Date Deceased\"] - PatientInfo_data[condition_deceased][\"Date IN\"]\n",
    "    \n",
    "    Isolated = pd.DataFrame({\"Patient ID\":PatientInfo_data[condition_isolated][\"patient_id\"] ,\\\n",
    "                         \"Symptoms Onset Date\":PatientInfo_data[condition_isolated][\"Symptoms Onset Date\"], \\\n",
    "                         \"Date IN\":PatientInfo_data[condition_isolated][\"Date IN\"] , \\\n",
    "                         #\"Date Deceased\":PatientInfo_data[condition_deceased][\"Date Deceased\"] ,\\\n",
    "                         #\"Days\": Calculate_Days,\\\n",
    "                         \"Exact Age\":PatientInfo_data[condition_isolated][\"Exact Age\"], \\\n",
    "                             \"Age\":PatientInfo_data[condition_isolated][\"Age\"], \\\n",
    "                         \"Sex\":PatientInfo_data[condition_isolated][\"sex\"] })\n",
    "\n",
    "# Isolated DataFrame\n",
    "len(Isolated)"
   ]
  },
  {
   "cell_type": "code",
   "execution_count": 378,
   "metadata": {},
   "outputs": [
    {
     "data": {
      "text/plain": [
       "<matplotlib.axes._subplots.AxesSubplot at 0x1a22cdca90>"
      ]
     },
     "execution_count": 378,
     "metadata": {},
     "output_type": "execute_result"
    },
    {
     "data": {
      "image/png": "[encoded data removed]",
      "text/plain": [
       "<Figure size 720x432 with 1 Axes>"
      ]
     },
     "metadata": {},
     "output_type": "display_data"
    }
   ],
   "source": [
    "#Age distribution of the Isolated\n",
    "plt.figure(figsize=(10,6))\n",
    "sns.set_style(\"whitegrid\")\n",
    "plt.title(\"Age distribution of the Isolated\")\n",
    "sns.kdeplot(data=Isolated[\"Age\"], shade=True, color='cyan')"
   ]
  },
  {
   "cell_type": "code",
   "execution_count": 379,
   "metadata": {},
   "outputs": [
    {
     "data": {
      "text/plain": [
       "<matplotlib.axes._subplots.AxesSubplot at 0x1a23528090>"
      ]
     },
     "execution_count": 379,
     "metadata": {},
     "output_type": "execute_result"
    },
    {
     "data": {
      "image/png": "[encoded data removed]",
      "text/plain": [
       "<Figure size 720x432 with 1 Axes>"
      ]
     },
     "metadata": {},
     "output_type": "display_data"
    }
   ],
   "source": [
    "condition_male = (Isolated[\"Sex\"]==\"male\")\n",
    "Isolated[condition_male]\n",
    "Isolated_male = Isolated[condition_male][\"Age\"]\n",
    "data=Isolated_male\n",
    "#Age distribution of the deceased\n",
    "plt.figure(figsize=(10,6))\n",
    "sns.set_style(\"whitegrid\")\n",
    "plt.title(\"Age distribution of the Isolated Male\")\n",
    "sns.kdeplot(data, shade=True, color='blue')"
   ]
  },
  {
   "cell_type": "code",
   "execution_count": 380,
   "metadata": {},
   "outputs": [
    {
     "data": {
      "text/plain": [
       "<matplotlib.axes._subplots.AxesSubplot at 0x1a22d93810>"
      ]
     },
     "execution_count": 380,
     "metadata": {},
     "output_type": "execute_result"
    },
    {
     "data": {
      "image/png": "[encoded data removed]",
      "text/plain": [
       "<Figure size 720x432 with 1 Axes>"
      ]
     },
     "metadata": {},
     "output_type": "display_data"
    }
   ],
   "source": [
    "condition_female = (Isolated[\"Sex\"]==\"female\")\n",
    "Isolated[condition_female]\n",
    "Isolated_female = Isolated[condition_female][\"Age\"]\n",
    "data=Isolated_female\n",
    "#Age distribution of the deceased\n",
    "plt.figure(figsize=(10,6))\n",
    "sns.set_style(\"whitegrid\")\n",
    "plt.title(\"Age distribution of the Isolated Female\")\n",
    "sns.kdeplot(data, shade=True, color='magenta')"
   ]
  },
  {
   "cell_type": "code",
   "execution_count": 381,
   "metadata": {},
   "outputs": [
    {
     "data": {
      "text/plain": [
       "<matplotlib.axes._subplots.AxesSubplot at 0x1a23070510>"
      ]
     },
     "execution_count": 381,
     "metadata": {},
     "output_type": "execute_result"
    },
    {
     "data": {
      "image/png": "[encoded data removed]",
      "text/plain": [
       "<Figure size 720x432 with 1 Axes>"
      ]
     },
     "metadata": {},
     "output_type": "display_data"
    }
   ],
   "source": [
    "plt.figure(figsize=(10,6))\n",
    "sns.set_style(\"whitegrid\")\n",
    "plt.title(\"Age distribution of the Isolated by Gender\")\n",
    "sns.kdeplot(data=Isolated_female, label=\"Women\", shade=True, color='magenta')\n",
    "sns.kdeplot(data=Isolated_male,label=\"Male\" ,shade=True, color='cyan')"
   ]
  },
  {
   "cell_type": "markdown",
   "metadata": {},
   "source": [
    "## Deceased DataFrame"
   ]
  },
  {
   "cell_type": "code",
   "execution_count": 382,
   "metadata": {},
   "outputs": [
    {
     "data": {
      "text/plain": [
       "405    2020-02-18\n",
       "444    2020-02-21\n",
       "445    2020-02-24\n",
       "446    2020-02-25\n",
       "447    2020-02-26\n",
       "448    2020-02-27\n",
       "449    2020-02-27\n",
       "450    2020-02-28\n",
       "451    2020-02-28\n",
       "452    2020-02-28\n",
       "453    2020-02-29\n",
       "454    2020-02-29\n",
       "455    2020-02-29\n",
       "456    2020-03-01\n",
       "457    2020-03-01\n",
       "458    2020-03-01\n",
       "459    2020-03-01\n",
       "460    2020-03-01\n",
       "461    2020-03-05\n",
       "462    2020-03-08\n",
       "652    2020-02-25\n",
       "942    2020-03-04\n",
       "1636   2020-02-22\n",
       "1935   2020-03-06\n",
       "1971          NaT\n",
       "2049   2020-02-19\n",
       "2050   2020-02-19\n",
       "2051   2020-02-20\n",
       "2052   2020-02-21\n",
       "2053   2020-02-22\n",
       "2054   2020-02-22\n",
       "2055   2020-02-22\n",
       "Name: Date IN, dtype: datetime64[ns]"
      ]
     },
     "execution_count": 382,
     "metadata": {},
     "output_type": "execute_result"
    }
   ],
   "source": [
    "condition_deceased= (PatientInfo_data[\"state\"]==\"deceased\")\n",
    "PatientInfo_data[condition_deceased][\"Date IN\"]"
   ]
  },
  {
   "cell_type": "code",
   "execution_count": 383,
   "metadata": {},
   "outputs": [
    {
     "data": {
      "text/plain": [
       "32"
      ]
     },
     "execution_count": 383,
     "metadata": {},
     "output_type": "execute_result"
    }
   ],
   "source": [
    "for patient in PatientInfo_data[condition_deceased]:\n",
    "    Calculate_Days = PatientInfo_data[condition_deceased][\"Date Deceased\"] - PatientInfo_data[condition_deceased][\"Date IN\"]\n",
    "    \n",
    "    Deceased = pd.DataFrame({\"Patient ID\":PatientInfo_data[condition_deceased][\"patient_id\"] ,\\\n",
    "                         \"Symptoms Onset Date\":PatientInfo_data[condition_deceased][\"Symptoms Onset Date\"], \\\n",
    "                         \"Date IN\":PatientInfo_data[condition_deceased][\"Date IN\"] , \\\n",
    "                         \"Date Deceased\":PatientInfo_data[condition_deceased][\"Date Deceased\"] ,\\\n",
    "                         \"Days\": Calculate_Days,\\\n",
    "                         \"Exact Age\":PatientInfo_data[condition_deceased][\"Exact Age\"], \\\n",
    "                         \"Age\":PatientInfo_data[condition_deceased][\"Age\"], \\\n",
    "                         \"Sex\":PatientInfo_data[condition_deceased][\"sex\"] })\n",
    "    \n",
    "len(Deceased)"
   ]
  },
  {
   "cell_type": "code",
   "execution_count": 384,
   "metadata": {},
   "outputs": [
    {
     "name": "stdout",
     "output_type": "stream",
     "text": [
      "Day One 2020-02-18 00:00:00\n"
     ]
    }
   ],
   "source": [
    "Day_one = Deceased[\"Date IN\"].min()\n",
    "Day_latest = Deceased[\"Date IN\"].max()\n",
    "print(f\"Day One\", Day_one)"
   ]
  },
  {
   "cell_type": "markdown",
   "metadata": {},
   "source": [
    "## Graph of Day One"
   ]
  },
  {
   "cell_type": "code",
   "execution_count": 385,
   "metadata": {},
   "outputs": [
    {
     "data": {
      "text/plain": [
       "405      True\n",
       "444     False\n",
       "445     False\n",
       "446     False\n",
       "447     False\n",
       "448     False\n",
       "449     False\n",
       "450     False\n",
       "451     False\n",
       "452     False\n",
       "453     False\n",
       "454     False\n",
       "455     False\n",
       "456     False\n",
       "457     False\n",
       "458     False\n",
       "459     False\n",
       "460     False\n",
       "461     False\n",
       "462     False\n",
       "652     False\n",
       "942     False\n",
       "1636    False\n",
       "1935    False\n",
       "1971    False\n",
       "2049    False\n",
       "2050    False\n",
       "2051    False\n",
       "2052    False\n",
       "2053    False\n",
       "2054    False\n",
       "2055    False\n",
       "Name: Date IN, dtype: bool"
      ]
     },
     "execution_count": 385,
     "metadata": {},
     "output_type": "execute_result"
    }
   ],
   "source": [
    "df = Deceased[\"Date IN\"]==Day_one\n",
    "df.shape\n",
    "df\n"
   ]
  },
  {
   "cell_type": "code",
   "execution_count": 386,
   "metadata": {},
   "outputs": [
    {
     "data": {
      "image/png": "[encoded data removed]",
      "text/plain": [
       "<Figure size 864x576 with 1 Axes>"
      ]
     },
     "metadata": {},
     "output_type": "display_data"
    }
   ],
   "source": [
    "ax = Deceased.hist(column=\"Exact Age\", bins=9, grid=False, figsize=(12,8), color='#bf0000', zorder=2, rwidth=0.9)\n",
    "\n",
    "ax = ax[0]\n",
    "for x in ax:\n",
    "\n",
    "    # Despine\n",
    "    x.spines['right'].set_visible(False)\n",
    "    x.spines['top'].set_visible(False)\n",
    "    x.spines['left'].set_visible(True)\n",
    "\n",
    "    # Switch off ticks\n",
    "    x.tick_params(axis=\"both\", which=\"both\", bottom=\"off\", top=\"off\", labelbottom=\"on\", left=\"off\", right=\"off\", labelleft=\"on\")\n",
    "\n",
    "    # Draw horizontal axis lines\n",
    "    vals = x.get_yticks()\n",
    "    for tick in vals:\n",
    "        x.axhline(y=tick, linestyle='dashed', alpha=0.4, color='#eeeeee', zorder=1)\n",
    "\n",
    "    # Remove title\n",
    "    x.set_title(\"Age of the Deceased vs Days in the Hospital\")\n",
    "\n",
    "    # Set x-axis label\n",
    "    x.set_xlabel(\"Age\", labelpad=10, weight='bold', size=12)\n",
    "\n",
    "    # Set y-axis label\n",
    "    x.set_ylabel(\"Days in Hospital\", labelpad=20, weight='bold', size=12)\n",
    "\n",
    "    # Format y-axis label\n",
    "    #x.yaxis.set_major_formatter(StrMethodFormatter('{x:,g}'))"
   ]
  },
  {
   "cell_type": "code",
   "execution_count": 387,
   "metadata": {},
   "outputs": [
    {
     "data": {
      "text/plain": [
       "Timestamp('2020-02-18 00:00:00')"
      ]
     },
     "execution_count": 387,
     "metadata": {},
     "output_type": "execute_result"
    }
   ],
   "source": [
    "Deceased[\"Date IN\"].min()"
   ]
  },
  {
   "cell_type": "code",
   "execution_count": 388,
   "metadata": {},
   "outputs": [
    {
     "data": {
      "text/plain": [
       "<matplotlib.axes._subplots.AxesSubplot at 0x1a22c80b90>"
      ]
     },
     "execution_count": 388,
     "metadata": {},
     "output_type": "execute_result"
    },
    {
     "data": {
      "image/png": "[encoded data removed]",
      "text/plain": [
       "<Figure size 720x432 with 1 Axes>"
      ]
     },
     "metadata": {},
     "output_type": "display_data"
    }
   ],
   "source": [
    "#Age distribution of the deceased\n",
    "plt.figure(figsize=(10,6))\n",
    "sns.set_style(\"darkgrid\")\n",
    "plt.title(\"Age distribution of the Deceased\")\n",
    "sns.kdeplot(data=Deceased['Exact Age'], shade=True, color='grey')"
   ]
  },
  {
   "cell_type": "code",
   "execution_count": 389,
   "metadata": {},
   "outputs": [
    {
     "data": {
      "text/plain": [
       "<matplotlib.axes._subplots.AxesSubplot at 0x1a21620690>"
      ]
     },
     "execution_count": 389,
     "metadata": {},
     "output_type": "execute_result"
    },
    {
     "data": {
      "image/png": "[encoded data removed]",
      "text/plain": [
       "<Figure size 720x432 with 1 Axes>"
      ]
     },
     "metadata": {},
     "output_type": "display_data"
    }
   ],
   "source": [
    "condition_male = (Deceased[\"Sex\"]==\"male\")\n",
    "Deceased[condition_male]\n",
    "Deceased_male = Deceased[condition_male][\"Exact Age\"]\n",
    "\n",
    "#Age distribution of the deceased\n",
    "plt.figure(figsize=(10,6))\n",
    "sns.set_style(\"darkgrid\")\n",
    "plt.title(\"Age distribution of the Deceased Male\")\n",
    "sns.kdeplot(data=Deceased_male, shade=True, color='darkblue')"
   ]
  },
  {
   "cell_type": "code",
   "execution_count": 390,
   "metadata": {},
   "outputs": [
    {
     "data": {
      "text/plain": [
       "9"
      ]
     },
     "execution_count": 390,
     "metadata": {},
     "output_type": "execute_result"
    }
   ],
   "source": [
    "condition_female = (Deceased[\"Sex\"]==\"female\")\n",
    "Deceased[condition_female]\n",
    "Deceased_female = Deceased[condition_female][\"Exact Age\"]\n",
    "len(Deceased_female)"
   ]
  },
  {
   "cell_type": "code",
   "execution_count": 392,
   "metadata": {},
   "outputs": [
    {
     "data": {
      "text/plain": [
       "<matplotlib.axes._subplots.AxesSubplot at 0x1a212a5f90>"
      ]
     },
     "execution_count": 392,
     "metadata": {},
     "output_type": "execute_result"
    },
    {
     "data": {
      "image/png": "[encoded data removed]",
      "text/plain": [
       "<Figure size 720x432 with 1 Axes>"
      ]
     },
     "metadata": {},
     "output_type": "display_data"
    }
   ],
   "source": [
    "condition_female = (Deceased[\"Sex\"]==\"female\")\n",
    "Deceased[condition_female]\n",
    "Deceased_female = Deceased[condition_female][\"Exact Age\"]\n",
    "\n",
    "#Age distribution of the deceased\n",
    "plt.figure(figsize=(10,6))\n",
    "sns.set_style(\"darkgrid\")\n",
    "plt.title(\"Age distribution of the Deceased Female\")\n",
    "sns.kdeplot(data=Deceased_female, shade=True, color='r', label=\"Age Women\")"
   ]
  },
  {
   "cell_type": "code",
   "execution_count": 393,
   "metadata": {},
   "outputs": [
    {
     "data": {
      "text/plain": [
       "<matplotlib.axes._subplots.AxesSubplot at 0x1a230dba50>"
      ]
     },
     "execution_count": 393,
     "metadata": {},
     "output_type": "execute_result"
    },
    {
     "data": {
      "image/png": "[encoded data removed]",
      "text/plain": [
       "<Figure size 720x432 with 1 Axes>"
      ]
     },
     "metadata": {},
     "output_type": "display_data"
    }
   ],
   "source": [
    "plt.figure(figsize=(10,6))\n",
    "sns.set_style(\"darkgrid\")\n",
    "plt.title(\"Age distribution of the Deceased by Gender\")\n",
    "sns.kdeplot(data=Deceased['Exact Age'], label=\"Deceased\", shade=True, color='grey')\n",
    "sns.kdeplot(data=Released['Exact Age'], label=\"Released\", shade=True, color='green')\n",
    "sns.kdeplot(data=Isolated['Exact Age'], label=\"Isolated\", shade=True, color='cyan')\n",
    "#sns.kdeplot(data=Deceased_female, label=\"Deceased Women\", shade=True, color='red')\n",
    "#sns.kdeplot(data=Deceased_male,label=\"Deceased Male\" ,shade=True, color='blue')"
   ]
  },
  {
   "cell_type": "code",
   "execution_count": 394,
   "metadata": {},
   "outputs": [
    {
     "data": {
      "text/plain": [
       "<matplotlib.legend.Legend at 0x1a22b03990>"
      ]
     },
     "execution_count": 394,
     "metadata": {},
     "output_type": "execute_result"
    },
    {
     "data": {
      "image/png": "[encoded data removed]",
      "text/plain": [
       "<Figure size 720x576 with 1 Axes>"
      ]
     },
     "metadata": {},
     "output_type": "display_data"
    }
   ],
   "source": [
    "Deceased_male = Deceased[condition_male][\"Age\"]\n",
    "Deceased_female = Deceased[condition_female][\"Age\"]\n",
    "plt.figure(figsize=(10,8))\n",
    "sns.set_style(\"darkgrid\")\n",
    "sns.distplot(a=Deceased_male, label=\"Men\", kde=False)\n",
    "sns.distplot(a=Deceased_female, label=\"Women\", kde=False)\n",
    "plt.title(\"Age distribution of the Deceased by Sex\")\n",
    "plt.legend()"
   ]
  },
  {
   "cell_type": "code",
   "execution_count": 395,
   "metadata": {},
   "outputs": [
    {
     "data": {
      "text/plain": [
       "<matplotlib.axes._subplots.AxesSubplot at 0x1a22f70090>"
      ]
     },
     "execution_count": 395,
     "metadata": {},
     "output_type": "execute_result"
    },
    {
     "data": {
      "image/png": "[encoded data removed]",
      "text/plain": [
       "<Figure size 432x288 with 1 Axes>"
      ]
     },
     "metadata": {},
     "output_type": "display_data"
    }
   ],
   "source": [
    "sns.kdeplot(data=Deceased['Exact Age'],label='Deceased', shade=True, color='r')\n",
    "sns.kdeplot(data=Released['Exact Age'],label='Released', shade=True, color='g')\n",
    "sns.kdeplot(data=Isolated['Exact Age'],label='Isolated', shade=True, color='cyan')"
   ]
  },
  {
   "cell_type": "markdown",
   "metadata": {},
   "source": [
    "## Examine: Contact Number and State \"Deceased\""
   ]
  },
  {
   "cell_type": "code",
   "execution_count": null,
   "metadata": {},
   "outputs": [],
   "source": [
    "PatientInfo_data[\"contact_number\"]"
   ]
  },
  {
   "cell_type": "markdown",
   "metadata": {},
   "source": [
    "## Column contact_number represents how many contacts the Patient had. "
   ]
  },
  {
   "cell_type": "code",
   "execution_count": 221,
   "metadata": {},
   "outputs": [
    {
     "data": {
      "text/plain": [
       "1160"
      ]
     },
     "execution_count": 221,
     "metadata": {},
     "output_type": "execute_result"
    }
   ],
   "source": [
    "Max_contact = PatientInfo_data[\"contact_number\"].max()\n",
    "\n",
    "super_max = Max_contact + 1\n",
    "\n",
    "\n",
    "Max_contact\n",
    "Max=int(Max_contact)\n",
    "Max"
   ]
  },
  {
   "cell_type": "code",
   "execution_count": 222,
   "metadata": {},
   "outputs": [
    {
     "data": {
      "text/plain": [
       "24.019370460048425"
      ]
     },
     "execution_count": 222,
     "metadata": {},
     "output_type": "execute_result"
    }
   ],
   "source": [
    "PatientInfo_data[\"contact_number\"].mean()"
   ]
  },
  {
   "cell_type": "code",
   "execution_count": 223,
   "metadata": {},
   "outputs": [
    {
     "data": {
      "text/plain": [
       "73"
      ]
     },
     "execution_count": 223,
     "metadata": {},
     "output_type": "execute_result"
    }
   ],
   "source": [
    "unique_number = PatientInfo_data[\"contact_number\"].unique()\n",
    "unique_number\n",
    "len(unique_number)"
   ]
  },
  {
   "cell_type": "code",
   "execution_count": 224,
   "metadata": {},
   "outputs": [
    {
     "data": {
      "text/plain": [
       "75.0"
      ]
     },
     "execution_count": 224,
     "metadata": {},
     "output_type": "execute_result"
    }
   ],
   "source": [
    "unique_number[0]"
   ]
  },
  {
   "cell_type": "code",
   "execution_count": 225,
   "metadata": {},
   "outputs": [],
   "source": [
    "len(unique_number)\n",
    "check_point = len(unique_number)"
   ]
  },
  {
   "cell_type": "markdown",
   "metadata": {},
   "source": [
    "## Study: Relationship of Deceased with Contact Number"
   ]
  },
  {
   "cell_type": "code",
   "execution_count": 401,
   "metadata": {},
   "outputs": [
    {
     "data": {
      "text/plain": [
       "patient_id                      int64\n",
       "global_num                    float64\n",
       "sex                            object\n",
       "birth_year                    float64\n",
       "age                            object\n",
       "country                        object\n",
       "province                       object\n",
       "city                           object\n",
       "disease                        object\n",
       "infection_case                 object\n",
       "infection_order               float64\n",
       "infected_by                   float64\n",
       "contact_number                float64\n",
       "symptom_onset_date             object\n",
       "confirmed_date                 object\n",
       "released_date                  object\n",
       "deceased_date                  object\n",
       "state                          object\n",
       "Exact Age                     float64\n",
       "Age                             int64\n",
       "Date IN                datetime64[ns]\n",
       "Date OUT               datetime64[ns]\n",
       "Date Deceased          datetime64[ns]\n",
       "Symptoms Onset Date    datetime64[ns]\n",
       "dtype: object"
      ]
     },
     "execution_count": 401,
     "metadata": {},
     "output_type": "execute_result"
    }
   ],
   "source": [
    "PatientInfo_data.head()\n",
    "PatientInfo_data.dtypes"
   ]
  },
  {
   "cell_type": "code",
   "execution_count": 226,
   "metadata": {},
   "outputs": [],
   "source": [
    "condition_deceased = (PatientInfo_data[\"state\"]==\"deceased\")"
   ]
  },
  {
   "cell_type": "code",
   "execution_count": 408,
   "metadata": {},
   "outputs": [
    {
     "data": {
      "text/plain": [
       "405                          NaN\n",
       "444           Shincheonji Church\n",
       "445                          NaN\n",
       "446                          NaN\n",
       "447                          NaN\n",
       "448                          NaN\n",
       "449                          NaN\n",
       "450                          NaN\n",
       "451                          NaN\n",
       "452                          NaN\n",
       "453                          NaN\n",
       "454                          NaN\n",
       "455                          NaN\n",
       "456                          NaN\n",
       "457                          NaN\n",
       "458                          NaN\n",
       "459                          NaN\n",
       "460                          NaN\n",
       "461                          NaN\n",
       "462                          NaN\n",
       "652                          etc\n",
       "942         contact with patient\n",
       "1636                         NaN\n",
       "1935                         etc\n",
       "1971                         NaN\n",
       "2049    Cheongdo Daenam Hospital\n",
       "2050    Cheongdo Daenam Hospital\n",
       "2051    Cheongdo Daenam Hospital\n",
       "2052    Cheongdo Daenam Hospital\n",
       "2053    Cheongdo Daenam Hospital\n",
       "2054    Cheongdo Daenam Hospital\n",
       "2055    Cheongdo Daenam Hospital\n",
       "Name: infection_case, dtype: object"
      ]
     },
     "execution_count": 408,
     "metadata": {},
     "output_type": "execute_result"
    }
   ],
   "source": [
    "PatientInfo_deceased = PatientInfo_data[condition_deceased]\n",
    "PatientInfo_deceased['infection_case']"
   ]
  },
  {
   "cell_type": "code",
   "execution_count": 409,
   "metadata": {},
   "outputs": [
    {
     "data": {
      "text/plain": [
       "32"
      ]
     },
     "execution_count": 409,
     "metadata": {},
     "output_type": "execute_result"
    }
   ],
   "source": [
    "total_deceased = len(PatientInfo_deceased)\n",
    "total_deceased"
   ]
  },
  {
   "cell_type": "code",
   "execution_count": 411,
   "metadata": {},
   "outputs": [
    {
     "data": {
      "text/plain": [
       "array(['released', 'isolated', 'deceased', nan], dtype=object)"
      ]
     },
     "execution_count": 411,
     "metadata": {},
     "output_type": "execute_result"
    }
   ],
   "source": [
    "PatientInfo_data[\"state\"].unique()"
   ]
  },
  {
   "cell_type": "code",
   "execution_count": 413,
   "metadata": {},
   "outputs": [
    {
     "data": {
      "text/plain": [
       "0       75.0\n",
       "1       31.0\n",
       "2       17.0\n",
       "3        9.0\n",
       "4        2.0\n",
       "        ... \n",
       "2233     NaN\n",
       "2235     NaN\n",
       "2236     NaN\n",
       "2240    84.0\n",
       "2241    21.0\n",
       "Name: contact_number, Length: 314, dtype: float64"
      ]
     },
     "execution_count": 413,
     "metadata": {},
     "output_type": "execute_result"
    }
   ],
   "source": [
    "PatientInfo_released[\"contact_number\"]"
   ]
  },
  {
   "cell_type": "code",
   "execution_count": 414,
   "metadata": {},
   "outputs": [
    {
     "data": {
      "text/plain": [
       "34.15923566878981"
      ]
     },
     "execution_count": 414,
     "metadata": {},
     "output_type": "execute_result"
    }
   ],
   "source": [
    "PatientInfo_released[\"Age\"].mean()"
   ]
  },
  {
   "cell_type": "code",
   "execution_count": 415,
   "metadata": {},
   "outputs": [
    {
     "data": {
      "text/plain": [
       "39.03900709219858"
      ]
     },
     "execution_count": 415,
     "metadata": {},
     "output_type": "execute_result"
    }
   ],
   "source": [
    "PatientInfo_released[\"Exact Age\"].mean()"
   ]
  },
  {
   "cell_type": "code",
   "execution_count": 417,
   "metadata": {},
   "outputs": [
    {
     "data": {
      "text/plain": [
       "-1"
      ]
     },
     "execution_count": 417,
     "metadata": {},
     "output_type": "execute_result"
    }
   ],
   "source": [
    "PatientInfo_released[\"Age\"].min()"
   ]
  },
  {
   "cell_type": "code",
   "execution_count": 418,
   "metadata": {},
   "outputs": [
    {
     "name": "stdout",
     "output_type": "stream",
     "text": [
      "The Maximum age of the Patient RELEASED\n",
      "80\n"
     ]
    }
   ],
   "source": [
    "max=PatientInfo_released[\"Age\"].max()\n",
    "print(\"The Maximum age of the Patient RELEASED\")\n",
    "print(max)"
   ]
  },
  {
   "cell_type": "code",
   "execution_count": 419,
   "metadata": {},
   "outputs": [],
   "source": [
    "number_deceased = []"
   ]
  },
  {
   "cell_type": "code",
   "execution_count": 420,
   "metadata": {},
   "outputs": [
    {
     "data": {
      "text/html": [
       "<div>\n",
       "<style scoped>\n",
       "    .dataframe tbody tr th:only-of-type {\n",
       "        vertical-align: middle;\n",
       "    }\n",
       "\n",
       "    .dataframe tbody tr th {\n",
       "        vertical-align: top;\n",
       "    }\n",
       "\n",
       "    .dataframe thead th {\n",
       "        text-align: right;\n",
       "    }\n",
       "</style>\n",
       "<table border=\"1\" class=\"dataframe\">\n",
       "  <thead>\n",
       "    <tr style=\"text-align: right;\">\n",
       "      <th></th>\n",
       "      <th>patient_id</th>\n",
       "      <th>global_num</th>\n",
       "      <th>sex</th>\n",
       "      <th>birth_year</th>\n",
       "      <th>age</th>\n",
       "      <th>country</th>\n",
       "      <th>province</th>\n",
       "      <th>city</th>\n",
       "      <th>disease</th>\n",
       "      <th>infection_case</th>\n",
       "      <th>...</th>\n",
       "      <th>confirmed_date</th>\n",
       "      <th>released_date</th>\n",
       "      <th>deceased_date</th>\n",
       "      <th>state</th>\n",
       "      <th>Exact Age</th>\n",
       "      <th>Age</th>\n",
       "      <th>Date IN</th>\n",
       "      <th>Date OUT</th>\n",
       "      <th>Date Deceased</th>\n",
       "      <th>Symptoms Onset Date</th>\n",
       "    </tr>\n",
       "  </thead>\n",
       "  <tbody>\n",
       "  </tbody>\n",
       "</table>\n",
       "<p>0 rows × 24 columns</p>\n",
       "</div>"
      ],
      "text/plain": [
       "Empty DataFrame\n",
       "Columns: [patient_id, global_num, sex, birth_year, age, country, province, city, disease, infection_case, infection_order, infected_by, contact_number, symptom_onset_date, confirmed_date, released_date, deceased_date, state, Exact Age, Age, Date IN, Date OUT, Date Deceased, Symptoms Onset Date]\n",
       "Index: []\n",
       "\n",
       "[0 rows x 24 columns]"
      ]
     },
     "execution_count": 420,
     "metadata": {},
     "output_type": "execute_result"
    }
   ],
   "source": [
    "n=0\n",
    "condition = ((PatientInfo_data[\"contact_number\"] == unique_number[n]))\n",
    "condition_study = condition_deceased & condition\n",
    "number_deceased.append(len(PatientInfo_data[condition_study]))\n",
    "\n",
    "PatientInfo_data[condition_study]"
   ]
  },
  {
   "cell_type": "code",
   "execution_count": 238,
   "metadata": {},
   "outputs": [],
   "source": [
    "for n in range(check_point):\n",
    "    condition = ((PatientInfo_data[\"contact_number\"] == unique_number[n]))\n",
    "    condition_study = condition_deceased & condition\n",
    "    number_deceased.append(len(PatientInfo_data[condition_study]))\n",
    "    "
   ]
  },
  {
   "cell_type": "code",
   "execution_count": 239,
   "metadata": {},
   "outputs": [],
   "source": [
    "if_contact_number = 10"
   ]
  },
  {
   "cell_type": "code",
   "execution_count": 240,
   "metadata": {},
   "outputs": [
    {
     "name": "stdout",
     "output_type": "stream",
     "text": [
      "If contact number is :10\n",
      "Then deceased is :149\n"
     ]
    },
    {
     "data": {
      "text/html": [
       "<div>\n",
       "<style scoped>\n",
       "    .dataframe tbody tr th:only-of-type {\n",
       "        vertical-align: middle;\n",
       "    }\n",
       "\n",
       "    .dataframe tbody tr th {\n",
       "        vertical-align: top;\n",
       "    }\n",
       "\n",
       "    .dataframe thead th {\n",
       "        text-align: right;\n",
       "    }\n",
       "</style>\n",
       "<table border=\"1\" class=\"dataframe\">\n",
       "  <thead>\n",
       "    <tr style=\"text-align: right;\">\n",
       "      <th></th>\n",
       "      <th>patient_id</th>\n",
       "      <th>global_num</th>\n",
       "      <th>sex</th>\n",
       "      <th>birth_year</th>\n",
       "      <th>age</th>\n",
       "      <th>country</th>\n",
       "      <th>province</th>\n",
       "      <th>city</th>\n",
       "      <th>disease</th>\n",
       "      <th>infection_case</th>\n",
       "      <th>...</th>\n",
       "      <th>confirmed_date</th>\n",
       "      <th>released_date</th>\n",
       "      <th>deceased_date</th>\n",
       "      <th>state</th>\n",
       "      <th>Exact Age</th>\n",
       "      <th>Age</th>\n",
       "      <th>Date IN</th>\n",
       "      <th>Date OUT</th>\n",
       "      <th>Date Deceased</th>\n",
       "      <th>Symptoms Onset Date</th>\n",
       "    </tr>\n",
       "  </thead>\n",
       "  <tbody>\n",
       "    <tr>\n",
       "      <td>0</td>\n",
       "      <td>1000000001</td>\n",
       "      <td>2.0</td>\n",
       "      <td>male</td>\n",
       "      <td>1964.0</td>\n",
       "      <td>50s</td>\n",
       "      <td>Korea</td>\n",
       "      <td>Seoul</td>\n",
       "      <td>Gangseo-gu</td>\n",
       "      <td>NaN</td>\n",
       "      <td>overseas inflow</td>\n",
       "      <td>...</td>\n",
       "      <td>2020-01-23</td>\n",
       "      <td>2020-02-05</td>\n",
       "      <td>NaN</td>\n",
       "      <td>released</td>\n",
       "      <td>56.0</td>\n",
       "      <td>50</td>\n",
       "      <td>2020-01-23</td>\n",
       "      <td>2020-02-05</td>\n",
       "      <td>NaT</td>\n",
       "      <td>2020-01-22</td>\n",
       "    </tr>\n",
       "    <tr>\n",
       "      <td>1</td>\n",
       "      <td>1000000002</td>\n",
       "      <td>5.0</td>\n",
       "      <td>male</td>\n",
       "      <td>1987.0</td>\n",
       "      <td>30s</td>\n",
       "      <td>Korea</td>\n",
       "      <td>Seoul</td>\n",
       "      <td>Jungnang-gu</td>\n",
       "      <td>NaN</td>\n",
       "      <td>overseas inflow</td>\n",
       "      <td>...</td>\n",
       "      <td>2020-01-30</td>\n",
       "      <td>2020-03-02</td>\n",
       "      <td>NaN</td>\n",
       "      <td>released</td>\n",
       "      <td>33.0</td>\n",
       "      <td>30</td>\n",
       "      <td>2020-01-30</td>\n",
       "      <td>2020-03-02</td>\n",
       "      <td>NaT</td>\n",
       "      <td>NaT</td>\n",
       "    </tr>\n",
       "    <tr>\n",
       "      <td>2</td>\n",
       "      <td>1000000003</td>\n",
       "      <td>6.0</td>\n",
       "      <td>male</td>\n",
       "      <td>1964.0</td>\n",
       "      <td>50s</td>\n",
       "      <td>Korea</td>\n",
       "      <td>Seoul</td>\n",
       "      <td>Jongno-gu</td>\n",
       "      <td>NaN</td>\n",
       "      <td>contact with patient</td>\n",
       "      <td>...</td>\n",
       "      <td>2020-01-30</td>\n",
       "      <td>2020-02-19</td>\n",
       "      <td>NaN</td>\n",
       "      <td>released</td>\n",
       "      <td>56.0</td>\n",
       "      <td>50</td>\n",
       "      <td>2020-01-30</td>\n",
       "      <td>2020-02-19</td>\n",
       "      <td>NaT</td>\n",
       "      <td>NaT</td>\n",
       "    </tr>\n",
       "    <tr>\n",
       "      <td>5</td>\n",
       "      <td>1000000006</td>\n",
       "      <td>10.0</td>\n",
       "      <td>female</td>\n",
       "      <td>1966.0</td>\n",
       "      <td>50s</td>\n",
       "      <td>Korea</td>\n",
       "      <td>Seoul</td>\n",
       "      <td>Jongno-gu</td>\n",
       "      <td>NaN</td>\n",
       "      <td>contact with patient</td>\n",
       "      <td>...</td>\n",
       "      <td>2020-01-31</td>\n",
       "      <td>2020-02-19</td>\n",
       "      <td>NaN</td>\n",
       "      <td>released</td>\n",
       "      <td>54.0</td>\n",
       "      <td>50</td>\n",
       "      <td>2020-01-31</td>\n",
       "      <td>2020-02-19</td>\n",
       "      <td>NaT</td>\n",
       "      <td>NaT</td>\n",
       "    </tr>\n",
       "    <tr>\n",
       "      <td>8</td>\n",
       "      <td>1000000009</td>\n",
       "      <td>19.0</td>\n",
       "      <td>male</td>\n",
       "      <td>1983.0</td>\n",
       "      <td>30s</td>\n",
       "      <td>Korea</td>\n",
       "      <td>Seoul</td>\n",
       "      <td>Songpa-gu</td>\n",
       "      <td>NaN</td>\n",
       "      <td>overseas inflow</td>\n",
       "      <td>...</td>\n",
       "      <td>2020-02-05</td>\n",
       "      <td>2020-02-21</td>\n",
       "      <td>NaN</td>\n",
       "      <td>released</td>\n",
       "      <td>37.0</td>\n",
       "      <td>30</td>\n",
       "      <td>2020-02-05</td>\n",
       "      <td>2020-02-21</td>\n",
       "      <td>NaT</td>\n",
       "      <td>NaT</td>\n",
       "    </tr>\n",
       "    <tr>\n",
       "      <td>...</td>\n",
       "      <td>...</td>\n",
       "      <td>...</td>\n",
       "      <td>...</td>\n",
       "      <td>...</td>\n",
       "      <td>...</td>\n",
       "      <td>...</td>\n",
       "      <td>...</td>\n",
       "      <td>...</td>\n",
       "      <td>...</td>\n",
       "      <td>...</td>\n",
       "      <td>...</td>\n",
       "      <td>...</td>\n",
       "      <td>...</td>\n",
       "      <td>...</td>\n",
       "      <td>...</td>\n",
       "      <td>...</td>\n",
       "      <td>...</td>\n",
       "      <td>...</td>\n",
       "      <td>...</td>\n",
       "      <td>...</td>\n",
       "      <td>...</td>\n",
       "    </tr>\n",
       "    <tr>\n",
       "      <td>1896</td>\n",
       "      <td>6014000001</td>\n",
       "      <td>NaN</td>\n",
       "      <td>female</td>\n",
       "      <td>1959.0</td>\n",
       "      <td>60s</td>\n",
       "      <td>Korea</td>\n",
       "      <td>Gyeongsangbuk-do</td>\n",
       "      <td>Yeongju-si</td>\n",
       "      <td>NaN</td>\n",
       "      <td>NaN</td>\n",
       "      <td>...</td>\n",
       "      <td>2020-02-22</td>\n",
       "      <td>NaN</td>\n",
       "      <td>NaN</td>\n",
       "      <td>isolated</td>\n",
       "      <td>61.0</td>\n",
       "      <td>60</td>\n",
       "      <td>2020-02-22</td>\n",
       "      <td>NaT</td>\n",
       "      <td>NaT</td>\n",
       "      <td>NaT</td>\n",
       "    </tr>\n",
       "    <tr>\n",
       "      <td>2239</td>\n",
       "      <td>7000000001</td>\n",
       "      <td>139.0</td>\n",
       "      <td>male</td>\n",
       "      <td>1998.0</td>\n",
       "      <td>20s</td>\n",
       "      <td>Korea</td>\n",
       "      <td>Jeju-do</td>\n",
       "      <td>Jeju-do</td>\n",
       "      <td>NaN</td>\n",
       "      <td>etc</td>\n",
       "      <td>...</td>\n",
       "      <td>2020-02-20</td>\n",
       "      <td>NaN</td>\n",
       "      <td>NaN</td>\n",
       "      <td>isolated</td>\n",
       "      <td>22.0</td>\n",
       "      <td>20</td>\n",
       "      <td>2020-02-20</td>\n",
       "      <td>NaT</td>\n",
       "      <td>NaT</td>\n",
       "      <td>NaT</td>\n",
       "    </tr>\n",
       "    <tr>\n",
       "      <td>2240</td>\n",
       "      <td>7000000002</td>\n",
       "      <td>222.0</td>\n",
       "      <td>female</td>\n",
       "      <td>1998.0</td>\n",
       "      <td>20s</td>\n",
       "      <td>Korea</td>\n",
       "      <td>Jeju-do</td>\n",
       "      <td>Jeju-do</td>\n",
       "      <td>NaN</td>\n",
       "      <td>etc</td>\n",
       "      <td>...</td>\n",
       "      <td>2020-02-22</td>\n",
       "      <td>2020-03-07</td>\n",
       "      <td>NaN</td>\n",
       "      <td>released</td>\n",
       "      <td>22.0</td>\n",
       "      <td>20</td>\n",
       "      <td>2020-02-22</td>\n",
       "      <td>2020-03-07</td>\n",
       "      <td>NaT</td>\n",
       "      <td>NaT</td>\n",
       "    </tr>\n",
       "    <tr>\n",
       "      <td>2241</td>\n",
       "      <td>7000000003</td>\n",
       "      <td>4345.0</td>\n",
       "      <td>female</td>\n",
       "      <td>1972.0</td>\n",
       "      <td>40s</td>\n",
       "      <td>Korea</td>\n",
       "      <td>Jeju-do</td>\n",
       "      <td>etc</td>\n",
       "      <td>NaN</td>\n",
       "      <td>etc</td>\n",
       "      <td>...</td>\n",
       "      <td>2020-03-02</td>\n",
       "      <td>2020-03-15</td>\n",
       "      <td>NaN</td>\n",
       "      <td>released</td>\n",
       "      <td>48.0</td>\n",
       "      <td>40</td>\n",
       "      <td>2020-03-02</td>\n",
       "      <td>2020-03-15</td>\n",
       "      <td>NaT</td>\n",
       "      <td>NaT</td>\n",
       "    </tr>\n",
       "    <tr>\n",
       "      <td>2242</td>\n",
       "      <td>7000000004</td>\n",
       "      <td>5534.0</td>\n",
       "      <td>male</td>\n",
       "      <td>1974.0</td>\n",
       "      <td>40s</td>\n",
       "      <td>Korea</td>\n",
       "      <td>Jeju-do</td>\n",
       "      <td>Jeju-do</td>\n",
       "      <td>NaN</td>\n",
       "      <td>etc</td>\n",
       "      <td>...</td>\n",
       "      <td>2020-03-04</td>\n",
       "      <td>NaN</td>\n",
       "      <td>NaN</td>\n",
       "      <td>isolated</td>\n",
       "      <td>46.0</td>\n",
       "      <td>40</td>\n",
       "      <td>2020-03-04</td>\n",
       "      <td>NaT</td>\n",
       "      <td>NaT</td>\n",
       "      <td>NaT</td>\n",
       "    </tr>\n",
       "  </tbody>\n",
       "</table>\n",
       "<p>149 rows × 24 columns</p>\n",
       "</div>"
      ],
      "text/plain": [
       "      patient_id  global_num     sex  birth_year  age country  \\\n",
       "0     1000000001         2.0    male      1964.0  50s   Korea   \n",
       "1     1000000002         5.0    male      1987.0  30s   Korea   \n",
       "2     1000000003         6.0    male      1964.0  50s   Korea   \n",
       "5     1000000006        10.0  female      1966.0  50s   Korea   \n",
       "8     1000000009        19.0    male      1983.0  30s   Korea   \n",
       "...          ...         ...     ...         ...  ...     ...   \n",
       "1896  6014000001         NaN  female      1959.0  60s   Korea   \n",
       "2239  7000000001       139.0    male      1998.0  20s   Korea   \n",
       "2240  7000000002       222.0  female      1998.0  20s   Korea   \n",
       "2241  7000000003      4345.0  female      1972.0  40s   Korea   \n",
       "2242  7000000004      5534.0    male      1974.0  40s   Korea   \n",
       "\n",
       "              province         city disease        infection_case  ...  \\\n",
       "0                Seoul   Gangseo-gu     NaN       overseas inflow  ...   \n",
       "1                Seoul  Jungnang-gu     NaN       overseas inflow  ...   \n",
       "2                Seoul    Jongno-gu     NaN  contact with patient  ...   \n",
       "5                Seoul    Jongno-gu     NaN  contact with patient  ...   \n",
       "8                Seoul    Songpa-gu     NaN       overseas inflow  ...   \n",
       "...                ...          ...     ...                   ...  ...   \n",
       "1896  Gyeongsangbuk-do   Yeongju-si     NaN                   NaN  ...   \n",
       "2239           Jeju-do      Jeju-do     NaN                   etc  ...   \n",
       "2240           Jeju-do      Jeju-do     NaN                   etc  ...   \n",
       "2241           Jeju-do          etc     NaN                   etc  ...   \n",
       "2242           Jeju-do      Jeju-do     NaN                   etc  ...   \n",
       "\n",
       "      confirmed_date  released_date  deceased_date     state Exact Age Age  \\\n",
       "0         2020-01-23     2020-02-05            NaN  released      56.0  50   \n",
       "1         2020-01-30     2020-03-02            NaN  released      33.0  30   \n",
       "2         2020-01-30     2020-02-19            NaN  released      56.0  50   \n",
       "5         2020-01-31     2020-02-19            NaN  released      54.0  50   \n",
       "8         2020-02-05     2020-02-21            NaN  released      37.0  30   \n",
       "...              ...            ...            ...       ...       ...  ..   \n",
       "1896      2020-02-22            NaN            NaN  isolated      61.0  60   \n",
       "2239      2020-02-20            NaN            NaN  isolated      22.0  20   \n",
       "2240      2020-02-22     2020-03-07            NaN  released      22.0  20   \n",
       "2241      2020-03-02     2020-03-15            NaN  released      48.0  40   \n",
       "2242      2020-03-04            NaN            NaN  isolated      46.0  40   \n",
       "\n",
       "        Date IN   Date OUT  Date Deceased  Symptoms Onset Date  \n",
       "0    2020-01-23 2020-02-05            NaT           2020-01-22  \n",
       "1    2020-01-30 2020-03-02            NaT                  NaT  \n",
       "2    2020-01-30 2020-02-19            NaT                  NaT  \n",
       "5    2020-01-31 2020-02-19            NaT                  NaT  \n",
       "8    2020-02-05 2020-02-21            NaT                  NaT  \n",
       "...         ...        ...            ...                  ...  \n",
       "1896 2020-02-22        NaT            NaT                  NaT  \n",
       "2239 2020-02-20        NaT            NaT                  NaT  \n",
       "2240 2020-02-22 2020-03-07            NaT                  NaT  \n",
       "2241 2020-03-02 2020-03-15            NaT                  NaT  \n",
       "2242 2020-03-04        NaT            NaT                  NaT  \n",
       "\n",
       "[149 rows x 24 columns]"
      ]
     },
     "execution_count": 240,
     "metadata": {},
     "output_type": "execute_result"
    }
   ],
   "source": [
    "condition = (PatientInfo_data[\"contact_number\"] >= if_contact_number)\n",
    "then_deceased = len(PatientInfo_data[condition])\n",
    "print(\"If contact number is :\" + str(if_contact_number))\n",
    "print(\"Then deceased is :\"+str(then_deceased))\n",
    "      \n",
    "PatientInfo_data[condition]"
   ]
  },
  {
   "cell_type": "code",
   "execution_count": 241,
   "metadata": {},
   "outputs": [
    {
     "data": {
      "text/plain": [
       "24.019370460048425"
      ]
     },
     "execution_count": 241,
     "metadata": {},
     "output_type": "execute_result"
    }
   ],
   "source": [
    "Avg_contact = PatientInfo_data[\"contact_number\"].mean()\n",
    "Avg_contact"
   ]
  },
  {
   "cell_type": "code",
   "execution_count": 242,
   "metadata": {},
   "outputs": [
    {
     "data": {
      "text/html": [
       "<div>\n",
       "<style scoped>\n",
       "    .dataframe tbody tr th:only-of-type {\n",
       "        vertical-align: middle;\n",
       "    }\n",
       "\n",
       "    .dataframe tbody tr th {\n",
       "        vertical-align: top;\n",
       "    }\n",
       "\n",
       "    .dataframe thead th {\n",
       "        text-align: right;\n",
       "    }\n",
       "</style>\n",
       "<table border=\"1\" class=\"dataframe\">\n",
       "  <thead>\n",
       "    <tr style=\"text-align: right;\">\n",
       "      <th></th>\n",
       "      <th>patient_id</th>\n",
       "      <th>global_num</th>\n",
       "      <th>sex</th>\n",
       "      <th>birth_year</th>\n",
       "      <th>age</th>\n",
       "      <th>country</th>\n",
       "      <th>province</th>\n",
       "      <th>city</th>\n",
       "      <th>disease</th>\n",
       "      <th>infection_case</th>\n",
       "      <th>...</th>\n",
       "      <th>confirmed_date</th>\n",
       "      <th>released_date</th>\n",
       "      <th>deceased_date</th>\n",
       "      <th>state</th>\n",
       "      <th>Exact Age</th>\n",
       "      <th>Age</th>\n",
       "      <th>Date IN</th>\n",
       "      <th>Date OUT</th>\n",
       "      <th>Date Deceased</th>\n",
       "      <th>Symptoms Onset Date</th>\n",
       "    </tr>\n",
       "  </thead>\n",
       "  <tbody>\n",
       "    <tr>\n",
       "      <td>400</td>\n",
       "      <td>1200000031</td>\n",
       "      <td>31.0</td>\n",
       "      <td>female</td>\n",
       "      <td>1959.0</td>\n",
       "      <td>60s</td>\n",
       "      <td>Korea</td>\n",
       "      <td>Daegu</td>\n",
       "      <td>NaN</td>\n",
       "      <td>NaN</td>\n",
       "      <td>Shincheonji Church</td>\n",
       "      <td>...</td>\n",
       "      <td>2020-02-18</td>\n",
       "      <td>NaN</td>\n",
       "      <td>NaN</td>\n",
       "      <td>isolated</td>\n",
       "      <td>61.0</td>\n",
       "      <td>60</td>\n",
       "      <td>2020-02-18</td>\n",
       "      <td>NaT</td>\n",
       "      <td>NaT</td>\n",
       "      <td>NaT</td>\n",
       "    </tr>\n",
       "  </tbody>\n",
       "</table>\n",
       "<p>1 rows × 24 columns</p>\n",
       "</div>"
      ],
      "text/plain": [
       "     patient_id  global_num     sex  birth_year  age country province city  \\\n",
       "400  1200000031        31.0  female      1959.0  60s   Korea    Daegu  NaN   \n",
       "\n",
       "    disease      infection_case  ...  confirmed_date  released_date  \\\n",
       "400     NaN  Shincheonji Church  ...      2020-02-18            NaN   \n",
       "\n",
       "     deceased_date     state Exact Age Age    Date IN Date OUT  Date Deceased  \\\n",
       "400            NaN  isolated      61.0  60 2020-02-18      NaT            NaT   \n",
       "\n",
       "     Symptoms Onset Date  \n",
       "400                  NaT  \n",
       "\n",
       "[1 rows x 24 columns]"
      ]
     },
     "execution_count": 242,
     "metadata": {},
     "output_type": "execute_result"
    }
   ],
   "source": [
    "Max_contact = PatientInfo_data[\"contact_number\"].max()\n",
    "\n",
    "condition_max = PatientInfo_data[\"contact_number\"]==Max_contact\n",
    "PatientInfo_data[condition_max]"
   ]
  },
  {
   "cell_type": "code",
   "execution_count": 243,
   "metadata": {},
   "outputs": [],
   "source": [
    "Min_contact = PatientInfo_data[\"contact_number\"].min()"
   ]
  },
  {
   "cell_type": "code",
   "execution_count": 244,
   "metadata": {},
   "outputs": [],
   "source": [
    "condition_zero = (PatientInfo_data[\"contact_number\"]> 0)"
   ]
  },
  {
   "cell_type": "markdown",
   "metadata": {},
   "source": [
    "Condition contact_number is non zero"
   ]
  },
  {
   "cell_type": "code",
   "execution_count": 245,
   "metadata": {},
   "outputs": [
    {
     "data": {
      "text/html": [
       "<div>\n",
       "<style scoped>\n",
       "    .dataframe tbody tr th:only-of-type {\n",
       "        vertical-align: middle;\n",
       "    }\n",
       "\n",
       "    .dataframe tbody tr th {\n",
       "        vertical-align: top;\n",
       "    }\n",
       "\n",
       "    .dataframe thead th {\n",
       "        text-align: right;\n",
       "    }\n",
       "</style>\n",
       "<table border=\"1\" class=\"dataframe\">\n",
       "  <thead>\n",
       "    <tr style=\"text-align: right;\">\n",
       "      <th></th>\n",
       "      <th>patient_id</th>\n",
       "      <th>global_num</th>\n",
       "      <th>sex</th>\n",
       "      <th>birth_year</th>\n",
       "      <th>age</th>\n",
       "      <th>country</th>\n",
       "      <th>province</th>\n",
       "      <th>city</th>\n",
       "      <th>disease</th>\n",
       "      <th>infection_case</th>\n",
       "      <th>...</th>\n",
       "      <th>confirmed_date</th>\n",
       "      <th>released_date</th>\n",
       "      <th>deceased_date</th>\n",
       "      <th>state</th>\n",
       "      <th>Exact Age</th>\n",
       "      <th>Age</th>\n",
       "      <th>Date IN</th>\n",
       "      <th>Date OUT</th>\n",
       "      <th>Date Deceased</th>\n",
       "      <th>Symptoms Onset Date</th>\n",
       "    </tr>\n",
       "  </thead>\n",
       "  <tbody>\n",
       "    <tr>\n",
       "      <td>0</td>\n",
       "      <td>1000000001</td>\n",
       "      <td>2.0</td>\n",
       "      <td>male</td>\n",
       "      <td>1964.0</td>\n",
       "      <td>50s</td>\n",
       "      <td>Korea</td>\n",
       "      <td>Seoul</td>\n",
       "      <td>Gangseo-gu</td>\n",
       "      <td>NaN</td>\n",
       "      <td>overseas inflow</td>\n",
       "      <td>...</td>\n",
       "      <td>2020-01-23</td>\n",
       "      <td>2020-02-05</td>\n",
       "      <td>NaN</td>\n",
       "      <td>released</td>\n",
       "      <td>56.0</td>\n",
       "      <td>50</td>\n",
       "      <td>2020-01-23</td>\n",
       "      <td>2020-02-05</td>\n",
       "      <td>NaT</td>\n",
       "      <td>2020-01-22</td>\n",
       "    </tr>\n",
       "    <tr>\n",
       "      <td>1</td>\n",
       "      <td>1000000002</td>\n",
       "      <td>5.0</td>\n",
       "      <td>male</td>\n",
       "      <td>1987.0</td>\n",
       "      <td>30s</td>\n",
       "      <td>Korea</td>\n",
       "      <td>Seoul</td>\n",
       "      <td>Jungnang-gu</td>\n",
       "      <td>NaN</td>\n",
       "      <td>overseas inflow</td>\n",
       "      <td>...</td>\n",
       "      <td>2020-01-30</td>\n",
       "      <td>2020-03-02</td>\n",
       "      <td>NaN</td>\n",
       "      <td>released</td>\n",
       "      <td>33.0</td>\n",
       "      <td>30</td>\n",
       "      <td>2020-01-30</td>\n",
       "      <td>2020-03-02</td>\n",
       "      <td>NaT</td>\n",
       "      <td>NaT</td>\n",
       "    </tr>\n",
       "    <tr>\n",
       "      <td>2</td>\n",
       "      <td>1000000003</td>\n",
       "      <td>6.0</td>\n",
       "      <td>male</td>\n",
       "      <td>1964.0</td>\n",
       "      <td>50s</td>\n",
       "      <td>Korea</td>\n",
       "      <td>Seoul</td>\n",
       "      <td>Jongno-gu</td>\n",
       "      <td>NaN</td>\n",
       "      <td>contact with patient</td>\n",
       "      <td>...</td>\n",
       "      <td>2020-01-30</td>\n",
       "      <td>2020-02-19</td>\n",
       "      <td>NaN</td>\n",
       "      <td>released</td>\n",
       "      <td>56.0</td>\n",
       "      <td>50</td>\n",
       "      <td>2020-01-30</td>\n",
       "      <td>2020-02-19</td>\n",
       "      <td>NaT</td>\n",
       "      <td>NaT</td>\n",
       "    </tr>\n",
       "    <tr>\n",
       "      <td>3</td>\n",
       "      <td>1000000004</td>\n",
       "      <td>7.0</td>\n",
       "      <td>male</td>\n",
       "      <td>1991.0</td>\n",
       "      <td>20s</td>\n",
       "      <td>Korea</td>\n",
       "      <td>Seoul</td>\n",
       "      <td>Mapo-gu</td>\n",
       "      <td>NaN</td>\n",
       "      <td>overseas inflow</td>\n",
       "      <td>...</td>\n",
       "      <td>2020-01-30</td>\n",
       "      <td>2020-02-15</td>\n",
       "      <td>NaN</td>\n",
       "      <td>released</td>\n",
       "      <td>29.0</td>\n",
       "      <td>20</td>\n",
       "      <td>2020-01-30</td>\n",
       "      <td>2020-02-15</td>\n",
       "      <td>NaT</td>\n",
       "      <td>2020-01-26</td>\n",
       "    </tr>\n",
       "    <tr>\n",
       "      <td>4</td>\n",
       "      <td>1000000005</td>\n",
       "      <td>9.0</td>\n",
       "      <td>female</td>\n",
       "      <td>1992.0</td>\n",
       "      <td>20s</td>\n",
       "      <td>Korea</td>\n",
       "      <td>Seoul</td>\n",
       "      <td>Seongbuk-gu</td>\n",
       "      <td>NaN</td>\n",
       "      <td>contact with patient</td>\n",
       "      <td>...</td>\n",
       "      <td>2020-01-31</td>\n",
       "      <td>2020-02-24</td>\n",
       "      <td>NaN</td>\n",
       "      <td>released</td>\n",
       "      <td>28.0</td>\n",
       "      <td>20</td>\n",
       "      <td>2020-01-31</td>\n",
       "      <td>2020-02-24</td>\n",
       "      <td>NaT</td>\n",
       "      <td>NaT</td>\n",
       "    </tr>\n",
       "    <tr>\n",
       "      <td>...</td>\n",
       "      <td>...</td>\n",
       "      <td>...</td>\n",
       "      <td>...</td>\n",
       "      <td>...</td>\n",
       "      <td>...</td>\n",
       "      <td>...</td>\n",
       "      <td>...</td>\n",
       "      <td>...</td>\n",
       "      <td>...</td>\n",
       "      <td>...</td>\n",
       "      <td>...</td>\n",
       "      <td>...</td>\n",
       "      <td>...</td>\n",
       "      <td>...</td>\n",
       "      <td>...</td>\n",
       "      <td>...</td>\n",
       "      <td>...</td>\n",
       "      <td>...</td>\n",
       "      <td>...</td>\n",
       "      <td>...</td>\n",
       "      <td>...</td>\n",
       "    </tr>\n",
       "    <tr>\n",
       "      <td>1897</td>\n",
       "      <td>6014000002</td>\n",
       "      <td>NaN</td>\n",
       "      <td>male</td>\n",
       "      <td>1998.0</td>\n",
       "      <td>20s</td>\n",
       "      <td>Korea</td>\n",
       "      <td>Gyeongsangbuk-do</td>\n",
       "      <td>Yeongju-si</td>\n",
       "      <td>NaN</td>\n",
       "      <td>NaN</td>\n",
       "      <td>...</td>\n",
       "      <td>2020-02-24</td>\n",
       "      <td>NaN</td>\n",
       "      <td>NaN</td>\n",
       "      <td>isolated</td>\n",
       "      <td>22.0</td>\n",
       "      <td>20</td>\n",
       "      <td>2020-02-24</td>\n",
       "      <td>NaT</td>\n",
       "      <td>NaT</td>\n",
       "      <td>NaT</td>\n",
       "    </tr>\n",
       "    <tr>\n",
       "      <td>2239</td>\n",
       "      <td>7000000001</td>\n",
       "      <td>139.0</td>\n",
       "      <td>male</td>\n",
       "      <td>1998.0</td>\n",
       "      <td>20s</td>\n",
       "      <td>Korea</td>\n",
       "      <td>Jeju-do</td>\n",
       "      <td>Jeju-do</td>\n",
       "      <td>NaN</td>\n",
       "      <td>etc</td>\n",
       "      <td>...</td>\n",
       "      <td>2020-02-20</td>\n",
       "      <td>NaN</td>\n",
       "      <td>NaN</td>\n",
       "      <td>isolated</td>\n",
       "      <td>22.0</td>\n",
       "      <td>20</td>\n",
       "      <td>2020-02-20</td>\n",
       "      <td>NaT</td>\n",
       "      <td>NaT</td>\n",
       "      <td>NaT</td>\n",
       "    </tr>\n",
       "    <tr>\n",
       "      <td>2240</td>\n",
       "      <td>7000000002</td>\n",
       "      <td>222.0</td>\n",
       "      <td>female</td>\n",
       "      <td>1998.0</td>\n",
       "      <td>20s</td>\n",
       "      <td>Korea</td>\n",
       "      <td>Jeju-do</td>\n",
       "      <td>Jeju-do</td>\n",
       "      <td>NaN</td>\n",
       "      <td>etc</td>\n",
       "      <td>...</td>\n",
       "      <td>2020-02-22</td>\n",
       "      <td>2020-03-07</td>\n",
       "      <td>NaN</td>\n",
       "      <td>released</td>\n",
       "      <td>22.0</td>\n",
       "      <td>20</td>\n",
       "      <td>2020-02-22</td>\n",
       "      <td>2020-03-07</td>\n",
       "      <td>NaT</td>\n",
       "      <td>NaT</td>\n",
       "    </tr>\n",
       "    <tr>\n",
       "      <td>2241</td>\n",
       "      <td>7000000003</td>\n",
       "      <td>4345.0</td>\n",
       "      <td>female</td>\n",
       "      <td>1972.0</td>\n",
       "      <td>40s</td>\n",
       "      <td>Korea</td>\n",
       "      <td>Jeju-do</td>\n",
       "      <td>etc</td>\n",
       "      <td>NaN</td>\n",
       "      <td>etc</td>\n",
       "      <td>...</td>\n",
       "      <td>2020-03-02</td>\n",
       "      <td>2020-03-15</td>\n",
       "      <td>NaN</td>\n",
       "      <td>released</td>\n",
       "      <td>48.0</td>\n",
       "      <td>40</td>\n",
       "      <td>2020-03-02</td>\n",
       "      <td>2020-03-15</td>\n",
       "      <td>NaT</td>\n",
       "      <td>NaT</td>\n",
       "    </tr>\n",
       "    <tr>\n",
       "      <td>2242</td>\n",
       "      <td>7000000004</td>\n",
       "      <td>5534.0</td>\n",
       "      <td>male</td>\n",
       "      <td>1974.0</td>\n",
       "      <td>40s</td>\n",
       "      <td>Korea</td>\n",
       "      <td>Jeju-do</td>\n",
       "      <td>Jeju-do</td>\n",
       "      <td>NaN</td>\n",
       "      <td>etc</td>\n",
       "      <td>...</td>\n",
       "      <td>2020-03-04</td>\n",
       "      <td>NaN</td>\n",
       "      <td>NaN</td>\n",
       "      <td>isolated</td>\n",
       "      <td>46.0</td>\n",
       "      <td>40</td>\n",
       "      <td>2020-03-04</td>\n",
       "      <td>NaT</td>\n",
       "      <td>NaT</td>\n",
       "      <td>NaT</td>\n",
       "    </tr>\n",
       "  </tbody>\n",
       "</table>\n",
       "<p>364 rows × 24 columns</p>\n",
       "</div>"
      ],
      "text/plain": [
       "      patient_id  global_num     sex  birth_year  age country  \\\n",
       "0     1000000001         2.0    male      1964.0  50s   Korea   \n",
       "1     1000000002         5.0    male      1987.0  30s   Korea   \n",
       "2     1000000003         6.0    male      1964.0  50s   Korea   \n",
       "3     1000000004         7.0    male      1991.0  20s   Korea   \n",
       "4     1000000005         9.0  female      1992.0  20s   Korea   \n",
       "...          ...         ...     ...         ...  ...     ...   \n",
       "1897  6014000002         NaN    male      1998.0  20s   Korea   \n",
       "2239  7000000001       139.0    male      1998.0  20s   Korea   \n",
       "2240  7000000002       222.0  female      1998.0  20s   Korea   \n",
       "2241  7000000003      4345.0  female      1972.0  40s   Korea   \n",
       "2242  7000000004      5534.0    male      1974.0  40s   Korea   \n",
       "\n",
       "              province         city disease        infection_case  ...  \\\n",
       "0                Seoul   Gangseo-gu     NaN       overseas inflow  ...   \n",
       "1                Seoul  Jungnang-gu     NaN       overseas inflow  ...   \n",
       "2                Seoul    Jongno-gu     NaN  contact with patient  ...   \n",
       "3                Seoul      Mapo-gu     NaN       overseas inflow  ...   \n",
       "4                Seoul  Seongbuk-gu     NaN  contact with patient  ...   \n",
       "...                ...          ...     ...                   ...  ...   \n",
       "1897  Gyeongsangbuk-do   Yeongju-si     NaN                   NaN  ...   \n",
       "2239           Jeju-do      Jeju-do     NaN                   etc  ...   \n",
       "2240           Jeju-do      Jeju-do     NaN                   etc  ...   \n",
       "2241           Jeju-do          etc     NaN                   etc  ...   \n",
       "2242           Jeju-do      Jeju-do     NaN                   etc  ...   \n",
       "\n",
       "      confirmed_date  released_date  deceased_date     state Exact Age Age  \\\n",
       "0         2020-01-23     2020-02-05            NaN  released      56.0  50   \n",
       "1         2020-01-30     2020-03-02            NaN  released      33.0  30   \n",
       "2         2020-01-30     2020-02-19            NaN  released      56.0  50   \n",
       "3         2020-01-30     2020-02-15            NaN  released      29.0  20   \n",
       "4         2020-01-31     2020-02-24            NaN  released      28.0  20   \n",
       "...              ...            ...            ...       ...       ...  ..   \n",
       "1897      2020-02-24            NaN            NaN  isolated      22.0  20   \n",
       "2239      2020-02-20            NaN            NaN  isolated      22.0  20   \n",
       "2240      2020-02-22     2020-03-07            NaN  released      22.0  20   \n",
       "2241      2020-03-02     2020-03-15            NaN  released      48.0  40   \n",
       "2242      2020-03-04            NaN            NaN  isolated      46.0  40   \n",
       "\n",
       "        Date IN   Date OUT  Date Deceased  Symptoms Onset Date  \n",
       "0    2020-01-23 2020-02-05            NaT           2020-01-22  \n",
       "1    2020-01-30 2020-03-02            NaT                  NaT  \n",
       "2    2020-01-30 2020-02-19            NaT                  NaT  \n",
       "3    2020-01-30 2020-02-15            NaT           2020-01-26  \n",
       "4    2020-01-31 2020-02-24            NaT                  NaT  \n",
       "...         ...        ...            ...                  ...  \n",
       "1897 2020-02-24        NaT            NaT                  NaT  \n",
       "2239 2020-02-20        NaT            NaT                  NaT  \n",
       "2240 2020-02-22 2020-03-07            NaT                  NaT  \n",
       "2241 2020-03-02 2020-03-15            NaT                  NaT  \n",
       "2242 2020-03-04        NaT            NaT                  NaT  \n",
       "\n",
       "[364 rows x 24 columns]"
      ]
     },
     "execution_count": 245,
     "metadata": {},
     "output_type": "execute_result"
    }
   ],
   "source": [
    "condition_nonZero = PatientInfo_data[\"contact_number\"]> 0\n",
    "PatientInfo_data[condition_nonZero]"
   ]
  },
  {
   "cell_type": "code",
   "execution_count": 246,
   "metadata": {},
   "outputs": [
    {
     "data": {
      "text/plain": [
       "32"
      ]
     },
     "execution_count": 246,
     "metadata": {},
     "output_type": "execute_result"
    }
   ],
   "source": [
    "condition_deceased = (PatientInfo_data[\"state\"]==\"deceased\")\n",
    "PatientInfo_data[condition_deceased]\n",
    "len(PatientInfo_data[condition_deceased])"
   ]
  },
  {
   "cell_type": "code",
   "execution_count": 247,
   "metadata": {},
   "outputs": [
    {
     "name": "stdout",
     "output_type": "stream",
     "text": [
      "32\n"
     ]
    },
    {
     "data": {
      "text/plain": [
       "62.46875"
      ]
     },
     "execution_count": 247,
     "metadata": {},
     "output_type": "execute_result"
    }
   ],
   "source": [
    "ages = PatientInfo_data[condition_deceased][\"age\"]  \n",
    "\n",
    "\n",
    "BeforeSymbol = PatientInfo_data[condition_deceased][\"age\"].str.split('s').str[0]\n",
    "\n",
    "\n",
    "    \n",
    "BeforeSymbol\n",
    "age_list = []\n",
    "\n",
    "for ages in BeforeSymbol:\n",
    "    if pd.notna(ages):\n",
    "        age_list.append(int(ages))\n",
    "    \n",
    "age_list\n",
    "sum = 0\n",
    "for age in age_list:\n",
    "    sum = sum + age\n",
    "    \n",
    "total = len(age_list)\n",
    "print(total)\n",
    "mean = 0\n",
    "mean = sum/total\n",
    "mean\n",
    "avg_age_deceased = mean\n",
    "avg_age_deceased"
   ]
  },
  {
   "cell_type": "code",
   "execution_count": 248,
   "metadata": {},
   "outputs": [],
   "source": [
    "condition_both = condition_nonZero & condition_deceased"
   ]
  },
  {
   "cell_type": "code",
   "execution_count": 249,
   "metadata": {},
   "outputs": [
    {
     "data": {
      "text/plain": [
       "0"
      ]
     },
     "execution_count": 249,
     "metadata": {},
     "output_type": "execute_result"
    }
   ],
   "source": [
    "len(PatientInfo_data[condition_both])"
   ]
  },
  {
   "cell_type": "code",
   "execution_count": 250,
   "metadata": {},
   "outputs": [
    {
     "data": {
      "text/plain": [
       "0"
      ]
     },
     "execution_count": 250,
     "metadata": {},
     "output_type": "execute_result"
    }
   ],
   "source": [
    "condition_both = condition_zero & condition_deceased\n",
    "len(PatientInfo_data[condition_both])"
   ]
  },
  {
   "cell_type": "markdown",
   "metadata": {},
   "source": [
    "## Patient MADE it"
   ]
  },
  {
   "cell_type": "code",
   "execution_count": 421,
   "metadata": {},
   "outputs": [],
   "source": [
    "condition_alive = (PatientInfo_data[\"state\"]!=\"deceased\")"
   ]
  },
  {
   "cell_type": "code",
   "execution_count": 422,
   "metadata": {},
   "outputs": [
    {
     "data": {
      "text/html": [
       "<div>\n",
       "<style scoped>\n",
       "    .dataframe tbody tr th:only-of-type {\n",
       "        vertical-align: middle;\n",
       "    }\n",
       "\n",
       "    .dataframe tbody tr th {\n",
       "        vertical-align: top;\n",
       "    }\n",
       "\n",
       "    .dataframe thead th {\n",
       "        text-align: right;\n",
       "    }\n",
       "</style>\n",
       "<table border=\"1\" class=\"dataframe\">\n",
       "  <thead>\n",
       "    <tr style=\"text-align: right;\">\n",
       "      <th></th>\n",
       "      <th>patient_id</th>\n",
       "      <th>global_num</th>\n",
       "      <th>sex</th>\n",
       "      <th>birth_year</th>\n",
       "      <th>age</th>\n",
       "      <th>country</th>\n",
       "      <th>province</th>\n",
       "      <th>city</th>\n",
       "      <th>disease</th>\n",
       "      <th>infection_case</th>\n",
       "      <th>...</th>\n",
       "      <th>confirmed_date</th>\n",
       "      <th>released_date</th>\n",
       "      <th>deceased_date</th>\n",
       "      <th>state</th>\n",
       "      <th>Exact Age</th>\n",
       "      <th>Age</th>\n",
       "      <th>Date IN</th>\n",
       "      <th>Date OUT</th>\n",
       "      <th>Date Deceased</th>\n",
       "      <th>Symptoms Onset Date</th>\n",
       "    </tr>\n",
       "  </thead>\n",
       "  <tbody>\n",
       "    <tr>\n",
       "      <td>0</td>\n",
       "      <td>1000000001</td>\n",
       "      <td>2.0</td>\n",
       "      <td>male</td>\n",
       "      <td>1964.0</td>\n",
       "      <td>50s</td>\n",
       "      <td>Korea</td>\n",
       "      <td>Seoul</td>\n",
       "      <td>Gangseo-gu</td>\n",
       "      <td>NaN</td>\n",
       "      <td>overseas inflow</td>\n",
       "      <td>...</td>\n",
       "      <td>2020-01-23</td>\n",
       "      <td>2020-02-05</td>\n",
       "      <td>NaN</td>\n",
       "      <td>released</td>\n",
       "      <td>56.0</td>\n",
       "      <td>50</td>\n",
       "      <td>2020-01-23</td>\n",
       "      <td>2020-02-05</td>\n",
       "      <td>NaT</td>\n",
       "      <td>2020-01-22</td>\n",
       "    </tr>\n",
       "    <tr>\n",
       "      <td>1</td>\n",
       "      <td>1000000002</td>\n",
       "      <td>5.0</td>\n",
       "      <td>male</td>\n",
       "      <td>1987.0</td>\n",
       "      <td>30s</td>\n",
       "      <td>Korea</td>\n",
       "      <td>Seoul</td>\n",
       "      <td>Jungnang-gu</td>\n",
       "      <td>NaN</td>\n",
       "      <td>overseas inflow</td>\n",
       "      <td>...</td>\n",
       "      <td>2020-01-30</td>\n",
       "      <td>2020-03-02</td>\n",
       "      <td>NaN</td>\n",
       "      <td>released</td>\n",
       "      <td>33.0</td>\n",
       "      <td>30</td>\n",
       "      <td>2020-01-30</td>\n",
       "      <td>2020-03-02</td>\n",
       "      <td>NaT</td>\n",
       "      <td>NaT</td>\n",
       "    </tr>\n",
       "    <tr>\n",
       "      <td>2</td>\n",
       "      <td>1000000003</td>\n",
       "      <td>6.0</td>\n",
       "      <td>male</td>\n",
       "      <td>1964.0</td>\n",
       "      <td>50s</td>\n",
       "      <td>Korea</td>\n",
       "      <td>Seoul</td>\n",
       "      <td>Jongno-gu</td>\n",
       "      <td>NaN</td>\n",
       "      <td>contact with patient</td>\n",
       "      <td>...</td>\n",
       "      <td>2020-01-30</td>\n",
       "      <td>2020-02-19</td>\n",
       "      <td>NaN</td>\n",
       "      <td>released</td>\n",
       "      <td>56.0</td>\n",
       "      <td>50</td>\n",
       "      <td>2020-01-30</td>\n",
       "      <td>2020-02-19</td>\n",
       "      <td>NaT</td>\n",
       "      <td>NaT</td>\n",
       "    </tr>\n",
       "    <tr>\n",
       "      <td>3</td>\n",
       "      <td>1000000004</td>\n",
       "      <td>7.0</td>\n",
       "      <td>male</td>\n",
       "      <td>1991.0</td>\n",
       "      <td>20s</td>\n",
       "      <td>Korea</td>\n",
       "      <td>Seoul</td>\n",
       "      <td>Mapo-gu</td>\n",
       "      <td>NaN</td>\n",
       "      <td>overseas inflow</td>\n",
       "      <td>...</td>\n",
       "      <td>2020-01-30</td>\n",
       "      <td>2020-02-15</td>\n",
       "      <td>NaN</td>\n",
       "      <td>released</td>\n",
       "      <td>29.0</td>\n",
       "      <td>20</td>\n",
       "      <td>2020-01-30</td>\n",
       "      <td>2020-02-15</td>\n",
       "      <td>NaT</td>\n",
       "      <td>2020-01-26</td>\n",
       "    </tr>\n",
       "    <tr>\n",
       "      <td>4</td>\n",
       "      <td>1000000005</td>\n",
       "      <td>9.0</td>\n",
       "      <td>female</td>\n",
       "      <td>1992.0</td>\n",
       "      <td>20s</td>\n",
       "      <td>Korea</td>\n",
       "      <td>Seoul</td>\n",
       "      <td>Seongbuk-gu</td>\n",
       "      <td>NaN</td>\n",
       "      <td>contact with patient</td>\n",
       "      <td>...</td>\n",
       "      <td>2020-01-31</td>\n",
       "      <td>2020-02-24</td>\n",
       "      <td>NaN</td>\n",
       "      <td>released</td>\n",
       "      <td>28.0</td>\n",
       "      <td>20</td>\n",
       "      <td>2020-01-31</td>\n",
       "      <td>2020-02-24</td>\n",
       "      <td>NaT</td>\n",
       "      <td>NaT</td>\n",
       "    </tr>\n",
       "    <tr>\n",
       "      <td>...</td>\n",
       "      <td>...</td>\n",
       "      <td>...</td>\n",
       "      <td>...</td>\n",
       "      <td>...</td>\n",
       "      <td>...</td>\n",
       "      <td>...</td>\n",
       "      <td>...</td>\n",
       "      <td>...</td>\n",
       "      <td>...</td>\n",
       "      <td>...</td>\n",
       "      <td>...</td>\n",
       "      <td>...</td>\n",
       "      <td>...</td>\n",
       "      <td>...</td>\n",
       "      <td>...</td>\n",
       "      <td>...</td>\n",
       "      <td>...</td>\n",
       "      <td>...</td>\n",
       "      <td>...</td>\n",
       "      <td>...</td>\n",
       "      <td>...</td>\n",
       "    </tr>\n",
       "    <tr>\n",
       "      <td>2238</td>\n",
       "      <td>6100000085</td>\n",
       "      <td>NaN</td>\n",
       "      <td>male</td>\n",
       "      <td>1990.0</td>\n",
       "      <td>30s</td>\n",
       "      <td>Korea</td>\n",
       "      <td>Gyeongsangnam-do</td>\n",
       "      <td>Changwon-si</td>\n",
       "      <td>NaN</td>\n",
       "      <td>NaN</td>\n",
       "      <td>...</td>\n",
       "      <td>2020-03-16</td>\n",
       "      <td>NaN</td>\n",
       "      <td>NaN</td>\n",
       "      <td>NaN</td>\n",
       "      <td>30.0</td>\n",
       "      <td>30</td>\n",
       "      <td>2020-03-16</td>\n",
       "      <td>NaT</td>\n",
       "      <td>NaT</td>\n",
       "      <td>NaT</td>\n",
       "    </tr>\n",
       "    <tr>\n",
       "      <td>2239</td>\n",
       "      <td>7000000001</td>\n",
       "      <td>139.0</td>\n",
       "      <td>male</td>\n",
       "      <td>1998.0</td>\n",
       "      <td>20s</td>\n",
       "      <td>Korea</td>\n",
       "      <td>Jeju-do</td>\n",
       "      <td>Jeju-do</td>\n",
       "      <td>NaN</td>\n",
       "      <td>etc</td>\n",
       "      <td>...</td>\n",
       "      <td>2020-02-20</td>\n",
       "      <td>NaN</td>\n",
       "      <td>NaN</td>\n",
       "      <td>isolated</td>\n",
       "      <td>22.0</td>\n",
       "      <td>20</td>\n",
       "      <td>2020-02-20</td>\n",
       "      <td>NaT</td>\n",
       "      <td>NaT</td>\n",
       "      <td>NaT</td>\n",
       "    </tr>\n",
       "    <tr>\n",
       "      <td>2240</td>\n",
       "      <td>7000000002</td>\n",
       "      <td>222.0</td>\n",
       "      <td>female</td>\n",
       "      <td>1998.0</td>\n",
       "      <td>20s</td>\n",
       "      <td>Korea</td>\n",
       "      <td>Jeju-do</td>\n",
       "      <td>Jeju-do</td>\n",
       "      <td>NaN</td>\n",
       "      <td>etc</td>\n",
       "      <td>...</td>\n",
       "      <td>2020-02-22</td>\n",
       "      <td>2020-03-07</td>\n",
       "      <td>NaN</td>\n",
       "      <td>released</td>\n",
       "      <td>22.0</td>\n",
       "      <td>20</td>\n",
       "      <td>2020-02-22</td>\n",
       "      <td>2020-03-07</td>\n",
       "      <td>NaT</td>\n",
       "      <td>NaT</td>\n",
       "    </tr>\n",
       "    <tr>\n",
       "      <td>2241</td>\n",
       "      <td>7000000003</td>\n",
       "      <td>4345.0</td>\n",
       "      <td>female</td>\n",
       "      <td>1972.0</td>\n",
       "      <td>40s</td>\n",
       "      <td>Korea</td>\n",
       "      <td>Jeju-do</td>\n",
       "      <td>etc</td>\n",
       "      <td>NaN</td>\n",
       "      <td>etc</td>\n",
       "      <td>...</td>\n",
       "      <td>2020-03-02</td>\n",
       "      <td>2020-03-15</td>\n",
       "      <td>NaN</td>\n",
       "      <td>released</td>\n",
       "      <td>48.0</td>\n",
       "      <td>40</td>\n",
       "      <td>2020-03-02</td>\n",
       "      <td>2020-03-15</td>\n",
       "      <td>NaT</td>\n",
       "      <td>NaT</td>\n",
       "    </tr>\n",
       "    <tr>\n",
       "      <td>2242</td>\n",
       "      <td>7000000004</td>\n",
       "      <td>5534.0</td>\n",
       "      <td>male</td>\n",
       "      <td>1974.0</td>\n",
       "      <td>40s</td>\n",
       "      <td>Korea</td>\n",
       "      <td>Jeju-do</td>\n",
       "      <td>Jeju-do</td>\n",
       "      <td>NaN</td>\n",
       "      <td>etc</td>\n",
       "      <td>...</td>\n",
       "      <td>2020-03-04</td>\n",
       "      <td>NaN</td>\n",
       "      <td>NaN</td>\n",
       "      <td>isolated</td>\n",
       "      <td>46.0</td>\n",
       "      <td>40</td>\n",
       "      <td>2020-03-04</td>\n",
       "      <td>NaT</td>\n",
       "      <td>NaT</td>\n",
       "      <td>NaT</td>\n",
       "    </tr>\n",
       "  </tbody>\n",
       "</table>\n",
       "<p>2211 rows × 24 columns</p>\n",
       "</div>"
      ],
      "text/plain": [
       "      patient_id  global_num     sex  birth_year  age country  \\\n",
       "0     1000000001         2.0    male      1964.0  50s   Korea   \n",
       "1     1000000002         5.0    male      1987.0  30s   Korea   \n",
       "2     1000000003         6.0    male      1964.0  50s   Korea   \n",
       "3     1000000004         7.0    male      1991.0  20s   Korea   \n",
       "4     1000000005         9.0  female      1992.0  20s   Korea   \n",
       "...          ...         ...     ...         ...  ...     ...   \n",
       "2238  6100000085         NaN    male      1990.0  30s   Korea   \n",
       "2239  7000000001       139.0    male      1998.0  20s   Korea   \n",
       "2240  7000000002       222.0  female      1998.0  20s   Korea   \n",
       "2241  7000000003      4345.0  female      1972.0  40s   Korea   \n",
       "2242  7000000004      5534.0    male      1974.0  40s   Korea   \n",
       "\n",
       "              province         city disease        infection_case  ...  \\\n",
       "0                Seoul   Gangseo-gu     NaN       overseas inflow  ...   \n",
       "1                Seoul  Jungnang-gu     NaN       overseas inflow  ...   \n",
       "2                Seoul    Jongno-gu     NaN  contact with patient  ...   \n",
       "3                Seoul      Mapo-gu     NaN       overseas inflow  ...   \n",
       "4                Seoul  Seongbuk-gu     NaN  contact with patient  ...   \n",
       "...                ...          ...     ...                   ...  ...   \n",
       "2238  Gyeongsangnam-do  Changwon-si     NaN                   NaN  ...   \n",
       "2239           Jeju-do      Jeju-do     NaN                   etc  ...   \n",
       "2240           Jeju-do      Jeju-do     NaN                   etc  ...   \n",
       "2241           Jeju-do          etc     NaN                   etc  ...   \n",
       "2242           Jeju-do      Jeju-do     NaN                   etc  ...   \n",
       "\n",
       "      confirmed_date  released_date  deceased_date     state Exact Age Age  \\\n",
       "0         2020-01-23     2020-02-05            NaN  released      56.0  50   \n",
       "1         2020-01-30     2020-03-02            NaN  released      33.0  30   \n",
       "2         2020-01-30     2020-02-19            NaN  released      56.0  50   \n",
       "3         2020-01-30     2020-02-15            NaN  released      29.0  20   \n",
       "4         2020-01-31     2020-02-24            NaN  released      28.0  20   \n",
       "...              ...            ...            ...       ...       ...  ..   \n",
       "2238      2020-03-16            NaN            NaN       NaN      30.0  30   \n",
       "2239      2020-02-20            NaN            NaN  isolated      22.0  20   \n",
       "2240      2020-02-22     2020-03-07            NaN  released      22.0  20   \n",
       "2241      2020-03-02     2020-03-15            NaN  released      48.0  40   \n",
       "2242      2020-03-04            NaN            NaN  isolated      46.0  40   \n",
       "\n",
       "        Date IN   Date OUT  Date Deceased  Symptoms Onset Date  \n",
       "0    2020-01-23 2020-02-05            NaT           2020-01-22  \n",
       "1    2020-01-30 2020-03-02            NaT                  NaT  \n",
       "2    2020-01-30 2020-02-19            NaT                  NaT  \n",
       "3    2020-01-30 2020-02-15            NaT           2020-01-26  \n",
       "4    2020-01-31 2020-02-24            NaT                  NaT  \n",
       "...         ...        ...            ...                  ...  \n",
       "2238 2020-03-16        NaT            NaT                  NaT  \n",
       "2239 2020-02-20        NaT            NaT                  NaT  \n",
       "2240 2020-02-22 2020-03-07            NaT                  NaT  \n",
       "2241 2020-03-02 2020-03-15            NaT                  NaT  \n",
       "2242 2020-03-04        NaT            NaT                  NaT  \n",
       "\n",
       "[2211 rows x 24 columns]"
      ]
     },
     "execution_count": 422,
     "metadata": {},
     "output_type": "execute_result"
    }
   ],
   "source": [
    "PatientInfo_data[condition_alive]"
   ]
  },
  {
   "cell_type": "code",
   "execution_count": 423,
   "metadata": {},
   "outputs": [
    {
     "data": {
      "text/plain": [
       "2211"
      ]
     },
     "execution_count": 423,
     "metadata": {},
     "output_type": "execute_result"
    }
   ],
   "source": [
    "alive = len(PatientInfo_data[condition_alive])\n",
    "alive"
   ]
  },
  {
   "cell_type": "code",
   "execution_count": 295,
   "metadata": {},
   "outputs": [
    {
     "data": {
      "text/plain": [
       "44.65113636363636"
      ]
     },
     "execution_count": 295,
     "metadata": {},
     "output_type": "execute_result"
    }
   ],
   "source": [
    "avg_age_alive = PatientInfo_data[condition_alive][\"Exact Age\"].mean()  \n",
    "avg_age_alive"
   ]
  },
  {
   "cell_type": "markdown",
   "metadata": {},
   "source": [
    "## HighRisk Survivors"
   ]
  },
  {
   "cell_type": "code",
   "execution_count": 285,
   "metadata": {},
   "outputs": [
    {
     "data": {
      "text/plain": [
       "71.19444444444444"
      ]
     },
     "execution_count": 285,
     "metadata": {},
     "output_type": "execute_result"
    }
   ],
   "source": [
    "avg_age_deceased"
   ]
  },
  {
   "cell_type": "markdown",
   "metadata": {},
   "source": [
    "## Calculate How Many OVER the Average Age of the Deceased Made it Alive"
   ]
  },
  {
   "cell_type": "code",
   "execution_count": 294,
   "metadata": {},
   "outputs": [
    {
     "data": {
      "text/html": [
       "<div>\n",
       "<style scoped>\n",
       "    .dataframe tbody tr th:only-of-type {\n",
       "        vertical-align: middle;\n",
       "    }\n",
       "\n",
       "    .dataframe tbody tr th {\n",
       "        vertical-align: top;\n",
       "    }\n",
       "\n",
       "    .dataframe thead th {\n",
       "        text-align: right;\n",
       "    }\n",
       "</style>\n",
       "<table border=\"1\" class=\"dataframe\">\n",
       "  <thead>\n",
       "    <tr style=\"text-align: right;\">\n",
       "      <th></th>\n",
       "      <th>patient_id</th>\n",
       "      <th>global_num</th>\n",
       "      <th>sex</th>\n",
       "      <th>birth_year</th>\n",
       "      <th>age</th>\n",
       "      <th>country</th>\n",
       "      <th>province</th>\n",
       "      <th>city</th>\n",
       "      <th>disease</th>\n",
       "      <th>infection_case</th>\n",
       "      <th>...</th>\n",
       "      <th>confirmed_date</th>\n",
       "      <th>released_date</th>\n",
       "      <th>deceased_date</th>\n",
       "      <th>state</th>\n",
       "      <th>Exact Age</th>\n",
       "      <th>Age</th>\n",
       "      <th>Date IN</th>\n",
       "      <th>Date OUT</th>\n",
       "      <th>Date Deceased</th>\n",
       "      <th>Symptoms Onset Date</th>\n",
       "    </tr>\n",
       "  </thead>\n",
       "  <tbody>\n",
       "    <tr>\n",
       "      <td>12</td>\n",
       "      <td>1000000013</td>\n",
       "      <td>29.0</td>\n",
       "      <td>male</td>\n",
       "      <td>1938.0</td>\n",
       "      <td>80s</td>\n",
       "      <td>Korea</td>\n",
       "      <td>Seoul</td>\n",
       "      <td>Jongno-gu</td>\n",
       "      <td>NaN</td>\n",
       "      <td>contact with patient</td>\n",
       "      <td>...</td>\n",
       "      <td>2020-02-16</td>\n",
       "      <td>NaN</td>\n",
       "      <td>NaN</td>\n",
       "      <td>released</td>\n",
       "      <td>82.0</td>\n",
       "      <td>80</td>\n",
       "      <td>2020-02-16</td>\n",
       "      <td>NaT</td>\n",
       "      <td>NaT</td>\n",
       "      <td>NaT</td>\n",
       "    </tr>\n",
       "    <tr>\n",
       "      <td>14</td>\n",
       "      <td>1000000015</td>\n",
       "      <td>40.0</td>\n",
       "      <td>male</td>\n",
       "      <td>1943.0</td>\n",
       "      <td>70s</td>\n",
       "      <td>Korea</td>\n",
       "      <td>Seoul</td>\n",
       "      <td>Seongdong-gu</td>\n",
       "      <td>NaN</td>\n",
       "      <td>Seongdong-gu APT</td>\n",
       "      <td>...</td>\n",
       "      <td>2020-02-19</td>\n",
       "      <td>NaN</td>\n",
       "      <td>NaN</td>\n",
       "      <td>isolated</td>\n",
       "      <td>77.0</td>\n",
       "      <td>70</td>\n",
       "      <td>2020-02-19</td>\n",
       "      <td>NaT</td>\n",
       "      <td>NaT</td>\n",
       "      <td>2020-02-11</td>\n",
       "    </tr>\n",
       "    <tr>\n",
       "      <td>15</td>\n",
       "      <td>1000000016</td>\n",
       "      <td>56.0</td>\n",
       "      <td>male</td>\n",
       "      <td>1945.0</td>\n",
       "      <td>70s</td>\n",
       "      <td>Korea</td>\n",
       "      <td>Seoul</td>\n",
       "      <td>Jongno-gu</td>\n",
       "      <td>NaN</td>\n",
       "      <td>contact with patient</td>\n",
       "      <td>...</td>\n",
       "      <td>2020-02-19</td>\n",
       "      <td>2020-03-11</td>\n",
       "      <td>NaN</td>\n",
       "      <td>released</td>\n",
       "      <td>75.0</td>\n",
       "      <td>70</td>\n",
       "      <td>2020-02-19</td>\n",
       "      <td>2020-03-11</td>\n",
       "      <td>NaT</td>\n",
       "      <td>NaT</td>\n",
       "    </tr>\n",
       "    <tr>\n",
       "      <td>16</td>\n",
       "      <td>1000000017</td>\n",
       "      <td>83.0</td>\n",
       "      <td>male</td>\n",
       "      <td>1944.0</td>\n",
       "      <td>70s</td>\n",
       "      <td>Korea</td>\n",
       "      <td>Seoul</td>\n",
       "      <td>Jongno-gu</td>\n",
       "      <td>NaN</td>\n",
       "      <td>contact with patient</td>\n",
       "      <td>...</td>\n",
       "      <td>2020-02-20</td>\n",
       "      <td>2020-03-01</td>\n",
       "      <td>NaN</td>\n",
       "      <td>released</td>\n",
       "      <td>76.0</td>\n",
       "      <td>70</td>\n",
       "      <td>2020-02-20</td>\n",
       "      <td>2020-03-01</td>\n",
       "      <td>NaT</td>\n",
       "      <td>NaT</td>\n",
       "    </tr>\n",
       "    <tr>\n",
       "      <td>18</td>\n",
       "      <td>1000000019</td>\n",
       "      <td>112.0</td>\n",
       "      <td>female</td>\n",
       "      <td>1941.0</td>\n",
       "      <td>70s</td>\n",
       "      <td>Korea</td>\n",
       "      <td>Seoul</td>\n",
       "      <td>Jongno-gu</td>\n",
       "      <td>NaN</td>\n",
       "      <td>contact with patient</td>\n",
       "      <td>...</td>\n",
       "      <td>2020-02-20</td>\n",
       "      <td>2020-03-08</td>\n",
       "      <td>NaN</td>\n",
       "      <td>released</td>\n",
       "      <td>79.0</td>\n",
       "      <td>70</td>\n",
       "      <td>2020-02-20</td>\n",
       "      <td>2020-03-08</td>\n",
       "      <td>NaT</td>\n",
       "      <td>NaT</td>\n",
       "    </tr>\n",
       "    <tr>\n",
       "      <td>...</td>\n",
       "      <td>...</td>\n",
       "      <td>...</td>\n",
       "      <td>...</td>\n",
       "      <td>...</td>\n",
       "      <td>...</td>\n",
       "      <td>...</td>\n",
       "      <td>...</td>\n",
       "      <td>...</td>\n",
       "      <td>...</td>\n",
       "      <td>...</td>\n",
       "      <td>...</td>\n",
       "      <td>...</td>\n",
       "      <td>...</td>\n",
       "      <td>...</td>\n",
       "      <td>...</td>\n",
       "      <td>...</td>\n",
       "      <td>...</td>\n",
       "      <td>...</td>\n",
       "      <td>...</td>\n",
       "      <td>...</td>\n",
       "      <td>...</td>\n",
       "    </tr>\n",
       "    <tr>\n",
       "      <td>2155</td>\n",
       "      <td>6118000002</td>\n",
       "      <td>NaN</td>\n",
       "      <td>male</td>\n",
       "      <td>1948.0</td>\n",
       "      <td>70s</td>\n",
       "      <td>Korea</td>\n",
       "      <td>Gyeongsangnam-do</td>\n",
       "      <td>Hapcheon-gun</td>\n",
       "      <td>NaN</td>\n",
       "      <td>Shincheonji Church</td>\n",
       "      <td>...</td>\n",
       "      <td>2020-02-20</td>\n",
       "      <td>NaN</td>\n",
       "      <td>NaN</td>\n",
       "      <td>isolated</td>\n",
       "      <td>72.0</td>\n",
       "      <td>70</td>\n",
       "      <td>2020-02-20</td>\n",
       "      <td>NaT</td>\n",
       "      <td>NaT</td>\n",
       "      <td>NaT</td>\n",
       "    </tr>\n",
       "    <tr>\n",
       "      <td>2166</td>\n",
       "      <td>6103000013</td>\n",
       "      <td>NaN</td>\n",
       "      <td>female</td>\n",
       "      <td>1943.0</td>\n",
       "      <td>70s</td>\n",
       "      <td>Korea</td>\n",
       "      <td>Gyeongsangnam-do</td>\n",
       "      <td>Goseong-gun</td>\n",
       "      <td>NaN</td>\n",
       "      <td>Shincheonji Church</td>\n",
       "      <td>...</td>\n",
       "      <td>2020-02-23</td>\n",
       "      <td>NaN</td>\n",
       "      <td>NaN</td>\n",
       "      <td>released</td>\n",
       "      <td>77.0</td>\n",
       "      <td>70</td>\n",
       "      <td>2020-02-23</td>\n",
       "      <td>NaT</td>\n",
       "      <td>NaT</td>\n",
       "      <td>NaT</td>\n",
       "    </tr>\n",
       "    <tr>\n",
       "      <td>2174</td>\n",
       "      <td>6118000021</td>\n",
       "      <td>NaN</td>\n",
       "      <td>male</td>\n",
       "      <td>1948.0</td>\n",
       "      <td>70s</td>\n",
       "      <td>Korea</td>\n",
       "      <td>Gyeongsangnam-do</td>\n",
       "      <td>Hapcheon-gun</td>\n",
       "      <td>NaN</td>\n",
       "      <td>contact with patient</td>\n",
       "      <td>...</td>\n",
       "      <td>2020-02-24</td>\n",
       "      <td>NaN</td>\n",
       "      <td>NaN</td>\n",
       "      <td>released</td>\n",
       "      <td>72.0</td>\n",
       "      <td>70</td>\n",
       "      <td>2020-02-24</td>\n",
       "      <td>NaT</td>\n",
       "      <td>NaT</td>\n",
       "      <td>NaT</td>\n",
       "    </tr>\n",
       "    <tr>\n",
       "      <td>2230</td>\n",
       "      <td>6102000077</td>\n",
       "      <td>NaN</td>\n",
       "      <td>female</td>\n",
       "      <td>1944.0</td>\n",
       "      <td>70s</td>\n",
       "      <td>Korea</td>\n",
       "      <td>Gyeongsangnam-do</td>\n",
       "      <td>Geochang-gun</td>\n",
       "      <td>NaN</td>\n",
       "      <td>NaN</td>\n",
       "      <td>...</td>\n",
       "      <td>2020-03-05</td>\n",
       "      <td>NaN</td>\n",
       "      <td>NaN</td>\n",
       "      <td>isolated</td>\n",
       "      <td>76.0</td>\n",
       "      <td>70</td>\n",
       "      <td>2020-03-05</td>\n",
       "      <td>NaT</td>\n",
       "      <td>NaT</td>\n",
       "      <td>NaT</td>\n",
       "    </tr>\n",
       "    <tr>\n",
       "      <td>2234</td>\n",
       "      <td>6102000081</td>\n",
       "      <td>NaN</td>\n",
       "      <td>female</td>\n",
       "      <td>1947.0</td>\n",
       "      <td>70s</td>\n",
       "      <td>Korea</td>\n",
       "      <td>Gyeongsangnam-do</td>\n",
       "      <td>Geochang-gun</td>\n",
       "      <td>NaN</td>\n",
       "      <td>NaN</td>\n",
       "      <td>...</td>\n",
       "      <td>2020-03-06</td>\n",
       "      <td>NaN</td>\n",
       "      <td>NaN</td>\n",
       "      <td>isolated</td>\n",
       "      <td>73.0</td>\n",
       "      <td>70</td>\n",
       "      <td>2020-03-06</td>\n",
       "      <td>NaT</td>\n",
       "      <td>NaT</td>\n",
       "      <td>NaT</td>\n",
       "    </tr>\n",
       "  </tbody>\n",
       "</table>\n",
       "<p>162 rows × 24 columns</p>\n",
       "</div>"
      ],
      "text/plain": [
       "      patient_id  global_num     sex  birth_year  age country  \\\n",
       "12    1000000013        29.0    male      1938.0  80s   Korea   \n",
       "14    1000000015        40.0    male      1943.0  70s   Korea   \n",
       "15    1000000016        56.0    male      1945.0  70s   Korea   \n",
       "16    1000000017        83.0    male      1944.0  70s   Korea   \n",
       "18    1000000019       112.0  female      1941.0  70s   Korea   \n",
       "...          ...         ...     ...         ...  ...     ...   \n",
       "2155  6118000002         NaN    male      1948.0  70s   Korea   \n",
       "2166  6103000013         NaN  female      1943.0  70s   Korea   \n",
       "2174  6118000021         NaN    male      1948.0  70s   Korea   \n",
       "2230  6102000077         NaN  female      1944.0  70s   Korea   \n",
       "2234  6102000081         NaN  female      1947.0  70s   Korea   \n",
       "\n",
       "              province          city disease        infection_case  ...  \\\n",
       "12               Seoul     Jongno-gu     NaN  contact with patient  ...   \n",
       "14               Seoul  Seongdong-gu     NaN      Seongdong-gu APT  ...   \n",
       "15               Seoul     Jongno-gu     NaN  contact with patient  ...   \n",
       "16               Seoul     Jongno-gu     NaN  contact with patient  ...   \n",
       "18               Seoul     Jongno-gu     NaN  contact with patient  ...   \n",
       "...                ...           ...     ...                   ...  ...   \n",
       "2155  Gyeongsangnam-do  Hapcheon-gun     NaN    Shincheonji Church  ...   \n",
       "2166  Gyeongsangnam-do   Goseong-gun     NaN    Shincheonji Church  ...   \n",
       "2174  Gyeongsangnam-do  Hapcheon-gun     NaN  contact with patient  ...   \n",
       "2230  Gyeongsangnam-do  Geochang-gun     NaN                   NaN  ...   \n",
       "2234  Gyeongsangnam-do  Geochang-gun     NaN                   NaN  ...   \n",
       "\n",
       "      confirmed_date  released_date  deceased_date     state Exact Age Age  \\\n",
       "12        2020-02-16            NaN            NaN  released      82.0  80   \n",
       "14        2020-02-19            NaN            NaN  isolated      77.0  70   \n",
       "15        2020-02-19     2020-03-11            NaN  released      75.0  70   \n",
       "16        2020-02-20     2020-03-01            NaN  released      76.0  70   \n",
       "18        2020-02-20     2020-03-08            NaN  released      79.0  70   \n",
       "...              ...            ...            ...       ...       ...  ..   \n",
       "2155      2020-02-20            NaN            NaN  isolated      72.0  70   \n",
       "2166      2020-02-23            NaN            NaN  released      77.0  70   \n",
       "2174      2020-02-24            NaN            NaN  released      72.0  70   \n",
       "2230      2020-03-05            NaN            NaN  isolated      76.0  70   \n",
       "2234      2020-03-06            NaN            NaN  isolated      73.0  70   \n",
       "\n",
       "        Date IN   Date OUT  Date Deceased  Symptoms Onset Date  \n",
       "12   2020-02-16        NaT            NaT                  NaT  \n",
       "14   2020-02-19        NaT            NaT           2020-02-11  \n",
       "15   2020-02-19 2020-03-11            NaT                  NaT  \n",
       "16   2020-02-20 2020-03-01            NaT                  NaT  \n",
       "18   2020-02-20 2020-03-08            NaT                  NaT  \n",
       "...         ...        ...            ...                  ...  \n",
       "2155 2020-02-20        NaT            NaT                  NaT  \n",
       "2166 2020-02-23        NaT            NaT                  NaT  \n",
       "2174 2020-02-24        NaT            NaT                  NaT  \n",
       "2230 2020-03-05        NaT            NaT                  NaT  \n",
       "2234 2020-03-06        NaT            NaT                  NaT  \n",
       "\n",
       "[162 rows x 24 columns]"
      ]
     },
     "execution_count": 294,
     "metadata": {},
     "output_type": "execute_result"
    }
   ],
   "source": [
    "condition_alive = (PatientInfo_data[\"state\"]!=\"deceased\")\n",
    "condition_HighRisk = PatientInfo_data[\"Exact Age\"]>= avg_age_deceased\n",
    "condition_HighRisk_Survivor = condition_alive & condition_HighRisk\n",
    "\n",
    "HighRisk_Survivor = PatientInfo_data[condition_HighRisk_Survivor]\n",
    "\n",
    "PatientInfo_data[condition_HighRisk_Survivor].groupby(\"patient_id\")\n",
    "\n",
    "HighRisk_Survivor_Count = len(PatientInfo_data[condition_HighRisk].groupby(\"patient_id\"))\n",
    "\n",
    "HighRisk_Survivor"
   ]
  },
  {
   "cell_type": "code",
   "execution_count": 287,
   "metadata": {},
   "outputs": [
    {
     "data": {
      "text/plain": [
       "Timedelta('17 days 00:00:00')"
      ]
     },
     "execution_count": 287,
     "metadata": {},
     "output_type": "execute_result"
    }
   ],
   "source": [
    "condition_HighRisk_Survivor = condition_alive & condition_HighRisk\n",
    "for date in PatientInfo_data[condition_HighRisk_Survivor]:\n",
    "    Calculate_Days = PatientInfo_data[condition_HighRisk_Survivor][\"Date OUT\"] - PatientInfo_data[condition_HighRisk_Survivor][\"Date IN\"]\n",
    "\n",
    "Calculate_Days.mean()"
   ]
  },
  {
   "cell_type": "code",
   "execution_count": 288,
   "metadata": {},
   "outputs": [],
   "source": [
    "HighRisk_Survivor_Days = Calculate_Days.mean()"
   ]
  },
  {
   "cell_type": "code",
   "execution_count": 289,
   "metadata": {},
   "outputs": [
    {
     "data": {
      "text/plain": [
       "80.48148148148148"
      ]
     },
     "execution_count": 289,
     "metadata": {},
     "output_type": "execute_result"
    }
   ],
   "source": [
    "HighRisk_Survivor[\"Exact Age\"].mean()"
   ]
  },
  {
   "cell_type": "code",
   "execution_count": 290,
   "metadata": {},
   "outputs": [
    {
     "data": {
      "text/plain": [
       "array(['Seoul', 'Busan', 'Daegu', 'Ulsan', 'Gyeonggi-do',\n",
       "       'Chungcheongbuk-do', 'Chungcheongnam-do', 'Jeollabuk-do',\n",
       "       'Gyeongsangbuk-do', 'Gyeongsangnam-do'], dtype=object)"
      ]
     },
     "execution_count": 290,
     "metadata": {},
     "output_type": "execute_result"
    }
   ],
   "source": [
    "HighRisk_Survivor[\"province\"].unique()"
   ]
  },
  {
   "cell_type": "code",
   "execution_count": 291,
   "metadata": {},
   "outputs": [
    {
     "data": {
      "text/plain": [
       "array(['contact with patient', 'Seongdong-gu APT', 'overseas inflow',\n",
       "       \"Eunpyeong St. Mary's Hospital\", 'etc', 'Guro-gu Call Center',\n",
       "       'Dongan Church', 'Onchun Church', nan, 'Shincheonji Church'],\n",
       "      dtype=object)"
      ]
     },
     "execution_count": 291,
     "metadata": {},
     "output_type": "execute_result"
    }
   ],
   "source": [
    "HighRisk_Survivor[\"infection_case\"].unique()"
   ]
  },
  {
   "cell_type": "code",
   "execution_count": 292,
   "metadata": {},
   "outputs": [
    {
     "data": {
      "image/png": "[encoded data removed]",
      "text/plain": [
       "<Figure size 1080x360 with 1 Axes>"
      ]
     },
     "metadata": {},
     "output_type": "display_data"
    }
   ],
   "source": [
    "plt.figure(figsize=(15,5))\n",
    "plt.title('High Risk Survivor Infection reason')\n",
    "HighRisk_Survivor[\"infection_case\"].value_counts().plot.barh();"
   ]
  },
  {
   "cell_type": "code",
   "execution_count": null,
   "metadata": {},
   "outputs": [],
   "source": []
  },
  {
   "cell_type": "markdown",
   "metadata": {},
   "source": [
    "## How many Alive above the Average Age Deceased"
   ]
  },
  {
   "cell_type": "code",
   "execution_count": 293,
   "metadata": {},
   "outputs": [
    {
     "data": {
      "text/plain": [
       "174"
      ]
     },
     "execution_count": 293,
     "metadata": {},
     "output_type": "execute_result"
    }
   ],
   "source": [
    "HighRisk_Survivor_Count"
   ]
  },
  {
   "cell_type": "code",
   "execution_count": 501,
   "metadata": {},
   "outputs": [],
   "source": [
    "contact = pd.DataFrame()\n",
    "contact[\"Age\"] = PatientInfo_data[\"Age\"]\n",
    "contact[\"Contact\"] = PatientInfo_data[\"contact_number\"]"
   ]
  },
  {
   "cell_type": "code",
   "execution_count": 502,
   "metadata": {},
   "outputs": [
    {
     "data": {
      "image/png": "[encoded data removed]",
      "text/plain": [
       "<Figure size 1080x360 with 1 Axes>"
      ]
     },
     "metadata": {},
     "output_type": "display_data"
    }
   ],
   "source": [
    "plt.figure(figsize=(15,5))\n",
    "plt.title('Age vs Contact')\n",
    "contact[\"Age\"].value_counts().plot.bar();"
   ]
  },
  {
   "cell_type": "code",
   "execution_count": 503,
   "metadata": {},
   "outputs": [
    {
     "data": {
      "text/html": [
       "<div>\n",
       "<style scoped>\n",
       "    .dataframe tbody tr th:only-of-type {\n",
       "        vertical-align: middle;\n",
       "    }\n",
       "\n",
       "    .dataframe tbody tr th {\n",
       "        vertical-align: top;\n",
       "    }\n",
       "\n",
       "    .dataframe thead th {\n",
       "        text-align: right;\n",
       "    }\n",
       "</style>\n",
       "<table border=\"1\" class=\"dataframe\">\n",
       "  <thead>\n",
       "    <tr style=\"text-align: right;\">\n",
       "      <th></th>\n",
       "      <th>Age</th>\n",
       "      <th>Contact</th>\n",
       "    </tr>\n",
       "  </thead>\n",
       "  <tbody>\n",
       "    <tr>\n",
       "      <td>0</td>\n",
       "      <td>50</td>\n",
       "      <td>75.0</td>\n",
       "    </tr>\n",
       "    <tr>\n",
       "      <td>1</td>\n",
       "      <td>30</td>\n",
       "      <td>31.0</td>\n",
       "    </tr>\n",
       "    <tr>\n",
       "      <td>2</td>\n",
       "      <td>50</td>\n",
       "      <td>17.0</td>\n",
       "    </tr>\n",
       "    <tr>\n",
       "      <td>3</td>\n",
       "      <td>20</td>\n",
       "      <td>9.0</td>\n",
       "    </tr>\n",
       "    <tr>\n",
       "      <td>4</td>\n",
       "      <td>20</td>\n",
       "      <td>2.0</td>\n",
       "    </tr>\n",
       "    <tr>\n",
       "      <td>...</td>\n",
       "      <td>...</td>\n",
       "      <td>...</td>\n",
       "    </tr>\n",
       "    <tr>\n",
       "      <td>2238</td>\n",
       "      <td>30</td>\n",
       "      <td>NaN</td>\n",
       "    </tr>\n",
       "    <tr>\n",
       "      <td>2239</td>\n",
       "      <td>20</td>\n",
       "      <td>87.0</td>\n",
       "    </tr>\n",
       "    <tr>\n",
       "      <td>2240</td>\n",
       "      <td>20</td>\n",
       "      <td>84.0</td>\n",
       "    </tr>\n",
       "    <tr>\n",
       "      <td>2241</td>\n",
       "      <td>40</td>\n",
       "      <td>21.0</td>\n",
       "    </tr>\n",
       "    <tr>\n",
       "      <td>2242</td>\n",
       "      <td>40</td>\n",
       "      <td>74.0</td>\n",
       "    </tr>\n",
       "  </tbody>\n",
       "</table>\n",
       "<p>2243 rows × 2 columns</p>\n",
       "</div>"
      ],
      "text/plain": [
       "      Age  Contact\n",
       "0      50     75.0\n",
       "1      30     31.0\n",
       "2      50     17.0\n",
       "3      20      9.0\n",
       "4      20      2.0\n",
       "...   ...      ...\n",
       "2238   30      NaN\n",
       "2239   20     87.0\n",
       "2240   20     84.0\n",
       "2241   40     21.0\n",
       "2242   40     74.0\n",
       "\n",
       "[2243 rows x 2 columns]"
      ]
     },
     "execution_count": 503,
     "metadata": {},
     "output_type": "execute_result"
    }
   ],
   "source": [
    "contact"
   ]
  },
  {
   "cell_type": "code",
   "execution_count": null,
   "metadata": {},
   "outputs": [],
   "source": []
  }
 ],
 "metadata": {
  "kernelspec": {
   "display_name": "Python 3",
   "language": "python",
   "name": "python3"
  },
  "language_info": {
   "codemirror_mode": {
    "name": "ipython",
    "version": 3
   },
   "file_extension": ".py",
   "mimetype": "text/x-python",
   "name": "python",
   "nbconvert_exporter": "python",
   "pygments_lexer": "ipython3",
   "version": "3.7.4"
  }
 },
 "nbformat": 4,
 "nbformat_minor": 2
}
