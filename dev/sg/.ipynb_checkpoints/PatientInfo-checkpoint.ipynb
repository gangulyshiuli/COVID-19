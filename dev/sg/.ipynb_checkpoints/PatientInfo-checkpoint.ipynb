{
 "cells": [
  {
   "cell_type": "code",
   "execution_count": 1,
   "metadata": {},
   "outputs": [],
   "source": [
    "import pandas as pd\n",
    "import numpy as np\n",
    "\n",
    "import matplotlib.pyplot as plt\n",
    "import seaborn as sns"
   ]
  },
  {
   "cell_type": "code",
   "execution_count": 2,
   "metadata": {},
   "outputs": [
    {
     "data": {
      "text/html": [
       "<div>\n",
       "<style scoped>\n",
       "    .dataframe tbody tr th:only-of-type {\n",
       "        vertical-align: middle;\n",
       "    }\n",
       "\n",
       "    .dataframe tbody tr th {\n",
       "        vertical-align: top;\n",
       "    }\n",
       "\n",
       "    .dataframe thead th {\n",
       "        text-align: right;\n",
       "    }\n",
       "</style>\n",
       "<table border=\"1\" class=\"dataframe\">\n",
       "  <thead>\n",
       "    <tr style=\"text-align: right;\">\n",
       "      <th></th>\n",
       "      <th>patient_id</th>\n",
       "      <th>global_num</th>\n",
       "      <th>sex</th>\n",
       "      <th>birth_year</th>\n",
       "      <th>age</th>\n",
       "      <th>country</th>\n",
       "      <th>province</th>\n",
       "      <th>city</th>\n",
       "      <th>disease</th>\n",
       "      <th>infection_case</th>\n",
       "      <th>infection_order</th>\n",
       "      <th>infected_by</th>\n",
       "      <th>contact_number</th>\n",
       "      <th>symptom_onset_date</th>\n",
       "      <th>confirmed_date</th>\n",
       "      <th>released_date</th>\n",
       "      <th>deceased_date</th>\n",
       "      <th>state</th>\n",
       "    </tr>\n",
       "  </thead>\n",
       "  <tbody>\n",
       "    <tr>\n",
       "      <td>0</td>\n",
       "      <td>1000000001</td>\n",
       "      <td>2.0</td>\n",
       "      <td>male</td>\n",
       "      <td>1964.0</td>\n",
       "      <td>50s</td>\n",
       "      <td>Korea</td>\n",
       "      <td>Seoul</td>\n",
       "      <td>Gangseo-gu</td>\n",
       "      <td>NaN</td>\n",
       "      <td>overseas inflow</td>\n",
       "      <td>1.0</td>\n",
       "      <td>NaN</td>\n",
       "      <td>75.0</td>\n",
       "      <td>2020-01-22</td>\n",
       "      <td>2020-01-23</td>\n",
       "      <td>2020-02-05</td>\n",
       "      <td>NaN</td>\n",
       "      <td>released</td>\n",
       "    </tr>\n",
       "    <tr>\n",
       "      <td>1</td>\n",
       "      <td>1000000002</td>\n",
       "      <td>5.0</td>\n",
       "      <td>male</td>\n",
       "      <td>1987.0</td>\n",
       "      <td>30s</td>\n",
       "      <td>Korea</td>\n",
       "      <td>Seoul</td>\n",
       "      <td>Jungnang-gu</td>\n",
       "      <td>NaN</td>\n",
       "      <td>overseas inflow</td>\n",
       "      <td>1.0</td>\n",
       "      <td>NaN</td>\n",
       "      <td>31.0</td>\n",
       "      <td>NaN</td>\n",
       "      <td>2020-01-30</td>\n",
       "      <td>2020-03-02</td>\n",
       "      <td>NaN</td>\n",
       "      <td>released</td>\n",
       "    </tr>\n",
       "    <tr>\n",
       "      <td>2</td>\n",
       "      <td>1000000003</td>\n",
       "      <td>6.0</td>\n",
       "      <td>male</td>\n",
       "      <td>1964.0</td>\n",
       "      <td>50s</td>\n",
       "      <td>Korea</td>\n",
       "      <td>Seoul</td>\n",
       "      <td>Jongno-gu</td>\n",
       "      <td>NaN</td>\n",
       "      <td>contact with patient</td>\n",
       "      <td>2.0</td>\n",
       "      <td>2.002000e+09</td>\n",
       "      <td>17.0</td>\n",
       "      <td>NaN</td>\n",
       "      <td>2020-01-30</td>\n",
       "      <td>2020-02-19</td>\n",
       "      <td>NaN</td>\n",
       "      <td>released</td>\n",
       "    </tr>\n",
       "    <tr>\n",
       "      <td>3</td>\n",
       "      <td>1000000004</td>\n",
       "      <td>7.0</td>\n",
       "      <td>male</td>\n",
       "      <td>1991.0</td>\n",
       "      <td>20s</td>\n",
       "      <td>Korea</td>\n",
       "      <td>Seoul</td>\n",
       "      <td>Mapo-gu</td>\n",
       "      <td>NaN</td>\n",
       "      <td>overseas inflow</td>\n",
       "      <td>1.0</td>\n",
       "      <td>NaN</td>\n",
       "      <td>9.0</td>\n",
       "      <td>2020-01-26</td>\n",
       "      <td>2020-01-30</td>\n",
       "      <td>2020-02-15</td>\n",
       "      <td>NaN</td>\n",
       "      <td>released</td>\n",
       "    </tr>\n",
       "    <tr>\n",
       "      <td>4</td>\n",
       "      <td>1000000005</td>\n",
       "      <td>9.0</td>\n",
       "      <td>female</td>\n",
       "      <td>1992.0</td>\n",
       "      <td>20s</td>\n",
       "      <td>Korea</td>\n",
       "      <td>Seoul</td>\n",
       "      <td>Seongbuk-gu</td>\n",
       "      <td>NaN</td>\n",
       "      <td>contact with patient</td>\n",
       "      <td>2.0</td>\n",
       "      <td>1.000000e+09</td>\n",
       "      <td>2.0</td>\n",
       "      <td>NaN</td>\n",
       "      <td>2020-01-31</td>\n",
       "      <td>2020-02-24</td>\n",
       "      <td>NaN</td>\n",
       "      <td>released</td>\n",
       "    </tr>\n",
       "  </tbody>\n",
       "</table>\n",
       "</div>"
      ],
      "text/plain": [
       "   patient_id  global_num     sex  birth_year  age country province  \\\n",
       "0  1000000001         2.0    male      1964.0  50s   Korea    Seoul   \n",
       "1  1000000002         5.0    male      1987.0  30s   Korea    Seoul   \n",
       "2  1000000003         6.0    male      1964.0  50s   Korea    Seoul   \n",
       "3  1000000004         7.0    male      1991.0  20s   Korea    Seoul   \n",
       "4  1000000005         9.0  female      1992.0  20s   Korea    Seoul   \n",
       "\n",
       "          city disease        infection_case  infection_order   infected_by  \\\n",
       "0   Gangseo-gu     NaN       overseas inflow              1.0           NaN   \n",
       "1  Jungnang-gu     NaN       overseas inflow              1.0           NaN   \n",
       "2    Jongno-gu     NaN  contact with patient              2.0  2.002000e+09   \n",
       "3      Mapo-gu     NaN       overseas inflow              1.0           NaN   \n",
       "4  Seongbuk-gu     NaN  contact with patient              2.0  1.000000e+09   \n",
       "\n",
       "   contact_number symptom_onset_date confirmed_date released_date  \\\n",
       "0            75.0         2020-01-22     2020-01-23    2020-02-05   \n",
       "1            31.0                NaN     2020-01-30    2020-03-02   \n",
       "2            17.0                NaN     2020-01-30    2020-02-19   \n",
       "3             9.0         2020-01-26     2020-01-30    2020-02-15   \n",
       "4             2.0                NaN     2020-01-31    2020-02-24   \n",
       "\n",
       "  deceased_date     state  \n",
       "0           NaN  released  \n",
       "1           NaN  released  \n",
       "2           NaN  released  \n",
       "3           NaN  released  \n",
       "4           NaN  released  "
      ]
     },
     "execution_count": 2,
     "metadata": {},
     "output_type": "execute_result"
    }
   ],
   "source": [
    "# Read in Patient Info\n",
    "PatientInfo_data = pd.read_csv('../Data/PatientInfo.csv')\n",
    "PatientInfo_data.head()"
   ]
  },
  {
   "cell_type": "code",
   "execution_count": 3,
   "metadata": {},
   "outputs": [],
   "source": [
    "PatientRoute =  pd.read_csv('../Data/PatientRoute.csv')"
   ]
  },
  {
   "cell_type": "code",
   "execution_count": 4,
   "metadata": {},
   "outputs": [
    {
     "data": {
      "text/plain": [
       "8717.0"
      ]
     },
     "execution_count": 4,
     "metadata": {},
     "output_type": "execute_result"
    }
   ],
   "source": [
    "PatientInfo_data[\"global_num\"].max()"
   ]
  },
  {
   "cell_type": "code",
   "execution_count": 5,
   "metadata": {},
   "outputs": [
    {
     "data": {
      "text/plain": [
       "(2243, 18)"
      ]
     },
     "execution_count": 5,
     "metadata": {},
     "output_type": "execute_result"
    }
   ],
   "source": [
    "PatientInfo_data.shape"
   ]
  },
  {
   "cell_type": "code",
   "execution_count": 6,
   "metadata": {},
   "outputs": [
    {
     "data": {
      "text/html": [
       "<div>\n",
       "<style scoped>\n",
       "    .dataframe tbody tr th:only-of-type {\n",
       "        vertical-align: middle;\n",
       "    }\n",
       "\n",
       "    .dataframe tbody tr th {\n",
       "        vertical-align: top;\n",
       "    }\n",
       "\n",
       "    .dataframe thead th {\n",
       "        text-align: right;\n",
       "    }\n",
       "</style>\n",
       "<table border=\"1\" class=\"dataframe\">\n",
       "  <thead>\n",
       "    <tr style=\"text-align: right;\">\n",
       "      <th></th>\n",
       "      <th>case_id</th>\n",
       "      <th>province</th>\n",
       "      <th>city</th>\n",
       "      <th>group</th>\n",
       "      <th>infection_case</th>\n",
       "      <th>confirmed</th>\n",
       "      <th>latitude</th>\n",
       "      <th>longitude</th>\n",
       "    </tr>\n",
       "  </thead>\n",
       "  <tbody>\n",
       "    <tr>\n",
       "      <td>0</td>\n",
       "      <td>1000001</td>\n",
       "      <td>Seoul</td>\n",
       "      <td>Guro-gu</td>\n",
       "      <td>True</td>\n",
       "      <td>Guro-gu Call Center</td>\n",
       "      <td>79</td>\n",
       "      <td>37.508163</td>\n",
       "      <td>126.884387</td>\n",
       "    </tr>\n",
       "    <tr>\n",
       "      <td>1</td>\n",
       "      <td>1000002</td>\n",
       "      <td>Seoul</td>\n",
       "      <td>Dongdaemun-gu</td>\n",
       "      <td>True</td>\n",
       "      <td>Dongan Church</td>\n",
       "      <td>24</td>\n",
       "      <td>37.592888</td>\n",
       "      <td>127.056766</td>\n",
       "    </tr>\n",
       "    <tr>\n",
       "      <td>2</td>\n",
       "      <td>1000003</td>\n",
       "      <td>Seoul</td>\n",
       "      <td>Eunpyeong-gu</td>\n",
       "      <td>True</td>\n",
       "      <td>Eunpyeong St. Mary's Hospital</td>\n",
       "      <td>14</td>\n",
       "      <td>37.63369</td>\n",
       "      <td>126.9165</td>\n",
       "    </tr>\n",
       "    <tr>\n",
       "      <td>3</td>\n",
       "      <td>1000004</td>\n",
       "      <td>Seoul</td>\n",
       "      <td>Seongdong-gu</td>\n",
       "      <td>True</td>\n",
       "      <td>Seongdong-gu APT</td>\n",
       "      <td>13</td>\n",
       "      <td>37.55713</td>\n",
       "      <td>127.0403</td>\n",
       "    </tr>\n",
       "    <tr>\n",
       "      <td>4</td>\n",
       "      <td>1000005</td>\n",
       "      <td>Seoul</td>\n",
       "      <td>Jongno-gu</td>\n",
       "      <td>True</td>\n",
       "      <td>Jongno Community Center</td>\n",
       "      <td>10</td>\n",
       "      <td>37.57681</td>\n",
       "      <td>127.006</td>\n",
       "    </tr>\n",
       "  </tbody>\n",
       "</table>\n",
       "</div>"
      ],
      "text/plain": [
       "   case_id province           city  group                 infection_case  \\\n",
       "0  1000001    Seoul        Guro-gu   True            Guro-gu Call Center   \n",
       "1  1000002    Seoul  Dongdaemun-gu   True                  Dongan Church   \n",
       "2  1000003    Seoul   Eunpyeong-gu   True  Eunpyeong St. Mary's Hospital   \n",
       "3  1000004    Seoul   Seongdong-gu   True               Seongdong-gu APT   \n",
       "4  1000005    Seoul      Jongno-gu   True        Jongno Community Center   \n",
       "\n",
       "   confirmed   latitude   longitude  \n",
       "0         79  37.508163  126.884387  \n",
       "1         24  37.592888  127.056766  \n",
       "2         14   37.63369    126.9165  \n",
       "3         13   37.55713    127.0403  \n",
       "4         10   37.57681     127.006  "
      ]
     },
     "execution_count": 6,
     "metadata": {},
     "output_type": "execute_result"
    }
   ],
   "source": [
    "Case_data =pd.read_csv('../Data/Case.csv')\n",
    "Case_data.head()\n"
   ]
  },
  {
   "cell_type": "code",
   "execution_count": 7,
   "metadata": {},
   "outputs": [
    {
     "name": "stdout",
     "output_type": "stream",
     "text": [
      "51\n",
      "30\n",
      "Condition True 51\n",
      "Condition False 30\n"
     ]
    },
    {
     "data": {
      "text/html": [
       "<div>\n",
       "<style scoped>\n",
       "    .dataframe tbody tr th:only-of-type {\n",
       "        vertical-align: middle;\n",
       "    }\n",
       "\n",
       "    .dataframe tbody tr th {\n",
       "        vertical-align: top;\n",
       "    }\n",
       "\n",
       "    .dataframe thead th {\n",
       "        text-align: right;\n",
       "    }\n",
       "</style>\n",
       "<table border=\"1\" class=\"dataframe\">\n",
       "  <thead>\n",
       "    <tr style=\"text-align: right;\">\n",
       "      <th></th>\n",
       "      <th>case_id</th>\n",
       "      <th>province</th>\n",
       "      <th>city</th>\n",
       "      <th>group</th>\n",
       "      <th>infection_case</th>\n",
       "      <th>confirmed</th>\n",
       "      <th>latitude</th>\n",
       "      <th>longitude</th>\n",
       "    </tr>\n",
       "  </thead>\n",
       "  <tbody>\n",
       "    <tr>\n",
       "      <td>0</td>\n",
       "      <td>1000001</td>\n",
       "      <td>Seoul</td>\n",
       "      <td>Guro-gu</td>\n",
       "      <td>True</td>\n",
       "      <td>Guro-gu Call Center</td>\n",
       "      <td>79</td>\n",
       "      <td>37.508163</td>\n",
       "      <td>126.884387</td>\n",
       "    </tr>\n",
       "    <tr>\n",
       "      <td>1</td>\n",
       "      <td>1000002</td>\n",
       "      <td>Seoul</td>\n",
       "      <td>Dongdaemun-gu</td>\n",
       "      <td>True</td>\n",
       "      <td>Dongan Church</td>\n",
       "      <td>24</td>\n",
       "      <td>37.592888</td>\n",
       "      <td>127.056766</td>\n",
       "    </tr>\n",
       "    <tr>\n",
       "      <td>2</td>\n",
       "      <td>1000003</td>\n",
       "      <td>Seoul</td>\n",
       "      <td>Eunpyeong-gu</td>\n",
       "      <td>True</td>\n",
       "      <td>Eunpyeong St. Mary's Hospital</td>\n",
       "      <td>14</td>\n",
       "      <td>37.63369</td>\n",
       "      <td>126.9165</td>\n",
       "    </tr>\n",
       "    <tr>\n",
       "      <td>3</td>\n",
       "      <td>1000004</td>\n",
       "      <td>Seoul</td>\n",
       "      <td>Seongdong-gu</td>\n",
       "      <td>True</td>\n",
       "      <td>Seongdong-gu APT</td>\n",
       "      <td>13</td>\n",
       "      <td>37.55713</td>\n",
       "      <td>127.0403</td>\n",
       "    </tr>\n",
       "    <tr>\n",
       "      <td>4</td>\n",
       "      <td>1000005</td>\n",
       "      <td>Seoul</td>\n",
       "      <td>Jongno-gu</td>\n",
       "      <td>True</td>\n",
       "      <td>Jongno Community Center</td>\n",
       "      <td>10</td>\n",
       "      <td>37.57681</td>\n",
       "      <td>127.006</td>\n",
       "    </tr>\n",
       "  </tbody>\n",
       "</table>\n",
       "</div>"
      ],
      "text/plain": [
       "   case_id province           city  group                 infection_case  \\\n",
       "0  1000001    Seoul        Guro-gu   True            Guro-gu Call Center   \n",
       "1  1000002    Seoul  Dongdaemun-gu   True                  Dongan Church   \n",
       "2  1000003    Seoul   Eunpyeong-gu   True  Eunpyeong St. Mary's Hospital   \n",
       "3  1000004    Seoul   Seongdong-gu   True               Seongdong-gu APT   \n",
       "4  1000005    Seoul      Jongno-gu   True        Jongno Community Center   \n",
       "\n",
       "   confirmed   latitude   longitude  \n",
       "0         79  37.508163  126.884387  \n",
       "1         24  37.592888  127.056766  \n",
       "2         14   37.63369    126.9165  \n",
       "3         13   37.55713    127.0403  \n",
       "4         10   37.57681     127.006  "
      ]
     },
     "execution_count": 7,
     "metadata": {},
     "output_type": "execute_result"
    }
   ],
   "source": [
    "TimeGender_data = pd.read_csv('../Data/Case.csv')\n",
    "condition_True = (TimeGender_data[\"group\"]==True)\n",
    "TimeGender_data[condition_True]\n",
    "count_True = len(TimeGender_data[condition_True])\n",
    "print(count_True)\n",
    "\n",
    "\n",
    "condition_False = (TimeGender_data[\"group\"]==False)\n",
    "TimeGender_data[condition_False]\n",
    "count_False = len((TimeGender_data[condition_False]))\n",
    "print(count_False)\n",
    "print(f\"Condition True\", count_True)\n",
    "print(f\"Condition False\", count_False)\n",
    "TimeGender_data.head()"
   ]
  },
  {
   "cell_type": "markdown",
   "metadata": {},
   "source": [
    "## Total Number of Patients (total_number)"
   ]
  },
  {
   "cell_type": "code",
   "execution_count": 8,
   "metadata": {},
   "outputs": [
    {
     "name": "stdout",
     "output_type": "stream",
     "text": [
      "Total Number of Patients  2243\n"
     ]
    }
   ],
   "source": [
    "total_number = len(PatientInfo_data)\n",
    "print(f\"Total Number of Patients \", total_number)\n",
    "#2243"
   ]
  },
  {
   "cell_type": "code",
   "execution_count": 9,
   "metadata": {},
   "outputs": [
    {
     "data": {
      "text/html": [
       "<div>\n",
       "<style scoped>\n",
       "    .dataframe tbody tr th:only-of-type {\n",
       "        vertical-align: middle;\n",
       "    }\n",
       "\n",
       "    .dataframe tbody tr th {\n",
       "        vertical-align: top;\n",
       "    }\n",
       "\n",
       "    .dataframe thead th {\n",
       "        text-align: right;\n",
       "    }\n",
       "</style>\n",
       "<table border=\"1\" class=\"dataframe\">\n",
       "  <thead>\n",
       "    <tr style=\"text-align: right;\">\n",
       "      <th></th>\n",
       "      <th>patient_id</th>\n",
       "      <th>global_num</th>\n",
       "      <th>sex</th>\n",
       "      <th>birth_year</th>\n",
       "      <th>country</th>\n",
       "      <th>province</th>\n",
       "      <th>city</th>\n",
       "      <th>disease</th>\n",
       "      <th>infection_case</th>\n",
       "      <th>infection_order</th>\n",
       "      <th>infected_by</th>\n",
       "      <th>contact_number</th>\n",
       "      <th>symptom_onset_date</th>\n",
       "      <th>confirmed_date</th>\n",
       "      <th>released_date</th>\n",
       "      <th>deceased_date</th>\n",
       "      <th>state</th>\n",
       "    </tr>\n",
       "    <tr>\n",
       "      <th>age</th>\n",
       "      <th></th>\n",
       "      <th></th>\n",
       "      <th></th>\n",
       "      <th></th>\n",
       "      <th></th>\n",
       "      <th></th>\n",
       "      <th></th>\n",
       "      <th></th>\n",
       "      <th></th>\n",
       "      <th></th>\n",
       "      <th></th>\n",
       "      <th></th>\n",
       "      <th></th>\n",
       "      <th></th>\n",
       "      <th></th>\n",
       "      <th></th>\n",
       "      <th></th>\n",
       "    </tr>\n",
       "  </thead>\n",
       "  <tbody>\n",
       "    <tr>\n",
       "      <td>0s</td>\n",
       "      <td>29</td>\n",
       "      <td>13</td>\n",
       "      <td>29</td>\n",
       "      <td>26</td>\n",
       "      <td>29</td>\n",
       "      <td>29</td>\n",
       "      <td>29</td>\n",
       "      <td>0</td>\n",
       "      <td>22</td>\n",
       "      <td>0</td>\n",
       "      <td>14</td>\n",
       "      <td>9</td>\n",
       "      <td>5</td>\n",
       "      <td>29</td>\n",
       "      <td>3</td>\n",
       "      <td>0</td>\n",
       "      <td>29</td>\n",
       "    </tr>\n",
       "    <tr>\n",
       "      <td>100s</td>\n",
       "      <td>1</td>\n",
       "      <td>1</td>\n",
       "      <td>1</td>\n",
       "      <td>1</td>\n",
       "      <td>1</td>\n",
       "      <td>1</td>\n",
       "      <td>1</td>\n",
       "      <td>0</td>\n",
       "      <td>0</td>\n",
       "      <td>0</td>\n",
       "      <td>0</td>\n",
       "      <td>0</td>\n",
       "      <td>0</td>\n",
       "      <td>1</td>\n",
       "      <td>0</td>\n",
       "      <td>0</td>\n",
       "      <td>1</td>\n",
       "    </tr>\n",
       "    <tr>\n",
       "      <td>10s</td>\n",
       "      <td>76</td>\n",
       "      <td>40</td>\n",
       "      <td>76</td>\n",
       "      <td>64</td>\n",
       "      <td>76</td>\n",
       "      <td>76</td>\n",
       "      <td>76</td>\n",
       "      <td>0</td>\n",
       "      <td>44</td>\n",
       "      <td>0</td>\n",
       "      <td>23</td>\n",
       "      <td>18</td>\n",
       "      <td>8</td>\n",
       "      <td>76</td>\n",
       "      <td>12</td>\n",
       "      <td>0</td>\n",
       "      <td>76</td>\n",
       "    </tr>\n",
       "    <tr>\n",
       "      <td>20s</td>\n",
       "      <td>470</td>\n",
       "      <td>316</td>\n",
       "      <td>468</td>\n",
       "      <td>391</td>\n",
       "      <td>470</td>\n",
       "      <td>470</td>\n",
       "      <td>464</td>\n",
       "      <td>0</td>\n",
       "      <td>220</td>\n",
       "      <td>6</td>\n",
       "      <td>65</td>\n",
       "      <td>90</td>\n",
       "      <td>31</td>\n",
       "      <td>470</td>\n",
       "      <td>64</td>\n",
       "      <td>0</td>\n",
       "      <td>470</td>\n",
       "    </tr>\n",
       "    <tr>\n",
       "      <td>30s</td>\n",
       "      <td>254</td>\n",
       "      <td>159</td>\n",
       "      <td>254</td>\n",
       "      <td>212</td>\n",
       "      <td>254</td>\n",
       "      <td>254</td>\n",
       "      <td>242</td>\n",
       "      <td>1</td>\n",
       "      <td>175</td>\n",
       "      <td>6</td>\n",
       "      <td>57</td>\n",
       "      <td>60</td>\n",
       "      <td>36</td>\n",
       "      <td>254</td>\n",
       "      <td>44</td>\n",
       "      <td>1</td>\n",
       "      <td>252</td>\n",
       "    </tr>\n",
       "    <tr>\n",
       "      <td>40s</td>\n",
       "      <td>309</td>\n",
       "      <td>176</td>\n",
       "      <td>309</td>\n",
       "      <td>263</td>\n",
       "      <td>309</td>\n",
       "      <td>309</td>\n",
       "      <td>301</td>\n",
       "      <td>0</td>\n",
       "      <td>211</td>\n",
       "      <td>8</td>\n",
       "      <td>88</td>\n",
       "      <td>87</td>\n",
       "      <td>47</td>\n",
       "      <td>306</td>\n",
       "      <td>37</td>\n",
       "      <td>0</td>\n",
       "      <td>306</td>\n",
       "    </tr>\n",
       "    <tr>\n",
       "      <td>50s</td>\n",
       "      <td>394</td>\n",
       "      <td>248</td>\n",
       "      <td>394</td>\n",
       "      <td>334</td>\n",
       "      <td>394</td>\n",
       "      <td>394</td>\n",
       "      <td>383</td>\n",
       "      <td>6</td>\n",
       "      <td>204</td>\n",
       "      <td>9</td>\n",
       "      <td>68</td>\n",
       "      <td>80</td>\n",
       "      <td>28</td>\n",
       "      <td>389</td>\n",
       "      <td>48</td>\n",
       "      <td>6</td>\n",
       "      <td>391</td>\n",
       "    </tr>\n",
       "    <tr>\n",
       "      <td>60s</td>\n",
       "      <td>232</td>\n",
       "      <td>128</td>\n",
       "      <td>232</td>\n",
       "      <td>198</td>\n",
       "      <td>232</td>\n",
       "      <td>232</td>\n",
       "      <td>222</td>\n",
       "      <td>5</td>\n",
       "      <td>115</td>\n",
       "      <td>5</td>\n",
       "      <td>46</td>\n",
       "      <td>35</td>\n",
       "      <td>19</td>\n",
       "      <td>231</td>\n",
       "      <td>10</td>\n",
       "      <td>7</td>\n",
       "      <td>231</td>\n",
       "    </tr>\n",
       "    <tr>\n",
       "      <td>70s</td>\n",
       "      <td>118</td>\n",
       "      <td>72</td>\n",
       "      <td>118</td>\n",
       "      <td>103</td>\n",
       "      <td>118</td>\n",
       "      <td>118</td>\n",
       "      <td>109</td>\n",
       "      <td>3</td>\n",
       "      <td>59</td>\n",
       "      <td>6</td>\n",
       "      <td>17</td>\n",
       "      <td>14</td>\n",
       "      <td>4</td>\n",
       "      <td>117</td>\n",
       "      <td>11</td>\n",
       "      <td>8</td>\n",
       "      <td>118</td>\n",
       "    </tr>\n",
       "    <tr>\n",
       "      <td>80s</td>\n",
       "      <td>85</td>\n",
       "      <td>57</td>\n",
       "      <td>85</td>\n",
       "      <td>71</td>\n",
       "      <td>85</td>\n",
       "      <td>85</td>\n",
       "      <td>78</td>\n",
       "      <td>4</td>\n",
       "      <td>21</td>\n",
       "      <td>2</td>\n",
       "      <td>9</td>\n",
       "      <td>9</td>\n",
       "      <td>4</td>\n",
       "      <td>85</td>\n",
       "      <td>2</td>\n",
       "      <td>7</td>\n",
       "      <td>85</td>\n",
       "    </tr>\n",
       "    <tr>\n",
       "      <td>90s</td>\n",
       "      <td>17</td>\n",
       "      <td>14</td>\n",
       "      <td>17</td>\n",
       "      <td>16</td>\n",
       "      <td>17</td>\n",
       "      <td>17</td>\n",
       "      <td>16</td>\n",
       "      <td>0</td>\n",
       "      <td>3</td>\n",
       "      <td>0</td>\n",
       "      <td>0</td>\n",
       "      <td>0</td>\n",
       "      <td>2</td>\n",
       "      <td>17</td>\n",
       "      <td>0</td>\n",
       "      <td>1</td>\n",
       "      <td>17</td>\n",
       "    </tr>\n",
       "  </tbody>\n",
       "</table>\n",
       "</div>"
      ],
      "text/plain": [
       "      patient_id  global_num  sex  birth_year  country  province  city  \\\n",
       "age                                                                      \n",
       "0s            29          13   29          26       29        29    29   \n",
       "100s           1           1    1           1        1         1     1   \n",
       "10s           76          40   76          64       76        76    76   \n",
       "20s          470         316  468         391      470       470   464   \n",
       "30s          254         159  254         212      254       254   242   \n",
       "40s          309         176  309         263      309       309   301   \n",
       "50s          394         248  394         334      394       394   383   \n",
       "60s          232         128  232         198      232       232   222   \n",
       "70s          118          72  118         103      118       118   109   \n",
       "80s           85          57   85          71       85        85    78   \n",
       "90s           17          14   17          16       17        17    16   \n",
       "\n",
       "      disease  infection_case  infection_order  infected_by  contact_number  \\\n",
       "age                                                                           \n",
       "0s          0              22                0           14               9   \n",
       "100s        0               0                0            0               0   \n",
       "10s         0              44                0           23              18   \n",
       "20s         0             220                6           65              90   \n",
       "30s         1             175                6           57              60   \n",
       "40s         0             211                8           88              87   \n",
       "50s         6             204                9           68              80   \n",
       "60s         5             115                5           46              35   \n",
       "70s         3              59                6           17              14   \n",
       "80s         4              21                2            9               9   \n",
       "90s         0               3                0            0               0   \n",
       "\n",
       "      symptom_onset_date  confirmed_date  released_date  deceased_date  state  \n",
       "age                                                                            \n",
       "0s                     5              29              3              0     29  \n",
       "100s                   0               1              0              0      1  \n",
       "10s                    8              76             12              0     76  \n",
       "20s                   31             470             64              0    470  \n",
       "30s                   36             254             44              1    252  \n",
       "40s                   47             306             37              0    306  \n",
       "50s                   28             389             48              6    391  \n",
       "60s                   19             231             10              7    231  \n",
       "70s                    4             117             11              8    118  \n",
       "80s                    4              85              2              7     85  \n",
       "90s                    2              17              0              1     17  "
      ]
     },
     "execution_count": 9,
     "metadata": {},
     "output_type": "execute_result"
    }
   ],
   "source": [
    "PatientInfo_data.groupby([\"age\"]).count()"
   ]
  },
  {
   "cell_type": "markdown",
   "metadata": {},
   "source": [
    "## Calculate Exact Age from Given Birth Year"
   ]
  },
  {
   "cell_type": "code",
   "execution_count": 10,
   "metadata": {},
   "outputs": [
    {
     "name": "stdout",
     "output_type": "stream",
     "text": [
      "2020\n",
      "The Year Now is  2020\n"
     ]
    }
   ],
   "source": [
    "print(pd.datetime.now().year)\n",
    "Year_Now = (pd.datetime.now().year)\n",
    "print(f\"The Year Now is \", Year_Now)"
   ]
  },
  {
   "cell_type": "code",
   "execution_count": 11,
   "metadata": {},
   "outputs": [],
   "source": [
    "Year_Now = 2020"
   ]
  },
  {
   "cell_type": "code",
   "execution_count": 12,
   "metadata": {},
   "outputs": [],
   "source": [
    "PatientInfo_data[\"Exact Age\"]=int(Year_Now)-PatientInfo_data['birth_year']"
   ]
  },
  {
   "cell_type": "code",
   "execution_count": null,
   "metadata": {},
   "outputs": [],
   "source": [
    "average_age = PatientInfo_data[\"Exact Age\"].mean()\n",
    "average_age = int(average_age)"
   ]
  },
  {
   "cell_type": "code",
   "execution_count": 23,
   "metadata": {},
   "outputs": [
    {
     "data": {
      "text/plain": [
       "2.0"
      ]
     },
     "execution_count": 23,
     "metadata": {},
     "output_type": "execute_result"
    }
   ],
   "source": [
    "condition_age =PatientInfo_data[\"Exact Age\"]>1\n",
    "PatientInfo_data[condition_age][\"Exact Age\"].min()"
   ]
  },
  {
   "cell_type": "code",
   "execution_count": 27,
   "metadata": {},
   "outputs": [
    {
     "data": {
      "text/plain": [
       "array([  0.,   1.,   2.,   3.,   5.,   6.,   7.,   8.,   9.,  10.,  11.,\n",
       "        12.,  13.,  14.,  15.,  16.,  17.,  18.,  19.,  20.,  21.,  22.,\n",
       "        23.,  24.,  25.,  26.,  27.,  28.,  29.,  30.,  31.,  32.,  33.,\n",
       "        34.,  35.,  36.,  37.,  38.,  39.,  40.,  41.,  42.,  43.,  44.,\n",
       "        45.,  46.,  47.,  48.,  49.,  50.,  51.,  52.,  53.,  54.,  55.,\n",
       "        56.,  57.,  58.,  59.,  60.,  61.,  62.,  63.,  64.,  65.,  66.,\n",
       "        67.,  68.,  69.,  70.,  71.,  72.,  73.,  74.,  75.,  76.,  77.,\n",
       "        78.,  79.,  80.,  81.,  82.,  83.,  84.,  85.,  86.,  87.,  88.,\n",
       "        89.,  90.,  91.,  92.,  93.,  94.,  95., 104.,  nan])"
      ]
     },
     "execution_count": 27,
     "metadata": {},
     "output_type": "execute_result"
    }
   ],
   "source": [
    "age_array = PatientInfo_data[\"Exact Age\"].unique()\n",
    "age_array.sort()\n",
    "age_array"
   ]
  },
  {
   "cell_type": "markdown",
   "metadata": {},
   "source": [
    "## Average Age (Exact Age) of The Patients"
   ]
  },
  {
   "cell_type": "code",
   "execution_count": null,
   "metadata": {},
   "outputs": [],
   "source": [
    "print(f\"The Average Age of the Patients :\", average_age)\n",
    "#45"
   ]
  },
  {
   "cell_type": "markdown",
   "metadata": {},
   "source": [
    "## Age (Age Bin)"
   ]
  },
  {
   "cell_type": "code",
   "execution_count": null,
   "metadata": {},
   "outputs": [],
   "source": [
    "PatientInfo_data[\"age\"]"
   ]
  },
  {
   "cell_type": "code",
   "execution_count": null,
   "metadata": {},
   "outputs": [],
   "source": [
    "Age = []\n",
    "PatientInfo_data[\"age\"].fillna(\"+0s\", inplace = True)\n",
    "\n",
    "ages = PatientInfo_data[\"age\"]  \n",
    "BeforeSymbol = PatientInfo_data[\"age\"].str.split('s').str[0]\n",
    "BeforeSymbol\n",
    "for age in BeforeSymbol:\n",
    "        Age.append(int(age))\n",
    "        \n",
    "Age\n",
    "\n",
    "PatientInfo_data[\"Age\"] = Age"
   ]
  },
  {
   "cell_type": "code",
   "execution_count": null,
   "metadata": {},
   "outputs": [],
   "source": [
    "PatientInfo_data[\"Age\"].min()"
   ]
  },
  {
   "cell_type": "code",
   "execution_count": null,
   "metadata": {},
   "outputs": [],
   "source": [
    "average_age_bin = PatientInfo_data[\"Age\"].mean()\n",
    "average_age_bin = int(average_age_bin)\n",
    "print(f\"Average Age (Age Bin) of the Patient :\", average_age_bin)\n",
    "#35"
   ]
  },
  {
   "cell_type": "code",
   "execution_count": null,
   "metadata": {},
   "outputs": [],
   "source": [
    "PatientInfo_data[\"Exact Age\"].mean()\n",
    "average_age = PatientInfo_data[\"Exact Age\"].mean()\n",
    "average_age = int(average_age)\n",
    "print(f\"The Average Age of the Patient :\", average_age)\n",
    "#45"
   ]
  },
  {
   "cell_type": "code",
   "execution_count": null,
   "metadata": {},
   "outputs": [],
   "source": [
    "# Two Numeric Columns: Exact Age and Age (Age Bin)\n",
    "PatientInfo_data.head()"
   ]
  },
  {
   "cell_type": "markdown",
   "metadata": {},
   "source": [
    "## Average Age (Male & Female Category)"
   ]
  },
  {
   "cell_type": "code",
   "execution_count": null,
   "metadata": {},
   "outputs": [],
   "source": [
    "condition_male = PatientInfo_data[\"sex\"]==\"male\"\n",
    "avg_M_age = PatientInfo_data[condition_male][\"Exact Age\"].mean()\n",
    "avg_M_age\n",
    "average_Male = int(avg_M_age)\n",
    "print(f\"Average Age of the Male Patient \", average_Male)"
   ]
  },
  {
   "cell_type": "code",
   "execution_count": null,
   "metadata": {},
   "outputs": [],
   "source": [
    "condition_female = PatientInfo_data[\"sex\"]==\"female\"\n",
    "avg_F_age = PatientInfo_data[condition_female][\"Exact Age\"].mean()\n",
    "avg_F_age\n",
    "average_Female = int(avg_F_age)\n",
    "print(f\"Average Age of the Female Patient \", average_Female)"
   ]
  },
  {
   "cell_type": "markdown",
   "metadata": {},
   "source": [
    "## Average Age of the Deceased"
   ]
  },
  {
   "cell_type": "markdown",
   "metadata": {},
   "source": [
    "## Exact Age (from Birth Year)"
   ]
  },
  {
   "cell_type": "code",
   "execution_count": null,
   "metadata": {},
   "outputs": [],
   "source": [
    "condition_deceased = (PatientInfo_data[\"state\"] ==\"deceased\")\n",
    "avg_age_deceased = PatientInfo_data[condition_deceased][\"Exact Age\"].mean()\n",
    "avg_age_deceased\n",
    "average_deceased = int(avg_age_deceased)\n",
    "print(f\"Average Age of the Deceased \", average_deceased)"
   ]
  },
  {
   "cell_type": "markdown",
   "metadata": {},
   "source": [
    "## Approximate Age from Age Bins"
   ]
  },
  {
   "cell_type": "code",
   "execution_count": null,
   "metadata": {},
   "outputs": [],
   "source": [
    "condition_deceased = (PatientInfo_data[\"state\"] ==\"deceased\")\n",
    "age_deceased = PatientInfo_data[condition_deceased][\"Age\"].mean()\n",
    "age_deceased"
   ]
  },
  {
   "cell_type": "markdown",
   "metadata": {},
   "source": [
    "## Date"
   ]
  },
  {
   "cell_type": "markdown",
   "metadata": {},
   "source": [
    "##    Days: Released Date MINUS Confirmed Date"
   ]
  },
  {
   "cell_type": "code",
   "execution_count": null,
   "metadata": {},
   "outputs": [],
   "source": [
    "# Changing format to Date IN\n",
    "PatientInfo_data[\"Date IN\"]= pd.to_datetime(PatientInfo_data[\"confirmed_date\"]) "
   ]
  },
  {
   "cell_type": "code",
   "execution_count": null,
   "metadata": {},
   "outputs": [],
   "source": [
    "# Changing format to Date OUT RELEASED\n",
    "PatientInfo_data[\"Date OUT\"]= pd.to_datetime(PatientInfo_data[\"released_date\"]) "
   ]
  },
  {
   "cell_type": "code",
   "execution_count": null,
   "metadata": {},
   "outputs": [],
   "source": [
    "# Changing format Date Deceased\n",
    "PatientInfo_data[\"Date Deceased\"]= pd.to_datetime(PatientInfo_data[\"deceased_date\"]) "
   ]
  },
  {
   "cell_type": "code",
   "execution_count": null,
   "metadata": {},
   "outputs": [],
   "source": [
    "# Changing format Symptoms Onset Date\n",
    "PatientInfo_data[\"Symptoms Onset Date\"]= pd.to_datetime(PatientInfo_data[\"symptom_onset_date\"]) "
   ]
  },
  {
   "cell_type": "markdown",
   "metadata": {},
   "source": [
    "## Calculating Days in the Hospital is tricky: Two Cases: Discharged and Deceased\n"
   ]
  },
  {
   "cell_type": "code",
   "execution_count": null,
   "metadata": {},
   "outputs": [],
   "source": [
    "condition_alive = (PatientInfo_data[\"state\"] !=\"deceased\")\n",
    "condition_deceased = (PatientInfo_data[\"state\"] ==\"deceased\")\n",
    "\n",
    "for patient in PatientInfo_data[condition_alive]:\n",
    "    Calculate_Days = PatientInfo_data[condition_alive][\"Date OUT\"] - PatientInfo_data[condition_alive][\"Date IN\"]\n",
    "    days_alive = Calculate_Days.mean()\n",
    "    total_discharged = len(PatientInfo_data[condition_alive])\n",
    "    \n",
    "for patient in PatientInfo_data[condition_deceased]:\n",
    "    Calculate_Days = PatientInfo_data[condition_deceased][\"Date Deceased\"] - PatientInfo_data[condition_deceased][\"Date IN\"]\n",
    "    days_deceased = Calculate_Days.mean()\n",
    "    total_deceased = len(PatientInfo_data[condition_deceased])\n",
    "    \n",
    "\n",
    "        \n",
    "print(f\"Average Number of Days of Patients Discharged:\", days_alive)\n",
    "print(f\"Total Count of Patients Discharged:\", total_discharged)\n",
    "print(f\"Average Number of Days of Deceased Patients:\", days_deceased)\n",
    "print(f\"Total Count of Patients Deceased:\", total_deceased)\n",
    "    "
   ]
  },
  {
   "cell_type": "code",
   "execution_count": null,
   "metadata": {},
   "outputs": [],
   "source": [
    "PatientInfo_data.dtypes"
   ]
  },
  {
   "cell_type": "markdown",
   "metadata": {},
   "source": [
    "## DataFrame for Dates, State, Age, Exact Age"
   ]
  },
  {
   "cell_type": "code",
   "execution_count": null,
   "metadata": {},
   "outputs": [],
   "source": [
    "Dates = pd.DataFrame({ \"ID\": PatientInfo_data[\"patient_id\"], \\\n",
    "                        \"Exact Age\": PatientInfo_data[\"Exact Age\"], \\\n",
    "                        \"Age\": PatientInfo_data[\"Age\"], \\\n",
    "                        \"Confirmed\": PatientInfo_data[\"Date IN\"], \\\n",
    "                        \"Released\": PatientInfo_data[\"Date OUT\"], \\\n",
    "                        \"Deceased\": PatientInfo_data[\"Date Deceased\"], \\\n",
    "                        \"Symptoms Onset\": PatientInfo_data[\"Symptoms Onset Date\"]})\n",
    "Dates"
   ]
  },
  {
   "cell_type": "markdown",
   "metadata": {},
   "source": [
    "## Gender and State Deceased"
   ]
  },
  {
   "cell_type": "code",
   "execution_count": null,
   "metadata": {},
   "outputs": [],
   "source": [
    "# MALE and DECEASED\n",
    "condition_deceased = (PatientInfo_data[\"state\"]==\"deceased\")\n",
    "condition_male = (PatientInfo_data[\"sex\"]==\"male\")\n",
    "condition_M_deceased = condition_deceased & condition_male\n",
    "\n",
    "# Males ADMITTED\n",
    "Male_in = len(PatientInfo_data[condition_male])\n",
    "\n",
    "# Males Deceased\n",
    "Male_deceased = len(PatientInfo_data[condition_M_deceased])\n",
    "\n",
    "# FEMALE\n",
    "condition_female = (PatientInfo_data[\"sex\"]==\"female\")\n",
    "condition_F_deceased = condition_deceased & condition_female\n",
    "\n",
    "Female_in = len(PatientInfo_data[condition_female])\n",
    "Female_deceased = len(PatientInfo_data[condition_F_deceased])\n",
    "\n",
    "\n",
    "gender = pd.DataFrame({\"Male\":{\"Admitted\": Male_in, \"Deceased\": Male_deceased}, \"Female\":{\"Admitted\": Female_in, \"Deceased\": Female_deceased}})\n",
    "  \n",
    "gender[\"Male\"][\"Admitted\"]\n",
    "gender[\"Female\"][\"Deceased\"]\n",
    "gender"
   ]
  },
  {
   "cell_type": "code",
   "execution_count": null,
   "metadata": {},
   "outputs": [],
   "source": [
    "PatientInfo_data[\"state\"].unique()"
   ]
  },
  {
   "cell_type": "markdown",
   "metadata": {},
   "source": [
    "## Male: Released"
   ]
  },
  {
   "cell_type": "code",
   "execution_count": null,
   "metadata": {},
   "outputs": [],
   "source": [
    "condition_male = (PatientInfo_data[\"sex\"]==\"male\")\n",
    "condition_released = (PatientInfo_data[\"state\"]==\"released\")\n",
    "condition_male_r = condition_male & condition_released\n",
    "Male_released = len(PatientInfo_data[condition_male_r])"
   ]
  },
  {
   "cell_type": "code",
   "execution_count": null,
   "metadata": {},
   "outputs": [],
   "source": [
    "avg_M_released = PatientInfo_data[condition_male_r]['Exact Age'].mean()\n",
    "avg_M_released"
   ]
  },
  {
   "cell_type": "markdown",
   "metadata": {},
   "source": [
    "## To Calculate Days in the Hospital"
   ]
  },
  {
   "cell_type": "code",
   "execution_count": null,
   "metadata": {},
   "outputs": [],
   "source": [
    "condition_male_r = condition_male & condition_released\n",
    "for date in PatientInfo_data[condition_male_r]:\n",
    "    Calculate_Days = PatientInfo_data[condition_male_r][\"Date OUT\"] - PatientInfo_data[condition_male_r][\"Date IN\"]\n",
    "\n",
    "Calculate_Days.mean()"
   ]
  },
  {
   "cell_type": "code",
   "execution_count": null,
   "metadata": {},
   "outputs": [],
   "source": [
    "avg_M_days = Calculate_Days.mean()\n",
    "avg_M_days"
   ]
  },
  {
   "cell_type": "markdown",
   "metadata": {},
   "source": [
    "## Female: Released"
   ]
  },
  {
   "cell_type": "code",
   "execution_count": null,
   "metadata": {},
   "outputs": [],
   "source": [
    "condition_female = (PatientInfo_data[\"sex\"]==\"female\")\n",
    "condition_released = (PatientInfo_data[\"state\"]==\"released\")\n",
    "condition_female_r = condition_female & condition_released\n",
    "Female_released = len(PatientInfo_data[condition_female_r])"
   ]
  },
  {
   "cell_type": "code",
   "execution_count": null,
   "metadata": {},
   "outputs": [],
   "source": [
    "avg_F_released = PatientInfo_data[condition_female_r]['Exact Age'].mean()\n",
    "avg_F_released"
   ]
  },
  {
   "cell_type": "markdown",
   "metadata": {},
   "source": [
    "## To Calculate Days in the Hospital"
   ]
  },
  {
   "cell_type": "code",
   "execution_count": null,
   "metadata": {},
   "outputs": [],
   "source": [
    "condition_female_r = condition_female & condition_released\n",
    "for date in PatientInfo_data[condition_female_r]:\n",
    "    Calculate_Days = PatientInfo_data[condition_female_r][\"Date OUT\"] - PatientInfo_data[condition_female_r][\"Date IN\"]\n",
    "\n",
    "Calculate_Days.mean()"
   ]
  },
  {
   "cell_type": "code",
   "execution_count": null,
   "metadata": {},
   "outputs": [],
   "source": [
    "avg_F_days = Calculate_Days.mean()\n",
    "avg_F_days"
   ]
  },
  {
   "cell_type": "markdown",
   "metadata": {},
   "source": [
    "## Male: Isolated"
   ]
  },
  {
   "cell_type": "code",
   "execution_count": null,
   "metadata": {},
   "outputs": [],
   "source": [
    "condition_male = (PatientInfo_data[\"sex\"]==\"male\")\n",
    "condition_isolated = (PatientInfo_data[\"state\"]==\"isolated\")\n",
    "condition_male_i = condition_male & condition_isolated\n",
    "Male_isolated = len(PatientInfo_data[condition_male_i])"
   ]
  },
  {
   "cell_type": "code",
   "execution_count": null,
   "metadata": {},
   "outputs": [],
   "source": [
    "avg_M_isolated = PatientInfo_data[condition_male_i]['Exact Age'].mean()\n",
    "avg_M_isolated"
   ]
  },
  {
   "cell_type": "markdown",
   "metadata": {},
   "source": [
    "## To Calculate Days in the Hospital"
   ]
  },
  {
   "cell_type": "code",
   "execution_count": null,
   "metadata": {},
   "outputs": [],
   "source": [
    "condition_male_i = condition_male & condition_isolated\n",
    "for date in PatientInfo_data[condition_male_i]:\n",
    "    Calculate_Days = PatientInfo_data[condition_male_i][\"Date OUT\"] - PatientInfo_data[condition_male_i][\"Date IN\"]\n",
    "\n",
    "Calculate_Days.mean()"
   ]
  },
  {
   "cell_type": "code",
   "execution_count": null,
   "metadata": {},
   "outputs": [],
   "source": [
    "avg_M_days_i = Calculate_Days.mean()\n",
    "avg_M_days_i"
   ]
  },
  {
   "cell_type": "markdown",
   "metadata": {},
   "source": [
    "## Female Isolated"
   ]
  },
  {
   "cell_type": "code",
   "execution_count": null,
   "metadata": {},
   "outputs": [],
   "source": [
    "condition_female = (PatientInfo_data[\"sex\"]==\"female\")\n",
    "condition_isolated = (PatientInfo_data[\"state\"]==\"isolated\")\n",
    "condition_female_i = condition_female & condition_isolated\n",
    "Female_isolated = len(PatientInfo_data[condition_female_i])"
   ]
  },
  {
   "cell_type": "code",
   "execution_count": null,
   "metadata": {},
   "outputs": [],
   "source": [
    "avg_F_isolated = PatientInfo_data[condition_female_i]['Exact Age'].mean()\n",
    "avg_F_isolated"
   ]
  },
  {
   "cell_type": "markdown",
   "metadata": {},
   "source": [
    "## To Calculate Days in the Hospital"
   ]
  },
  {
   "cell_type": "code",
   "execution_count": null,
   "metadata": {},
   "outputs": [],
   "source": [
    "condition_female_i = condition_female & condition_isolated\n",
    "for date in PatientInfo_data[condition_female_i]:\n",
    "    Calculate_Days = PatientInfo_data[condition_female_i][\"Date OUT\"] - PatientInfo_data[condition_female_i][\"Date IN\"]\n",
    "\n",
    "Calculate_Days.mean()"
   ]
  },
  {
   "cell_type": "code",
   "execution_count": null,
   "metadata": {},
   "outputs": [],
   "source": [
    "avg_M_days_i = Calculate_Days.mean()\n",
    "avg_M_days_i"
   ]
  },
  {
   "cell_type": "markdown",
   "metadata": {},
   "source": [
    "## Male Deceased"
   ]
  },
  {
   "cell_type": "code",
   "execution_count": null,
   "metadata": {},
   "outputs": [],
   "source": [
    "# MALE and DECEASED\n",
    "condition_deceased = (PatientInfo_data[\"state\"]==\"deceased\")\n",
    "condition_male = (PatientInfo_data[\"sex\"]==\"male\")\n",
    "condition_M_deceased = condition_deceased & condition_male\n",
    "\n",
    "# Males ADMITTED\n",
    "Male_in = len(PatientInfo_data[condition_male])\n",
    "\n",
    "# Males Deceased\n",
    "Male_deceased = len(PatientInfo_data[condition_M_deceased])"
   ]
  },
  {
   "cell_type": "code",
   "execution_count": null,
   "metadata": {},
   "outputs": [],
   "source": [
    "condition_male_d = condition_male & condition_deceased\n",
    "for date in PatientInfo_data[condition_male_d]:\n",
    "    Calculate_Days = PatientInfo_data[condition_male_d][\"Date Deceased\"] - PatientInfo_data[condition_male_d][\"Date IN\"]\n",
    "\n",
    "Calculate_Days.mean()"
   ]
  },
  {
   "cell_type": "code",
   "execution_count": null,
   "metadata": {},
   "outputs": [],
   "source": [
    "avg_M_deceased = PatientInfo_data[condition_M_deceased]['Exact Age'].mean()\n",
    "avg_M_deceased"
   ]
  },
  {
   "cell_type": "code",
   "execution_count": null,
   "metadata": {},
   "outputs": [],
   "source": [
    "avg_M_days = Calculate_Days.mean()\n",
    "avg_M_days"
   ]
  },
  {
   "cell_type": "markdown",
   "metadata": {},
   "source": [
    "## Female Deceased"
   ]
  },
  {
   "cell_type": "code",
   "execution_count": null,
   "metadata": {},
   "outputs": [],
   "source": [
    "# FEMALE\n",
    "condition_female = (PatientInfo_data[\"sex\"]==\"female\")\n",
    "condition_F_deceased = condition_deceased & condition_female\n",
    "\n",
    "Female_in = len(PatientInfo_data[condition_female])\n",
    "Female_deceased = len(PatientInfo_data[condition_F_deceased])"
   ]
  },
  {
   "cell_type": "code",
   "execution_count": null,
   "metadata": {},
   "outputs": [],
   "source": [
    "avg_F_deceased = PatientInfo_data[condition_F_deceased]['Exact Age'].mean()\n",
    "avg_F_deceased"
   ]
  },
  {
   "cell_type": "code",
   "execution_count": null,
   "metadata": {},
   "outputs": [],
   "source": [
    "condition_F_deceased = condition_deceased & condition_female\n",
    "for date in PatientInfo_data[condition_F_deceased]:\n",
    "    Calculate_Days = PatientInfo_data[condition_F_deceased][\"Date Deceased\"] - PatientInfo_data[condition_F_deceased][\"Date IN\"]\n",
    "\n",
    "Calculate_Days.mean()"
   ]
  },
  {
   "cell_type": "code",
   "execution_count": null,
   "metadata": {},
   "outputs": [],
   "source": [
    "avg_F_days = Calculate_Days.mean()\n",
    "avg_F_days"
   ]
  },
  {
   "cell_type": "markdown",
   "metadata": {},
   "source": [
    "## State = nan"
   ]
  },
  {
   "cell_type": "code",
   "execution_count": null,
   "metadata": {},
   "outputs": [],
   "source": [
    "Male_nan = Male_in - (Male_released + Male_isolated + Male_deceased)\n",
    "Female_nan =  Female_in - (Female_released + Female_isolated + Female_deceased)"
   ]
  },
  {
   "cell_type": "markdown",
   "metadata": {},
   "source": [
    "## Restructure gender DataFrame"
   ]
  },
  {
   "cell_type": "code",
   "execution_count": null,
   "metadata": {},
   "outputs": [],
   "source": [
    "Gender = pd.DataFrame({\"Male\":{\"Admitted\": Male_in, \"Released\": Male_released, \"Isolated\": Male_isolated, \"Deceased\": Male_deceased, \"State nan\": Male_nan}, \\\n",
    "                       \"Female\":{\"Admitted\": Female_in, \"Released\": Female_released, \"Isolated\": Female_isolated, \"Deceased\": Female_deceased, \"State nan\": Female_nan}})"
   ]
  },
  {
   "cell_type": "code",
   "execution_count": null,
   "metadata": {},
   "outputs": [],
   "source": [
    "Gender "
   ]
  },
  {
   "cell_type": "code",
   "execution_count": null,
   "metadata": {},
   "outputs": [],
   "source": [
    "Gender[\"Male\"]"
   ]
  },
  {
   "cell_type": "code",
   "execution_count": null,
   "metadata": {},
   "outputs": [],
   "source": [
    "Male_Percent = Gender[\"Male\"][\"Deceased\"]/Gender[\"Male\"][\"Admitted\"]*100\n",
    "Male_Percent"
   ]
  },
  {
   "cell_type": "raw",
   "metadata": {},
   "source": [
    "Male_Percent = Gender[\"Male\"][\"Released\"]/Gender[\"Male\"][\"Admitted\"]*100\n",
    "Male_Percent"
   ]
  },
  {
   "cell_type": "code",
   "execution_count": null,
   "metadata": {},
   "outputs": [],
   "source": [
    "labels = ['Admitted', 'Released', 'Isolated', 'Deceased', 'NaN']\n",
    "men_means = Gender[\"Male\"]\n",
    "women_means = Gender[\"Female\"]\n",
    "\n",
    "x = np.arange(len(labels))  # the label locations\n",
    "width = 0.35  # the width of the bars\n",
    "\n",
    "fig, ax = plt.subplots()\n",
    "rects1 = ax.bar(x - width/2, men_means, width, label='Men')\n",
    "rects2 = ax.bar(x + width/2, women_means, width, label='Women', color='r')\n",
    "\n",
    "# Add some text for labels, title and custom x-axis tick labels, etc.\n",
    "ax.set_ylabel('COUNT')\n",
    "ax.set_title('Count for Patients of COVID 19, South Korea')\n",
    "ax.set_xticks(x)\n",
    "ax.set_xticklabels(labels)\n",
    "ax.legend()\n",
    "\n",
    "\n",
    "def autolabel(rects):\n",
    "#    \"\"\"Attach a text label above each bar in *rects*, displaying its height.\"\"\"\n",
    "    for rect in rects:\n",
    "        height = rect.get_height()\n",
    "        ax.annotate('{}'.format(height),\n",
    "                    xy=(rect.get_x() + rect.get_width() / 2, height),\n",
    "                    xytext=(0, 3),  # 3 points vertical offset\n",
    "                    textcoords=\"offset points\",\n",
    "                    ha='center', va='bottom')\n",
    "\n",
    "\n",
    "autolabel(rects1)\n",
    "autolabel(rects2)\n",
    "\n",
    "fig.tight_layout()\n",
    "\n",
    "plt.show()\n",
    "fig.savefig('Count_Bar.pdf', dpi=300)"
   ]
  },
  {
   "cell_type": "code",
   "execution_count": null,
   "metadata": {},
   "outputs": [],
   "source": [
    "\n",
    "labels = ['Admitted', 'Released', 'Isolated', 'Deceased', 'NaN']\n",
    "men_means = [937, 136, 736, 22, 43]\n",
    "women_means = [1210, 176, 972, 9, 53]\n",
    "\n",
    "x = np.arange(len(labels))  # the label locations\n",
    "width = 0.35  # the width of the bars\n",
    "\n",
    "fig, ax = plt.subplots()\n",
    "rects1 = ax.bar(x - width/2, men_means, width, label='Men')\n",
    "rects2 = ax.bar(x + width/2, women_means, width, label='Women', color='r')\n",
    "\n",
    "# Add some text for labels, title and custom x-axis tick labels, etc.\n",
    "ax.set_ylabel('COUNT')\n",
    "ax.set_title('Count for Patients of COVID 19, South Korea')\n",
    "ax.set_xticks(x)\n",
    "ax.set_xticklabels(labels)\n",
    "ax.legend()\n",
    "\n",
    "\n",
    "def autolabel(rects):\n",
    "#    \"\"\"Attach a text label above each bar in *rects*, displaying its height.\"\"\"\n",
    "    for rect in rects:\n",
    "        height = rect.get_height()\n",
    "        ax.annotate('{}'.format(height),\n",
    "                    xy=(rect.get_x() + rect.get_width() / 2, height),\n",
    "                    xytext=(0, 3),  # 3 points vertical offset\n",
    "                    textcoords=\"offset points\",\n",
    "                    ha='center', va='bottom')\n",
    "\n",
    "\n",
    "autolabel(rects1)\n",
    "autolabel(rects2)\n",
    "\n",
    "fig.tight_layout()\n",
    "\n",
    "plt.show()"
   ]
  },
  {
   "cell_type": "code",
   "execution_count": null,
   "metadata": {},
   "outputs": [],
   "source": [
    "M_age_A=int(avg_M_age)\n",
    "M_age_R=int(avg_M_released)\n",
    "M_age_I=int(avg_M_isolated)\n",
    "M_age_D=int(avg_M_deceased)\n",
    "\n",
    "F_age_A=int(avg_F_age)\n",
    "F_age_R=int(avg_F_released)\n",
    "F_age_I=int(avg_F_isolated)\n",
    "F_age_D=int(avg_F_deceased)"
   ]
  },
  {
   "cell_type": "code",
   "execution_count": null,
   "metadata": {},
   "outputs": [],
   "source": [
    "Gender_Age = pd.DataFrame({\"Male\":{\"A\": M_age_A, \"R\": M_age_R, \"I\": M_age_I, \"D\": M_age_D} ,\\\n",
    "                          \"Female\":{\"A\": F_age_A, \"R\": F_age_R, \"I\": F_age_I, \"D\": F_age_D} \n",
    "                          })"
   ]
  },
  {
   "cell_type": "code",
   "execution_count": null,
   "metadata": {},
   "outputs": [],
   "source": [
    "G = Gender_Age"
   ]
  },
  {
   "cell_type": "code",
   "execution_count": null,
   "metadata": {},
   "outputs": [],
   "source": [
    "G"
   ]
  },
  {
   "cell_type": "code",
   "execution_count": null,
   "metadata": {},
   "outputs": [],
   "source": [
    "G['Male']\n"
   ]
  },
  {
   "cell_type": "code",
   "execution_count": null,
   "metadata": {},
   "outputs": [],
   "source": [
    "\n",
    "\n",
    "labels = ['Admitted', 'Released', 'Isolated', 'Deceased']\n",
    "men_means = G[\"Male\"]\n",
    "women_means = G[\"Female\"]\n",
    "\n",
    "x = np.arange(len(labels))  # the label locations\n",
    "width = 0.35  # the width of the bars\n",
    "\n",
    "fig, ax = plt.subplots()\n",
    "rects1 = ax.bar(x - width/2, men_means, width, label='Men', color='blue')\n",
    "rects2 = ax.bar(x + width/2, women_means, width, label='Women', color='pink')\n",
    "\n",
    "# Add some text for labels, title and custom x-axis tick labels, etc.\n",
    "ax.set_ylabel('AVERAGE AGE')\n",
    "ax.set_title('AVERAGE AGE of Patients of COVID 19, South Korea')\n",
    "ax.set_xticks(x)\n",
    "ax.set_xticklabels(labels)\n",
    "ax.legend()\n",
    "\n",
    "\n",
    "def autolabel(rects):\n",
    "#    \"\"\"Attach a text label above each bar in *rects*, displaying its height.\"\"\"\n",
    "    for rect in rects:\n",
    "        height = rect.get_height()\n",
    "        ax.annotate('{}'.format(height),\n",
    "                    xy=(rect.get_x() + rect.get_width() / 2, height),\n",
    "                    xytext=(0, 3),  # 3 points vertical offset\n",
    "                    textcoords=\"offset points\",\n",
    "                    ha='center', va='bottom')\n",
    "\n",
    "\n",
    "autolabel(rects1)\n",
    "autolabel(rects2)\n",
    "\n",
    "fig.tight_layout()\n",
    "\n",
    "plt.show()\n",
    "fig.savefig('AverageAge_Bar.pdf', dpi=300)"
   ]
  },
  {
   "cell_type": "markdown",
   "metadata": {},
   "source": [
    "## Reason for Infection"
   ]
  },
  {
   "cell_type": "code",
   "execution_count": null,
   "metadata": {},
   "outputs": [],
   "source": [
    "PatientInfo_data[\"infection_case\"].unique()"
   ]
  },
  {
   "cell_type": "code",
   "execution_count": null,
   "metadata": {},
   "outputs": [],
   "source": [
    "for case in PatientInfo_data[\"infection_case\"]:\n",
    "    print(case)"
   ]
  },
  {
   "cell_type": "code",
   "execution_count": null,
   "metadata": {},
   "outputs": [],
   "source": [
    "Name_Changers = {'overseas inflow': \"Overseas Inflow\", \\\n",
    "                'contact with patient': 'Contact with Patient', \\\n",
    "                'Seongdong-gu APT': 'Seongdong-gu APT', \\\n",
    "                'River of Grace Community Church': 'Grace Community Church', \\\n",
    "                'gym facility in Sejong': 'Gym Sejong', \\\n",
    "                \"Eunpyeong St. Mary's Hospital\":\"St. Mary's Hospital\", \\\n",
    "                 \"Ministry of Oceans and Fisheries\": \"Oceans and Fisheries\", \\\n",
    "                \"etc\": \"Other\", \\\n",
    "                'Guro-gu Call Center':'Call Center'}"
   ]
  },
  {
   "cell_type": "code",
   "execution_count": null,
   "metadata": {},
   "outputs": [],
   "source": [
    "PatientInfo_data[\"infection_case\"].replace(Name_Changers, inplace=True)"
   ]
  },
  {
   "cell_type": "code",
   "execution_count": null,
   "metadata": {},
   "outputs": [],
   "source": [
    "PatientInfo_data[\"infection_case\"].unique()"
   ]
  },
  {
   "cell_type": "code",
   "execution_count": null,
   "metadata": {},
   "outputs": [],
   "source": [
    "plt.figure(figsize=(15,5))\n",
    "plt.title('Infection Reason of the Deceased')\n",
    "PatientInfo_data[\"infection_case\"].value_counts().plot.barh(color='r');\n",
    "plt.savefig('Infection_Reason.pdf')"
   ]
  },
  {
   "cell_type": "code",
   "execution_count": null,
   "metadata": {},
   "outputs": [],
   "source": [
    "PatientInfo_data.head()"
   ]
  },
  {
   "cell_type": "markdown",
   "metadata": {},
   "source": [
    "## Age"
   ]
  },
  {
   "cell_type": "code",
   "execution_count": null,
   "metadata": {},
   "outputs": [],
   "source": [
    "admitted_daily = PatientInfo_data.groupby(\"Date IN\")[\"Age\"].mean()\n",
    "\n",
    "admitted_mean = admitted_daily.mean()\n",
    "admitted_daily.plot.area(grid=True, color='cyan')\n",
    "plt.title('Daily Average Age of All Admitted Cases in South Korea')\n",
    "\n"
   ]
  },
  {
   "cell_type": "markdown",
   "metadata": {},
   "source": [
    "## Daily Average Age of the Deceased"
   ]
  },
  {
   "cell_type": "code",
   "execution_count": null,
   "metadata": {},
   "outputs": [],
   "source": [
    "Dates\n",
    "deceased_daily = Dates.groupby(Dates[\"Deceased\"])[\"Age\"].mean()"
   ]
  },
  {
   "cell_type": "code",
   "execution_count": null,
   "metadata": {},
   "outputs": [],
   "source": [
    "deceased_daily = Dates.groupby(Dates[\"Deceased\"])[\"Exact Age\"].mean()\n",
    "print(f\"Daily Average Age of Deceased Cases in South Korea\", deceased_daily)\n",
    "deceased_mean = deceased_daily.mean()\n",
    "print(f\"Average Age of Deceased Cases in South Korea\", deceased_mean)\n"
   ]
  },
  {
   "cell_type": "markdown",
   "metadata": {},
   "source": [
    "## The Average Age of the Deceased \n"
   ]
  },
  {
   "cell_type": "code",
   "execution_count": null,
   "metadata": {},
   "outputs": [],
   "source": [
    "deceased_mean\n",
    "avg_age_deceased"
   ]
  },
  {
   "cell_type": "code",
   "execution_count": null,
   "metadata": {},
   "outputs": [],
   "source": [
    "deceased_daily.plot.area(grid=True, color='r')\n",
    "plt.title('Daily Average Age of Deceased Cases in South Korea')"
   ]
  },
  {
   "cell_type": "code",
   "execution_count": null,
   "metadata": {},
   "outputs": [],
   "source": [
    "deceased_daily.plot(grid=True, color='r')\n",
    "plt.title('Daily Average Age of Deceased Cases in South Korea')"
   ]
  },
  {
   "cell_type": "markdown",
   "metadata": {},
   "source": [
    "## Daily Average Age of the Confirmed"
   ]
  },
  {
   "cell_type": "code",
   "execution_count": null,
   "metadata": {},
   "outputs": [],
   "source": [
    "confirmed_daily = Dates.groupby(Dates[\"Confirmed\"])[\"Exact Age\"].mean()\n",
    "confirmed_mean = confirmed_daily.mean()\n",
    "#print(f\"Daily Average Age of Confirmed Cases in South Korea\", confirmed_daily)\n",
    "print(f\"Average Age of Confirmed Cases in South Korea\", confirmed_mean)"
   ]
  },
  {
   "cell_type": "code",
   "execution_count": null,
   "metadata": {},
   "outputs": [],
   "source": [
    "confirmed_daily.plot.area(grid=True, color='b')\n",
    "plt.title('Daily Average Age of Confirmed Cases in South Korea')"
   ]
  },
  {
   "cell_type": "code",
   "execution_count": null,
   "metadata": {},
   "outputs": [],
   "source": [
    "released_daily = Dates.groupby(Dates[\"Released\"])[\"Exact Age\"].mean()\n",
    "released_mean = released_daily.mean()\n",
    "#print(f\"Daily Average Age of Released Cases in South Korea\", released_daily)\n",
    "print(f\"Average Age of Released Cases in South Korea\", released_mean)"
   ]
  },
  {
   "cell_type": "code",
   "execution_count": null,
   "metadata": {},
   "outputs": [],
   "source": [
    "released_daily.plot.area(grid=True, color='g')\n",
    "plt.title('Daily Average Age of Released Cases in South Korea')"
   ]
  },
  {
   "cell_type": "code",
   "execution_count": null,
   "metadata": {},
   "outputs": [],
   "source": [
    "COVID_Days = pd.DataFrame({\"Deceased\": deceased_daily, \"Confirmed\": confirmed_daily, \"Released\": released_daily})\n",
    "#COVID_Days"
   ]
  },
  {
   "cell_type": "code",
   "execution_count": null,
   "metadata": {},
   "outputs": [],
   "source": [
    "COVID_Days.plot.area(stacked=False);\n",
    "\n"
   ]
  },
  {
   "cell_type": "code",
   "execution_count": null,
   "metadata": {},
   "outputs": [],
   "source": [
    "admitted = COVID_Days.mean()\n",
    "print(f\"Average Age of COVID 19 Cases in South Korea\", admitted)\n",
    "admitted_mean = admitted.mean()\n",
    "print(f\"Average Age of COVID 19 Cases in South Korea\", admitted_mean)\n",
    "admitted.plot(grid=True, color='red', marker='o', ms=20)\n",
    "plt.title('Average Age of COVID 19 Cases in South Korea')\n",
    "plt.ylim(0, 100)\n",
    "plt.xlim(-1, 3)\n",
    "plt.savefig('AverageAges.pdf')\n",
    "admitted\n",
    "\n"
   ]
  },
  {
   "cell_type": "code",
   "execution_count": null,
   "metadata": {},
   "outputs": [],
   "source": [
    "import matplotlib.pyplot as plt\n",
    "cm = plt.cm.get_cmap('RdYlBu')\n",
    "xy = range(3)\n",
    "z = admitted\n",
    "sc = plt.scatter(admitted, admitted, c=z, vmin=40, vmax=75, s=50, cmap=cm)\n",
    "plt.colorbar(sc)\n",
    "plt.show()"
   ]
  },
  {
   "cell_type": "markdown",
   "metadata": {},
   "source": [
    "## Accumulated Confirmed Count"
   ]
  },
  {
   "cell_type": "code",
   "execution_count": null,
   "metadata": {},
   "outputs": [],
   "source": [
    "daily_count = Dates.groupby(Dates[\"Confirmed\"])[\"ID\"].count()\n",
    "accumulated_count = daily_count.cumsum()"
   ]
  },
  {
   "cell_type": "code",
   "execution_count": null,
   "metadata": {},
   "outputs": [],
   "source": [
    "accumulated_count.plot(grid=True, color='b')\n",
    "plt.title('Accumulated Confirmed Count')"
   ]
  },
  {
   "cell_type": "markdown",
   "metadata": {},
   "source": [
    "## Accumulated Deceased Count"
   ]
  },
  {
   "cell_type": "code",
   "execution_count": null,
   "metadata": {},
   "outputs": [],
   "source": [
    "deceased_count = Dates.groupby(Dates[\"Deceased\"])[\"ID\"].count()\n",
    "deceased_count = deceased_count.cumsum()"
   ]
  },
  {
   "cell_type": "code",
   "execution_count": null,
   "metadata": {},
   "outputs": [],
   "source": [
    "deceased_count.plot(grid=True, color='r')\n",
    "plt.title('Accumulated Deceased Count')"
   ]
  },
  {
   "cell_type": "markdown",
   "metadata": {},
   "source": [
    "## Accumulated Released Count"
   ]
  },
  {
   "cell_type": "code",
   "execution_count": null,
   "metadata": {},
   "outputs": [],
   "source": [
    "released_count = Dates.groupby(Dates[\"Released\"])[\"ID\"].count()\n",
    "released_count = released_count.cumsum()\n",
    "released_count.plot(grid=\"True\", color='g')\n",
    "plt.title('Accumulated Released Count')"
   ]
  },
  {
   "cell_type": "markdown",
   "metadata": {},
   "source": [
    "## Understanding This Graph!!!!!"
   ]
  },
  {
   "cell_type": "code",
   "execution_count": null,
   "metadata": {},
   "outputs": [],
   "source": [
    "plt.figure(figsize=(10,6))\n",
    "sns.set_style(\"whitegrid\")\n",
    "plt.title(\"Accumulated Graphs\")\n",
    "sns.kdeplot(data=released_count, label=\"Released\", shade=True, color='green')\n",
    "sns.kdeplot(data=deceased_count,label=\"Deceased\" ,shade=True, color='red')\n",
    "sns.kdeplot(data=accumulated_count,label=\"Accumulated\" ,shade=True, color='blue')"
   ]
  },
  {
   "cell_type": "markdown",
   "metadata": {},
   "source": [
    "## New File PatientRoute"
   ]
  },
  {
   "cell_type": "code",
   "execution_count": null,
   "metadata": {},
   "outputs": [],
   "source": [
    "PatientRoute.head()"
   ]
  },
  {
   "cell_type": "code",
   "execution_count": null,
   "metadata": {},
   "outputs": [],
   "source": [
    "PatientRoute.groupby(\"patient_id\").count()"
   ]
  },
  {
   "cell_type": "code",
   "execution_count": null,
   "metadata": {},
   "outputs": [],
   "source": [
    "max_movement = PatientRoute.groupby(\"patient_id\").count().max()\n",
    "print(f\"Maximum Movement \", max_movement)\n"
   ]
  },
  {
   "cell_type": "markdown",
   "metadata": {},
   "source": [
    "## Released DataFrame"
   ]
  },
  {
   "cell_type": "code",
   "execution_count": null,
   "metadata": {},
   "outputs": [],
   "source": [
    "condition_released= (PatientInfo_data[\"state\"]==\"released\")\n",
    "PatientInfo_data[condition_released][\"Date IN\"]"
   ]
  },
  {
   "cell_type": "code",
   "execution_count": null,
   "metadata": {},
   "outputs": [],
   "source": [
    "for patient in PatientInfo_data[condition_released]:\n",
    "    Calculate_Days = PatientInfo_data[condition_released][\"Date OUT\"] - PatientInfo_data[condition_released][\"Date IN\"]\n",
    "    \n",
    "    Released = pd.DataFrame({\"Patient ID\":PatientInfo_data[condition_released][\"patient_id\"] ,\\\n",
    "                         #\"Symptoms Onset Date\":PatientInfo_data[condition_deceased][\"Symptoms Onset Date\"], \\\n",
    "                         \"Date IN\":PatientInfo_data[condition_released][\"Date IN\"] , \\\n",
    "                         \"Date OUT\":PatientInfo_data[condition_released][\"Date OUT\"] ,\\\n",
    "                         \"Days\": Calculate_Days,\\\n",
    "                         \"Exact Age\":PatientInfo_data[condition_released][\"Exact Age\"], \\\n",
    "                         \"Age\":PatientInfo_data[condition_released][\"Age\"], \\\n",
    "                         \"Sex\":PatientInfo_data[condition_released][\"sex\"] })\n",
    "\n",
    "# Released DataFrame\n",
    "len(Released)"
   ]
  },
  {
   "cell_type": "markdown",
   "metadata": {},
   "source": [
    "## The vertical or y-axis of a KDE plot represents the Kernel Density Estimate of the Probability Density Function of a random variable, which is interpreted as a probability differential. The probability of a value being between the points x1 and x2 is the total shaded area of the curve under the two points."
   ]
  },
  {
   "cell_type": "code",
   "execution_count": null,
   "metadata": {},
   "outputs": [],
   "source": [
    "#Age distribution of the Released\n",
    "plt.figure(figsize=(10,6))\n",
    "sns.set_style(\"whitegrid\")\n",
    "plt.title(\"Age distribution of the Released\")\n",
    "sns.kdeplot(data=Released[\"Age\"], shade=True, color='green', cut=(0))"
   ]
  },
  {
   "cell_type": "markdown",
   "metadata": {},
   "source": [
    "## Isolated DataFrame"
   ]
  },
  {
   "cell_type": "code",
   "execution_count": null,
   "metadata": {},
   "outputs": [],
   "source": [
    "condition_isolated= (PatientInfo_data[\"state\"]==\"isolated\")\n",
    "PatientInfo_data[condition_isolated][\"Date IN\"]"
   ]
  },
  {
   "cell_type": "code",
   "execution_count": null,
   "metadata": {},
   "outputs": [],
   "source": [
    "for patient in PatientInfo_data[condition_isolated]:\n",
    "    #Calculate_Days = PatientInfo_data[condition_deceased][\"Date Deceased\"] - PatientInfo_data[condition_deceased][\"Date IN\"]\n",
    "    \n",
    "    Isolated = pd.DataFrame({\"Patient ID\":PatientInfo_data[condition_isolated][\"patient_id\"] ,\\\n",
    "                         \"Symptoms Onset Date\":PatientInfo_data[condition_isolated][\"Symptoms Onset Date\"], \\\n",
    "                         \"Date IN\":PatientInfo_data[condition_isolated][\"Date IN\"] , \\\n",
    "                         #\"Date Deceased\":PatientInfo_data[condition_deceased][\"Date Deceased\"] ,\\\n",
    "                         #\"Days\": Calculate_Days,\\\n",
    "                         \"Exact Age\":PatientInfo_data[condition_isolated][\"Exact Age\"], \\\n",
    "                             \"Age\":PatientInfo_data[condition_isolated][\"Age\"], \\\n",
    "                         \"Sex\":PatientInfo_data[condition_isolated][\"sex\"] })\n",
    "\n",
    "# Isolated DataFrame\n",
    "len(Isolated)"
   ]
  },
  {
   "cell_type": "code",
   "execution_count": null,
   "metadata": {},
   "outputs": [],
   "source": [
    "#Age distribution of the Isolated\n",
    "plt.figure(figsize=(10,6))\n",
    "sns.set_style(\"whitegrid\")\n",
    "plt.title(\"Age distribution of the Isolated\")\n",
    "sns.kdeplot(data=Isolated[\"Age\"], shade=True, color='cyan', cut=0)"
   ]
  },
  {
   "cell_type": "code",
   "execution_count": null,
   "metadata": {},
   "outputs": [],
   "source": [
    "condition_male = (Isolated[\"Sex\"]==\"male\")\n",
    "Isolated[condition_male]\n",
    "Isolated_male = Isolated[condition_male][\"Age\"]\n",
    "data=Isolated_male\n",
    "#Age distribution of the deceased\n",
    "plt.figure(figsize=(10,6))\n",
    "sns.set_style(\"whitegrid\")\n",
    "plt.title(\"Age distribution of the Isolated Male\")\n",
    "sns.kdeplot(data, shade=True, color='blue', cut=0)"
   ]
  },
  {
   "cell_type": "code",
   "execution_count": null,
   "metadata": {},
   "outputs": [],
   "source": [
    "condition_female = (Isolated[\"Sex\"]==\"female\")\n",
    "Isolated[condition_female]\n",
    "Isolated_female = Isolated[condition_female][\"Age\"]\n",
    "data=Isolated_female\n",
    "#Age distribution of the deceased\n",
    "plt.figure(figsize=(10,6))\n",
    "sns.set_style(\"whitegrid\")\n",
    "plt.title(\"Age distribution of the Isolated Female\")\n",
    "sns.kdeplot(data, shade=True, color='magenta', cut=0)"
   ]
  },
  {
   "cell_type": "code",
   "execution_count": null,
   "metadata": {},
   "outputs": [],
   "source": [
    "plt.figure(figsize=(10,6))\n",
    "sns.set_style(\"whitegrid\")\n",
    "plt.title(\"Age distribution of the Isolated by Gender\")\n",
    "sns.kdeplot(data=Isolated_female, label=\"Women\", shade=True, color='magenta', cut=0.002)\n",
    "sns.kdeplot(data=Isolated_male,label=\"Male\" ,shade=True, color='cyan', cut=0.002)"
   ]
  },
  {
   "cell_type": "markdown",
   "metadata": {},
   "source": [
    "## Deceased DataFrame"
   ]
  },
  {
   "cell_type": "code",
   "execution_count": null,
   "metadata": {},
   "outputs": [],
   "source": [
    "condition_deceased= (PatientInfo_data[\"state\"]==\"deceased\")\n",
    "#PatientInfo_data[condition_deceased][\"Date IN\"]"
   ]
  },
  {
   "cell_type": "code",
   "execution_count": null,
   "metadata": {},
   "outputs": [],
   "source": [
    "for patient in PatientInfo_data[condition_deceased]:\n",
    "    Calculate_Days = PatientInfo_data[condition_deceased][\"Date Deceased\"] - PatientInfo_data[condition_deceased][\"Date IN\"]\n",
    "    \n",
    "    Deceased = pd.DataFrame({\"Patient ID\":PatientInfo_data[condition_deceased][\"patient_id\"] ,\\\n",
    "                         \"Symptoms Onset Date\":PatientInfo_data[condition_deceased][\"Symptoms Onset Date\"], \\\n",
    "                         \"Date IN\":PatientInfo_data[condition_deceased][\"Date IN\"] , \\\n",
    "                         \"Date Deceased\":PatientInfo_data[condition_deceased][\"Date Deceased\"] ,\\\n",
    "                         \"Days\": Calculate_Days,\\\n",
    "                         \"Exact Age\":PatientInfo_data[condition_deceased][\"Exact Age\"], \\\n",
    "                         \"Age\":PatientInfo_data[condition_deceased][\"Age\"], \\\n",
    "                         \"Sex\":PatientInfo_data[condition_deceased][\"sex\"] })\n",
    "    \n",
    "len(Deceased)"
   ]
  },
  {
   "cell_type": "code",
   "execution_count": null,
   "metadata": {},
   "outputs": [],
   "source": [
    "Day_one = Deceased[\"Date IN\"].min()\n",
    "Day_latest = Deceased[\"Date IN\"].max()\n",
    "print(f\"Day One\", Day_one)"
   ]
  },
  {
   "cell_type": "markdown",
   "metadata": {},
   "source": [
    "## Graph of Day One"
   ]
  },
  {
   "cell_type": "code",
   "execution_count": null,
   "metadata": {},
   "outputs": [],
   "source": [
    "df = Deceased[\"Date IN\"]==Day_one\n",
    "df.shape\n",
    "#df\n"
   ]
  },
  {
   "cell_type": "code",
   "execution_count": null,
   "metadata": {},
   "outputs": [],
   "source": [
    "ax = Deceased.hist(column=\"Exact Age\", bins=10, grid=False, figsize=(12,8), color='#bf0000', zorder=2, rwidth=0.9)\n",
    "\n",
    "ax = ax[0]\n",
    "for x in ax:\n",
    "\n",
    "    # Despine\n",
    "    x.spines['right'].set_visible(False)\n",
    "    x.spines['top'].set_visible(False)\n",
    "    x.spines['left'].set_visible(True)\n",
    "\n",
    "    # Switch off ticks\n",
    "    x.tick_params(axis=\"both\", which=\"both\", bottom=\"off\", top=\"off\", labelbottom=\"on\", left=\"off\", right=\"off\", labelleft=\"on\")\n",
    "\n",
    "    # Draw horizontal axis lines\n",
    "    vals = x.get_yticks()\n",
    "    for tick in vals:\n",
    "        x.axhline(y=tick, linestyle='dashed', alpha=0.4, color='#eeeeee', zorder=1)\n",
    "\n",
    "    # Remove title\n",
    "    x.set_title(\"Age of the Deceased vs Days in the Hospital\")\n",
    "\n",
    "    # Set x-axis label\n",
    "    x.set_xlabel(\"Age\", labelpad=10, weight='bold', size=12)\n",
    "\n",
    "    # Set y-axis label\n",
    "    x.set_ylabel(\"Days in Hospital\", labelpad=20, weight='bold', size=12)\n",
    "\n",
    "    # Format y-axis label\n",
    "    #x.yaxis.set_major_formatter(StrMethodFormatter('{x:,g}'))"
   ]
  },
  {
   "cell_type": "code",
   "execution_count": null,
   "metadata": {},
   "outputs": [],
   "source": [
    "Deceased[\"Date IN\"].min()"
   ]
  },
  {
   "cell_type": "code",
   "execution_count": null,
   "metadata": {},
   "outputs": [],
   "source": [
    "#Age distribution of the deceased\n",
    "plt.figure(figsize=(10,6))\n",
    "sns.set_style(\"darkgrid\")\n",
    "plt.title(\"Age distribution of the Deceased\")\n",
    "sns.kdeplot(data=Deceased['Age'], shade=True, color='grey')"
   ]
  },
  {
   "cell_type": "code",
   "execution_count": null,
   "metadata": {},
   "outputs": [],
   "source": [
    "condition_male = (Deceased[\"Sex\"]==\"male\")\n",
    "Deceased[condition_male]\n",
    "Deceased_male = Deceased[condition_male][\"Age\"]\n",
    "\n",
    "#Age distribution of the deceased\n",
    "plt.figure(figsize=(10,6))\n",
    "sns.set_style(\"darkgrid\")\n",
    "plt.title(\"Age distribution of the Deceased Male\")\n",
    "sns.kdeplot(data=Deceased_male, shade=True, color='darkblue')"
   ]
  },
  {
   "cell_type": "code",
   "execution_count": null,
   "metadata": {},
   "outputs": [],
   "source": [
    "condition_female = (Deceased[\"Sex\"]==\"female\")\n",
    "Deceased[condition_female]\n",
    "Deceased_female = Deceased[condition_female][\"Age\"]\n",
    "len(Deceased_female)"
   ]
  },
  {
   "cell_type": "code",
   "execution_count": null,
   "metadata": {},
   "outputs": [],
   "source": [
    "condition_female = (Deceased[\"Sex\"]==\"female\")\n",
    "Deceased[condition_female]\n",
    "Deceased_female = Deceased[condition_female][\"Age\"]\n",
    "\n",
    "#Age distribution of the deceased\n",
    "plt.figure(figsize=(10,6))\n",
    "sns.set_style(\"darkgrid\")\n",
    "plt.title(\"Age distribution of the Deceased Female\")\n",
    "sns.kdeplot(data=Deceased_female, shade=True, color='r', label=\"Age Women\")"
   ]
  },
  {
   "cell_type": "code",
   "execution_count": null,
   "metadata": {},
   "outputs": [],
   "source": [
    "plt.figure(figsize=(10,6))\n",
    "sns.set_style(\"darkgrid\")\n",
    "plt.title(\"Age distribution of the Deceased by Gender\")\n",
    "sns.kdeplot(data=Deceased['Age'], label=\"Deceased\", shade=True, color='grey', gridsize=100, cut=0.01)\n",
    "sns.kdeplot(data=Deceased_female, label=\"Deceased Female\", shade=True, color='red', gridsize=100, cut=0.01)\n",
    "sns.kdeplot(data=Deceased_male, label=\"Deceased Male\", shade=True, color='blue', gridsize=100, cut=0.01)\n",
    "#sns.kdeplot(data=Deceased_female, label=\"Deceased Women\", shade=True, color='red')\n",
    "#sns.kdeplot(data=Deceased_male,label=\"Deceased Male\" ,shade=True, color='blue')"
   ]
  },
  {
   "cell_type": "code",
   "execution_count": null,
   "metadata": {},
   "outputs": [],
   "source": [
    "Deceased_male = Deceased[condition_male][\"Age\"]\n",
    "Deceased_female = Deceased[condition_female][\"Age\"]\n",
    "plt.figure(figsize=(10,8))\n",
    "sns.set_style(\"darkgrid\")\n",
    "sns.distplot(a=Deceased_male, label=\"Men\", kde=False)\n",
    "sns.distplot(a=Deceased_female, label=\"Women\", kde=False)\n",
    "plt.title(\"Age distribution of the Deceased by Sex\")\n",
    "plt.legend()"
   ]
  },
  {
   "cell_type": "code",
   "execution_count": null,
   "metadata": {},
   "outputs": [],
   "source": [
    "sns.kdeplot(data=Deceased['Age'],label='Deceased', shade=True, color='r', cut=0)\n",
    "sns.kdeplot(data=Released['Age'],label='Released', shade=True, color='g', cut=0)\n",
    "sns.kdeplot(data=Isolated['Age'],label='Isolated', shade=True, color='cyan', cut=0)"
   ]
  },
  {
   "cell_type": "markdown",
   "metadata": {},
   "source": [
    "## Examine: Contact Number and State \"Deceased\""
   ]
  },
  {
   "cell_type": "code",
   "execution_count": null,
   "metadata": {},
   "outputs": [],
   "source": [
    "PatientInfo_data[\"contact_number\"]"
   ]
  },
  {
   "cell_type": "markdown",
   "metadata": {},
   "source": [
    "## Column contact_number represents how many contacts the Patient had. "
   ]
  },
  {
   "cell_type": "code",
   "execution_count": null,
   "metadata": {},
   "outputs": [],
   "source": [
    "Max_contact = PatientInfo_data[\"contact_number\"].max()\n",
    "\n",
    "super_max = Max_contact + 1\n",
    "\n",
    "\n",
    "Max_contact\n",
    "Max=int(Max_contact)\n",
    "Max"
   ]
  },
  {
   "cell_type": "code",
   "execution_count": null,
   "metadata": {},
   "outputs": [],
   "source": [
    "PatientInfo_data[\"contact_number\"].mean()"
   ]
  },
  {
   "cell_type": "code",
   "execution_count": null,
   "metadata": {},
   "outputs": [],
   "source": [
    "unique_number = PatientInfo_data[\"contact_number\"].unique()\n",
    "unique_number\n",
    "len(unique_number)"
   ]
  },
  {
   "cell_type": "code",
   "execution_count": null,
   "metadata": {},
   "outputs": [],
   "source": [
    "unique_number[0]"
   ]
  },
  {
   "cell_type": "code",
   "execution_count": null,
   "metadata": {},
   "outputs": [],
   "source": [
    "len(unique_number)\n",
    "check_point = len(unique_number)"
   ]
  },
  {
   "cell_type": "markdown",
   "metadata": {},
   "source": [
    "## Study: Relationship of Deceased with Contact Number"
   ]
  },
  {
   "cell_type": "code",
   "execution_count": null,
   "metadata": {},
   "outputs": [],
   "source": [
    "PatientInfo_data.head()\n",
    "PatientInfo_data.dtypes"
   ]
  },
  {
   "cell_type": "code",
   "execution_count": null,
   "metadata": {},
   "outputs": [],
   "source": [
    "condition_deceased = (PatientInfo_data[\"state\"]==\"deceased\")"
   ]
  },
  {
   "cell_type": "code",
   "execution_count": null,
   "metadata": {},
   "outputs": [],
   "source": [
    "PatientInfo_deceased = PatientInfo_data[condition_deceased]\n",
    "PatientInfo_deceased['infection_case']"
   ]
  },
  {
   "cell_type": "code",
   "execution_count": null,
   "metadata": {},
   "outputs": [],
   "source": [
    "total_deceased = len(PatientInfo_deceased)\n",
    "total_deceased"
   ]
  },
  {
   "cell_type": "code",
   "execution_count": null,
   "metadata": {},
   "outputs": [],
   "source": [
    "PatientInfo_data[\"state\"].unique()"
   ]
  },
  {
   "cell_type": "code",
   "execution_count": null,
   "metadata": {},
   "outputs": [],
   "source": [
    "condition_released = (PatientInfo_data[\"state\"]==\"released\")\n",
    "PatientInfo_data[condition_released][\"contact_number\"]"
   ]
  },
  {
   "cell_type": "code",
   "execution_count": null,
   "metadata": {},
   "outputs": [],
   "source": [
    "Released[\"Age\"].mean()"
   ]
  },
  {
   "cell_type": "code",
   "execution_count": null,
   "metadata": {},
   "outputs": [],
   "source": [
    "Released[\"Exact Age\"].mean()"
   ]
  },
  {
   "cell_type": "code",
   "execution_count": null,
   "metadata": {},
   "outputs": [],
   "source": [
    "Released[\"Age\"].min()"
   ]
  },
  {
   "cell_type": "code",
   "execution_count": null,
   "metadata": {},
   "outputs": [],
   "source": [
    "max=Released[\"Age\"].max()\n",
    "print(\"The Maximum age of the Patient RELEASED\")\n",
    "print(max)"
   ]
  },
  {
   "cell_type": "code",
   "execution_count": null,
   "metadata": {},
   "outputs": [],
   "source": [
    "number_deceased = []"
   ]
  },
  {
   "cell_type": "code",
   "execution_count": null,
   "metadata": {},
   "outputs": [],
   "source": [
    "n=0\n",
    "condition = ((PatientInfo_data[\"contact_number\"] == unique_number[n]))\n",
    "condition_study = condition_deceased & condition\n",
    "number_deceased.append(len(PatientInfo_data[condition_study]))\n",
    "\n",
    "PatientInfo_data[condition_study]"
   ]
  },
  {
   "cell_type": "code",
   "execution_count": null,
   "metadata": {},
   "outputs": [],
   "source": [
    "for n in range(check_point):\n",
    "    condition = ((PatientInfo_data[\"contact_number\"] == unique_number[n]))\n",
    "    condition_study = condition_deceased & condition\n",
    "    number_deceased.append(len(PatientInfo_data[condition_study]))\n",
    "    "
   ]
  },
  {
   "cell_type": "code",
   "execution_count": null,
   "metadata": {},
   "outputs": [],
   "source": [
    "if_contact_number = 10"
   ]
  },
  {
   "cell_type": "code",
   "execution_count": null,
   "metadata": {},
   "outputs": [],
   "source": [
    "condition = (PatientInfo_data[\"contact_number\"] >= if_contact_number)\n",
    "then_deceased = len(PatientInfo_data[condition])\n",
    "print(\"If contact number is :\" + str(if_contact_number))\n",
    "print(\"Then deceased is :\"+str(then_deceased))\n",
    "      \n",
    "PatientInfo_data[condition]"
   ]
  },
  {
   "cell_type": "code",
   "execution_count": null,
   "metadata": {},
   "outputs": [],
   "source": [
    "Avg_contact = PatientInfo_data[\"contact_number\"].mean()\n",
    "Avg_contact"
   ]
  },
  {
   "cell_type": "code",
   "execution_count": null,
   "metadata": {},
   "outputs": [],
   "source": [
    "Max_contact = PatientInfo_data[\"contact_number\"].max()\n",
    "\n",
    "condition_max = PatientInfo_data[\"contact_number\"]==Max_contact\n",
    "PatientInfo_data[condition_max]"
   ]
  },
  {
   "cell_type": "code",
   "execution_count": null,
   "metadata": {},
   "outputs": [],
   "source": [
    "Min_contact = PatientInfo_data[\"contact_number\"].min()"
   ]
  },
  {
   "cell_type": "code",
   "execution_count": null,
   "metadata": {},
   "outputs": [],
   "source": [
    "condition_zero = (PatientInfo_data[\"contact_number\"]== 0)"
   ]
  },
  {
   "cell_type": "markdown",
   "metadata": {},
   "source": [
    "Condition contact_number is non zero"
   ]
  },
  {
   "cell_type": "code",
   "execution_count": null,
   "metadata": {},
   "outputs": [],
   "source": [
    "condition_nonZero = PatientInfo_data[\"contact_number\"]> 0\n",
    "PatientInfo_data[condition_nonZero]"
   ]
  },
  {
   "cell_type": "code",
   "execution_count": null,
   "metadata": {},
   "outputs": [],
   "source": [
    "condition_deceased = (PatientInfo_data[\"state\"]==\"deceased\")\n",
    "PatientInfo_data[condition_deceased]\n",
    "len(PatientInfo_data[condition_deceased])"
   ]
  },
  {
   "cell_type": "code",
   "execution_count": null,
   "metadata": {},
   "outputs": [],
   "source": [
    "ages = PatientInfo_data[condition_deceased][\"age\"]  \n",
    "\n",
    "\n",
    "BeforeSymbol = PatientInfo_data[condition_deceased][\"age\"].str.split('s').str[0]\n",
    "\n",
    "\n",
    "    \n",
    "BeforeSymbol\n",
    "age_list = []\n",
    "\n",
    "for ages in BeforeSymbol:\n",
    "    if pd.notna(ages):\n",
    "        age_list.append(int(ages))\n",
    "    \n",
    "age_list\n",
    "sum = 0\n",
    "for age in age_list:\n",
    "    sum = sum + age\n",
    "    \n",
    "total = len(age_list)\n",
    "print(total)\n",
    "mean = 0\n",
    "mean = sum/total\n",
    "mean\n",
    "age_deceased = mean\n",
    "avg_age_deceased"
   ]
  },
  {
   "cell_type": "code",
   "execution_count": null,
   "metadata": {},
   "outputs": [],
   "source": [
    "condition_both = condition_nonZero & condition_deceased"
   ]
  },
  {
   "cell_type": "code",
   "execution_count": null,
   "metadata": {},
   "outputs": [],
   "source": [
    "len(PatientInfo_data[condition_both])"
   ]
  },
  {
   "cell_type": "code",
   "execution_count": null,
   "metadata": {},
   "outputs": [],
   "source": [
    "condition_both = condition_zero & condition_deceased\n",
    "len(PatientInfo_data[condition_both])"
   ]
  },
  {
   "cell_type": "markdown",
   "metadata": {},
   "source": [
    "## Patient MADE it"
   ]
  },
  {
   "cell_type": "code",
   "execution_count": null,
   "metadata": {},
   "outputs": [],
   "source": [
    "condition_alive = (PatientInfo_data[\"state\"]!=\"deceased\")"
   ]
  },
  {
   "cell_type": "code",
   "execution_count": null,
   "metadata": {},
   "outputs": [],
   "source": [
    "PatientInfo_data[condition_alive]"
   ]
  },
  {
   "cell_type": "code",
   "execution_count": null,
   "metadata": {},
   "outputs": [],
   "source": [
    "alive = len(PatientInfo_data[condition_alive])\n",
    "alive"
   ]
  },
  {
   "cell_type": "code",
   "execution_count": null,
   "metadata": {},
   "outputs": [],
   "source": [
    "avg_age_alive = PatientInfo_data[condition_alive][\"Exact Age\"].mean()  \n",
    "avg_age_alive"
   ]
  },
  {
   "cell_type": "markdown",
   "metadata": {},
   "source": [
    "## HighRisk Survivors"
   ]
  },
  {
   "cell_type": "code",
   "execution_count": null,
   "metadata": {},
   "outputs": [],
   "source": [
    "avg_age_deceased"
   ]
  },
  {
   "cell_type": "markdown",
   "metadata": {},
   "source": [
    "## Calculate How Many OVER the Average Age of the Deceased Made it Alive"
   ]
  },
  {
   "cell_type": "code",
   "execution_count": null,
   "metadata": {},
   "outputs": [],
   "source": [
    "condition_alive = (PatientInfo_data[\"state\"]!=\"deceased\")\n",
    "condition_HighRisk = PatientInfo_data[\"Exact Age\"]>= avg_age_deceased\n",
    "condition_HighRisk_Survivor = condition_alive & condition_HighRisk\n",
    "\n",
    "HighRisk_Survivor = PatientInfo_data[condition_HighRisk_Survivor]\n",
    "\n",
    "PatientInfo_data[condition_HighRisk_Survivor].groupby(\"patient_id\")\n",
    "\n",
    "HighRisk_Survivor_Count = len(PatientInfo_data[condition_HighRisk].groupby(\"patient_id\"))\n",
    "\n",
    "HighRisk_Survivor"
   ]
  },
  {
   "cell_type": "code",
   "execution_count": null,
   "metadata": {},
   "outputs": [],
   "source": [
    "condition_HighRisk_Survivor = condition_alive & condition_HighRisk\n",
    "for date in PatientInfo_data[condition_HighRisk_Survivor]:\n",
    "    Calculate_Days = PatientInfo_data[condition_HighRisk_Survivor][\"Date OUT\"] - PatientInfo_data[condition_HighRisk_Survivor][\"Date IN\"]\n",
    "\n",
    "Calculate_Days.mean()"
   ]
  },
  {
   "cell_type": "code",
   "execution_count": null,
   "metadata": {},
   "outputs": [],
   "source": [
    "HighRisk_Survivor_Days = Calculate_Days.mean()"
   ]
  },
  {
   "cell_type": "code",
   "execution_count": null,
   "metadata": {},
   "outputs": [],
   "source": [
    "HighRisk_Survivor[\"Exact Age\"].mean()"
   ]
  },
  {
   "cell_type": "code",
   "execution_count": null,
   "metadata": {},
   "outputs": [],
   "source": [
    "HighRisk_Survivor[\"Age\"].mean()"
   ]
  },
  {
   "cell_type": "code",
   "execution_count": null,
   "metadata": {},
   "outputs": [],
   "source": [
    "HighRisk_Survivor[\"province\"].unique()"
   ]
  },
  {
   "cell_type": "code",
   "execution_count": null,
   "metadata": {},
   "outputs": [],
   "source": [
    "HighRisk_Survivor[\"infection_case\"].unique()"
   ]
  },
  {
   "cell_type": "code",
   "execution_count": null,
   "metadata": {},
   "outputs": [],
   "source": [
    "plt.figure(figsize=(15,5))\n",
    "plt.title('High Risk Survivor Infection reason')\n",
    "HighRisk_Survivor[\"infection_case\"].value_counts().plot.barh();"
   ]
  },
  {
   "cell_type": "code",
   "execution_count": null,
   "metadata": {},
   "outputs": [],
   "source": [
    "Name_Changers = {'overseas inflow': \"Overseas Inflow\", \\\n",
    "                'contact with patient': 'Contact with Patient', \\\n",
    "                'Seongdong-gu APT': 'Seongdong-gu APT', \\\n",
    "                'River of Grace Community Church': 'Grace Community Church', \\\n",
    "                'gym facility in Sejong': 'Gym Sejong', \\\n",
    "                \"Eunpyeong St. Mary's Hospital\":\"St. Mary's Hospital\", \\\n",
    "                 \"Ministry of Oceans and Fisheries\": \"Oceans and Fisheries\", \\\n",
    "                \"etc\": \"Other\", \\\n",
    "                'Guro-gu Call Center':'Call Center'}"
   ]
  },
  {
   "cell_type": "code",
   "execution_count": null,
   "metadata": {},
   "outputs": [],
   "source": [
    "HighRisk_Survivor[\"infection_case\"].replace(Name_Changers, inplace=True)"
   ]
  },
  {
   "cell_type": "code",
   "execution_count": null,
   "metadata": {},
   "outputs": [],
   "source": [
    "plt.figure(figsize=(15,5))\n",
    "plt.title('High Risk Survivor Infection reason')\n",
    "HighRisk_Survivor[\"infection_case\"].value_counts().plot.barh(color='purple');\n",
    "plt.savefig('HighRiskInfection_Reason.pdf')"
   ]
  },
  {
   "cell_type": "code",
   "execution_count": null,
   "metadata": {},
   "outputs": [],
   "source": []
  },
  {
   "cell_type": "markdown",
   "metadata": {},
   "source": [
    "## Contact Number"
   ]
  },
  {
   "cell_type": "code",
   "execution_count": null,
   "metadata": {},
   "outputs": [],
   "source": [
    "HighRisk_Survivor_Count"
   ]
  },
  {
   "cell_type": "code",
   "execution_count": null,
   "metadata": {},
   "outputs": [],
   "source": [
    "contact = pd.DataFrame()\n",
    "contact[\"Age\"] = PatientInfo_data[\"Age\"]\n",
    "contact[\"Contact\"] = PatientInfo_data[\"contact_number\"]"
   ]
  },
  {
   "cell_type": "code",
   "execution_count": null,
   "metadata": {},
   "outputs": [],
   "source": [
    "plt.figure(figsize=(15,5))\n",
    "plt.title('Age vs Contact')\n",
    "contact[\"Age\"].value_counts().plot.bar();"
   ]
  },
  {
   "cell_type": "code",
   "execution_count": null,
   "metadata": {},
   "outputs": [],
   "source": []
  },
  {
   "cell_type": "code",
   "execution_count": null,
   "metadata": {},
   "outputs": [],
   "source": [
    "x = Gender[\"Male\"]\n",
    "y = Gender[\"Female\"]\n",
    "ax = sns.kdeplot(x, x, shade=True, cmap='Reds')\n",
    "#ax = sns.kdeplot(y, y, shade=True, cmap='Blues')"
   ]
  },
  {
   "cell_type": "code",
   "execution_count": null,
   "metadata": {},
   "outputs": [],
   "source": [
    "contact"
   ]
  },
  {
   "cell_type": "code",
   "execution_count": null,
   "metadata": {},
   "outputs": [],
   "source": []
  },
  {
   "cell_type": "code",
   "execution_count": null,
   "metadata": {},
   "outputs": [],
   "source": []
  }
 ],
 "metadata": {
  "kernelspec": {
   "display_name": "Python 3",
   "language": "python",
   "name": "python3"
  },
  "language_info": {
   "codemirror_mode": {
    "name": "ipython",
    "version": 3
   },
   "file_extension": ".py",
   "mimetype": "text/x-python",
   "name": "python",
   "nbconvert_exporter": "python",
   "pygments_lexer": "ipython3",
   "version": "3.7.4"
  }
 },
 "nbformat": 4,
 "nbformat_minor": 2
}
