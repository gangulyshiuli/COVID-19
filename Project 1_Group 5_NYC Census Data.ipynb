{
 "cells": [
  {
   "cell_type": "code",
   "execution_count": 2,
   "metadata": {},
   "outputs": [],
   "source": [
    "# Import Dependencies\n",
    "import matplotlib.pyplot as plt\n",
    "import pandas as pd\n",
    "import scipy.stats as st\n",
    "import numpy as np"
   ]
  },
  {
   "cell_type": "code",
   "execution_count": 3,
   "metadata": {},
   "outputs": [
    {
     "data": {
      "text/plain": [
       "(44, 16)"
      ]
     },
     "execution_count": 3,
     "metadata": {},
     "output_type": "execute_result"
    }
   ],
   "source": [
    "# Import Data\n",
    "nyccensus_string = 'NYC_Census Data.csv'\n",
    "nyccensus_df = pd.read_csv(nyccensus_string)\n",
    "nyccensus_df.shape"
   ]
  },
  {
   "cell_type": "code",
   "execution_count": 4,
   "metadata": {},
   "outputs": [
    {
     "data": {
      "text/plain": [
       "Unnamed: 0                 object\n",
       "Unnamed: 1                 object\n",
       "Unnamed: 2                 object\n",
       "Unnamed: 3                 object\n",
       "New York city, New York    object\n",
       "Unnamed: 5                 object\n",
       "Unnamed: 6                 object\n",
       "Unnamed: 7                 object\n",
       "Unnamed: 8                 object\n",
       "Unnamed: 9                 object\n",
       "Unnamed: 10                object\n",
       "Unnamed: 11                object\n",
       "Unnamed: 12                object\n",
       "Unnamed: 13                object\n",
       "Unnamed: 14                object\n",
       "Unnamed: 15                object\n",
       "dtype: object"
      ]
     },
     "execution_count": 4,
     "metadata": {},
     "output_type": "execute_result"
    }
   ],
   "source": [
    "nyccensus_df.dtypes"
   ]
  },
  {
   "cell_type": "code",
   "execution_count": 32,
   "metadata": {},
   "outputs": [
    {
     "data": {
      "text/html": [
       "<div>\n",
       "<style scoped>\n",
       "    .dataframe tbody tr th:only-of-type {\n",
       "        vertical-align: middle;\n",
       "    }\n",
       "\n",
       "    .dataframe tbody tr th {\n",
       "        vertical-align: top;\n",
       "    }\n",
       "\n",
       "    .dataframe thead th {\n",
       "        text-align: right;\n",
       "    }\n",
       "</style>\n",
       "<table border=\"1\" class=\"dataframe\">\n",
       "  <thead>\n",
       "    <tr style=\"text-align: right;\">\n",
       "      <th></th>\n",
       "      <th>Age Range</th>\n",
       "      <th>Total Males</th>\n",
       "      <th>Total Females</th>\n",
       "    </tr>\n",
       "  </thead>\n",
       "  <tbody>\n",
       "    <tr>\n",
       "      <td>5</td>\n",
       "      <td>5 to 9 years</td>\n",
       "      <td>228,933</td>\n",
       "      <td>223,976</td>\n",
       "    </tr>\n",
       "    <tr>\n",
       "      <td>6</td>\n",
       "      <td>10 to 14 years</td>\n",
       "      <td>248,637</td>\n",
       "      <td>235,312</td>\n",
       "    </tr>\n",
       "    <tr>\n",
       "      <td>7</td>\n",
       "      <td>15 to 19 years</td>\n",
       "      <td>223,434</td>\n",
       "      <td>221,477</td>\n",
       "    </tr>\n",
       "    <tr>\n",
       "      <td>8</td>\n",
       "      <td>20 to 24 years</td>\n",
       "      <td>256,754</td>\n",
       "      <td>276,412</td>\n",
       "    </tr>\n",
       "    <tr>\n",
       "      <td>9</td>\n",
       "      <td>25 to 29 years</td>\n",
       "      <td>377,437</td>\n",
       "      <td>399,501</td>\n",
       "    </tr>\n",
       "    <tr>\n",
       "      <td>10</td>\n",
       "      <td>30 to 34 years</td>\n",
       "      <td>355,646</td>\n",
       "      <td>367,448</td>\n",
       "    </tr>\n",
       "    <tr>\n",
       "      <td>11</td>\n",
       "      <td>35 to 39 years</td>\n",
       "      <td>295,265</td>\n",
       "      <td>312,491</td>\n",
       "    </tr>\n",
       "    <tr>\n",
       "      <td>12</td>\n",
       "      <td>40 to 44 years</td>\n",
       "      <td>261,209</td>\n",
       "      <td>278,183</td>\n",
       "    </tr>\n",
       "    <tr>\n",
       "      <td>13</td>\n",
       "      <td>45 to 49 years</td>\n",
       "      <td>253,695</td>\n",
       "      <td>274,776</td>\n",
       "    </tr>\n",
       "    <tr>\n",
       "      <td>14</td>\n",
       "      <td>50 to 54 years</td>\n",
       "      <td>251,279</td>\n",
       "      <td>276,124</td>\n",
       "    </tr>\n",
       "    <tr>\n",
       "      <td>15</td>\n",
       "      <td>55 to 59 years</td>\n",
       "      <td>250,240</td>\n",
       "      <td>267,155</td>\n",
       "    </tr>\n",
       "    <tr>\n",
       "      <td>16</td>\n",
       "      <td>60 to 64 years</td>\n",
       "      <td>215,120</td>\n",
       "      <td>267,696</td>\n",
       "    </tr>\n",
       "    <tr>\n",
       "      <td>17</td>\n",
       "      <td>65 to 69 years</td>\n",
       "      <td>174,798</td>\n",
       "      <td>214,713</td>\n",
       "    </tr>\n",
       "    <tr>\n",
       "      <td>18</td>\n",
       "      <td>70 to 74 years</td>\n",
       "      <td>131,645</td>\n",
       "      <td>178,780</td>\n",
       "    </tr>\n",
       "    <tr>\n",
       "      <td>19</td>\n",
       "      <td>75 to 79 years</td>\n",
       "      <td>92,373</td>\n",
       "      <td>134,701</td>\n",
       "    </tr>\n",
       "    <tr>\n",
       "      <td>20</td>\n",
       "      <td>80 to 84 years</td>\n",
       "      <td>61,833</td>\n",
       "      <td>96,270</td>\n",
       "    </tr>\n",
       "    <tr>\n",
       "      <td>21</td>\n",
       "      <td>85 years and over</td>\n",
       "      <td>52,287</td>\n",
       "      <td>108,080</td>\n",
       "    </tr>\n",
       "  </tbody>\n",
       "</table>\n",
       "</div>"
      ],
      "text/plain": [
       "            Age Range Total Males Total Females\n",
       "5        5 to 9 years     228,933       223,976\n",
       "6      10 to 14 years     248,637       235,312\n",
       "7      15 to 19 years     223,434       221,477\n",
       "8      20 to 24 years     256,754       276,412\n",
       "9      25 to 29 years     377,437       399,501\n",
       "10     30 to 34 years     355,646       367,448\n",
       "11     35 to 39 years     295,265       312,491\n",
       "12     40 to 44 years     261,209       278,183\n",
       "13     45 to 49 years     253,695       274,776\n",
       "14     50 to 54 years     251,279       276,124\n",
       "15     55 to 59 years     250,240       267,155\n",
       "16     60 to 64 years     215,120       267,696\n",
       "17     65 to 69 years     174,798       214,713\n",
       "18     70 to 74 years     131,645       178,780\n",
       "19     75 to 79 years      92,373       134,701\n",
       "20     80 to 84 years      61,833        96,270\n",
       "21  85 years and over      52,287       108,080"
      ]
     },
     "execution_count": 32,
     "metadata": {},
     "output_type": "execute_result"
    }
   ],
   "source": [
    "newrows = nyccensus_df[5:22]\n",
    "newcolumns = newrows[[\"Unnamed: 0\", \"Unnamed: 8\", \"Unnamed: 12\"]].copy()\n",
    "newcolumns.columns = ['Age Range', 'Total Males', 'Total Females']\n",
    "\n",
    "newcolumns"
   ]
  },
  {
   "cell_type": "code",
   "execution_count": null,
   "metadata": {},
   "outputs": [],
   "source": []
  }
 ],
 "metadata": {
  "kernelspec": {
   "display_name": "Python 3",
   "language": "python",
   "name": "python3"
  },
  "language_info": {
   "codemirror_mode": {
    "name": "ipython",
    "version": 3
   },
   "file_extension": ".py",
   "mimetype": "text/x-python",
   "name": "python",
   "nbconvert_exporter": "python",
   "pygments_lexer": "ipython3",
   "version": "3.7.4"
  }
 },
 "nbformat": 4,
 "nbformat_minor": 2
}
